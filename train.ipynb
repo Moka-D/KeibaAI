{
 "cells": [
  {
   "cell_type": "code",
   "execution_count": 1,
   "metadata": {},
   "outputs": [],
   "source": [
    "%load_ext autoreload\n",
    "%autoreload 2"
   ]
  },
  {
   "cell_type": "code",
   "execution_count": 2,
   "metadata": {},
   "outputs": [],
   "source": [
    "import pandas as pd\n",
    "from common.db_config import db_config\n",
    "from tqdm.notebook import tqdm\n",
    "from common.data_processor import *\n",
    "from common.utils import split_data\n",
    "import optuna.integration.lightgbm as lgb_o\n",
    "import lightgbm as lgb"
   ]
  },
  {
   "cell_type": "code",
   "execution_count": 9,
   "metadata": {},
   "outputs": [
    {
     "data": {
      "text/html": [
       "<div>\n",
       "<style scoped>\n",
       "    .dataframe tbody tr th:only-of-type {\n",
       "        vertical-align: middle;\n",
       "    }\n",
       "\n",
       "    .dataframe tbody tr th {\n",
       "        vertical-align: top;\n",
       "    }\n",
       "\n",
       "    .dataframe thead th {\n",
       "        text-align: right;\n",
       "    }\n",
       "</style>\n",
       "<table border=\"1\" class=\"dataframe\">\n",
       "  <thead>\n",
       "    <tr style=\"text-align: right;\">\n",
       "      <th></th>\n",
       "      <th>horse_no</th>\n",
       "      <th>frame_no</th>\n",
       "      <th>horse_id</th>\n",
       "      <th>impost</th>\n",
       "      <th>jockey_id</th>\n",
       "      <th>trainer_id</th>\n",
       "      <th>date</th>\n",
       "      <th>place_id</th>\n",
       "      <th>hold_no</th>\n",
       "      <th>hold_day</th>\n",
       "      <th>...</th>\n",
       "      <th>ground</th>\n",
       "      <th>weather</th>\n",
       "      <th>horse_num</th>\n",
       "      <th>month</th>\n",
       "      <th>rank</th>\n",
       "      <th>sex</th>\n",
       "      <th>age</th>\n",
       "      <th>weight</th>\n",
       "      <th>weight_change</th>\n",
       "      <th>win_prise</th>\n",
       "    </tr>\n",
       "    <tr>\n",
       "      <th>race_id</th>\n",
       "      <th></th>\n",
       "      <th></th>\n",
       "      <th></th>\n",
       "      <th></th>\n",
       "      <th></th>\n",
       "      <th></th>\n",
       "      <th></th>\n",
       "      <th></th>\n",
       "      <th></th>\n",
       "      <th></th>\n",
       "      <th></th>\n",
       "      <th></th>\n",
       "      <th></th>\n",
       "      <th></th>\n",
       "      <th></th>\n",
       "      <th></th>\n",
       "      <th></th>\n",
       "      <th></th>\n",
       "      <th></th>\n",
       "      <th></th>\n",
       "      <th></th>\n",
       "    </tr>\n",
       "  </thead>\n",
       "  <tbody>\n",
       "    <tr>\n",
       "      <th>201601010101</th>\n",
       "      <td>6</td>\n",
       "      <td>6</td>\n",
       "      <td>2014102322</td>\n",
       "      <td>52.0</td>\n",
       "      <td>01151</td>\n",
       "      <td>01024</td>\n",
       "      <td>2016-07-30</td>\n",
       "      <td>1</td>\n",
       "      <td>1</td>\n",
       "      <td>1</td>\n",
       "      <td>...</td>\n",
       "      <td>良</td>\n",
       "      <td>曇</td>\n",
       "      <td>10</td>\n",
       "      <td>20</td>\n",
       "      <td>1</td>\n",
       "      <td>牝</td>\n",
       "      <td>2</td>\n",
       "      <td>434</td>\n",
       "      <td>-4</td>\n",
       "      <td>500.0</td>\n",
       "    </tr>\n",
       "    <tr>\n",
       "      <th>201601010101</th>\n",
       "      <td>2</td>\n",
       "      <td>2</td>\n",
       "      <td>2014105971</td>\n",
       "      <td>54.0</td>\n",
       "      <td>00700</td>\n",
       "      <td>01066</td>\n",
       "      <td>2016-07-30</td>\n",
       "      <td>1</td>\n",
       "      <td>1</td>\n",
       "      <td>1</td>\n",
       "      <td>...</td>\n",
       "      <td>良</td>\n",
       "      <td>曇</td>\n",
       "      <td>10</td>\n",
       "      <td>20</td>\n",
       "      <td>1</td>\n",
       "      <td>牡</td>\n",
       "      <td>2</td>\n",
       "      <td>438</td>\n",
       "      <td>-2</td>\n",
       "      <td>500.0</td>\n",
       "    </tr>\n",
       "    <tr>\n",
       "      <th>201601010101</th>\n",
       "      <td>5</td>\n",
       "      <td>5</td>\n",
       "      <td>2014100723</td>\n",
       "      <td>54.0</td>\n",
       "      <td>01091</td>\n",
       "      <td>00359</td>\n",
       "      <td>2016-07-30</td>\n",
       "      <td>1</td>\n",
       "      <td>1</td>\n",
       "      <td>1</td>\n",
       "      <td>...</td>\n",
       "      <td>良</td>\n",
       "      <td>曇</td>\n",
       "      <td>10</td>\n",
       "      <td>20</td>\n",
       "      <td>1</td>\n",
       "      <td>牡</td>\n",
       "      <td>2</td>\n",
       "      <td>458</td>\n",
       "      <td>-2</td>\n",
       "      <td>500.0</td>\n",
       "    </tr>\n",
       "    <tr>\n",
       "      <th>201601010101</th>\n",
       "      <td>4</td>\n",
       "      <td>4</td>\n",
       "      <td>2014105192</td>\n",
       "      <td>51.0</td>\n",
       "      <td>01163</td>\n",
       "      <td>01046</td>\n",
       "      <td>2016-07-30</td>\n",
       "      <td>1</td>\n",
       "      <td>1</td>\n",
       "      <td>1</td>\n",
       "      <td>...</td>\n",
       "      <td>良</td>\n",
       "      <td>曇</td>\n",
       "      <td>10</td>\n",
       "      <td>20</td>\n",
       "      <td>0</td>\n",
       "      <td>牡</td>\n",
       "      <td>2</td>\n",
       "      <td>500</td>\n",
       "      <td>-4</td>\n",
       "      <td>500.0</td>\n",
       "    </tr>\n",
       "    <tr>\n",
       "      <th>201601010101</th>\n",
       "      <td>3</td>\n",
       "      <td>3</td>\n",
       "      <td>2014106056</td>\n",
       "      <td>54.0</td>\n",
       "      <td>01014</td>\n",
       "      <td>01058</td>\n",
       "      <td>2016-07-30</td>\n",
       "      <td>1</td>\n",
       "      <td>1</td>\n",
       "      <td>1</td>\n",
       "      <td>...</td>\n",
       "      <td>良</td>\n",
       "      <td>曇</td>\n",
       "      <td>10</td>\n",
       "      <td>20</td>\n",
       "      <td>0</td>\n",
       "      <td>牡</td>\n",
       "      <td>2</td>\n",
       "      <td>468</td>\n",
       "      <td>2</td>\n",
       "      <td>500.0</td>\n",
       "    </tr>\n",
       "  </tbody>\n",
       "</table>\n",
       "<p>5 rows × 24 columns</p>\n",
       "</div>"
      ],
      "text/plain": [
       "              horse_no  frame_no    horse_id  impost jockey_id trainer_id  \\\n",
       "race_id                                                                     \n",
       "201601010101         6         6  2014102322    52.0     01151      01024   \n",
       "201601010101         2         2  2014105971    54.0     00700      01066   \n",
       "201601010101         5         5  2014100723    54.0     01091      00359   \n",
       "201601010101         4         4  2014105192    51.0     01163      01046   \n",
       "201601010101         3         3  2014106056    54.0     01014      01058   \n",
       "\n",
       "                   date  place_id  hold_no  hold_day  ...  ground  weather  \\\n",
       "race_id                                               ...                    \n",
       "201601010101 2016-07-30         1        1         1  ...       良        曇   \n",
       "201601010101 2016-07-30         1        1         1  ...       良        曇   \n",
       "201601010101 2016-07-30         1        1         1  ...       良        曇   \n",
       "201601010101 2016-07-30         1        1         1  ...       良        曇   \n",
       "201601010101 2016-07-30         1        1         1  ...       良        曇   \n",
       "\n",
       "             horse_num month rank sex  age  weight  weight_change win_prise  \n",
       "race_id                                                                      \n",
       "201601010101        10    20    1   牝    2     434             -4     500.0  \n",
       "201601010101        10    20    1   牡    2     438             -2     500.0  \n",
       "201601010101        10    20    1   牡    2     458             -2     500.0  \n",
       "201601010101        10    20    0   牡    2     500             -4     500.0  \n",
       "201601010101        10    20    0   牡    2     468              2     500.0  \n",
       "\n",
       "[5 rows x 24 columns]"
      ]
     },
     "execution_count": 9,
     "metadata": {},
     "output_type": "execute_result"
    }
   ],
   "source": [
    "r = Results.read_db(db_config['main'], begin_date=20150101, end_date=20211231, flat_only=True)\n",
    "r.data_p.head()"
   ]
  },
  {
   "cell_type": "code",
   "execution_count": 10,
   "metadata": {},
   "outputs": [
    {
     "data": {
      "text/html": [
       "<div>\n",
       "<style scoped>\n",
       "    .dataframe tbody tr th:only-of-type {\n",
       "        vertical-align: middle;\n",
       "    }\n",
       "\n",
       "    .dataframe tbody tr th {\n",
       "        vertical-align: top;\n",
       "    }\n",
       "\n",
       "    .dataframe thead th {\n",
       "        text-align: right;\n",
       "    }\n",
       "</style>\n",
       "<table border=\"1\" class=\"dataframe\">\n",
       "  <thead>\n",
       "    <tr style=\"text-align: right;\">\n",
       "      <th></th>\n",
       "      <th>race_id</th>\n",
       "      <th>date</th>\n",
       "      <th>place_id</th>\n",
       "      <th>weather</th>\n",
       "      <th>race_no</th>\n",
       "      <th>horse_no</th>\n",
       "      <th>win_odds</th>\n",
       "      <th>popularity</th>\n",
       "      <th>arriving_order</th>\n",
       "      <th>ground</th>\n",
       "      <th>goal_time</th>\n",
       "      <th>race_type</th>\n",
       "      <th>distance</th>\n",
       "      <th>ground</th>\n",
       "      <th>time_diff</th>\n",
       "      <th>corner_pass</th>\n",
       "      <th>last_three_furlong</th>\n",
       "      <th>prise</th>\n",
       "      <th>first_corner</th>\n",
       "      <th>last_corner</th>\n",
       "    </tr>\n",
       "    <tr>\n",
       "      <th>horse_id</th>\n",
       "      <th></th>\n",
       "      <th></th>\n",
       "      <th></th>\n",
       "      <th></th>\n",
       "      <th></th>\n",
       "      <th></th>\n",
       "      <th></th>\n",
       "      <th></th>\n",
       "      <th></th>\n",
       "      <th></th>\n",
       "      <th></th>\n",
       "      <th></th>\n",
       "      <th></th>\n",
       "      <th></th>\n",
       "      <th></th>\n",
       "      <th></th>\n",
       "      <th></th>\n",
       "      <th></th>\n",
       "      <th></th>\n",
       "      <th></th>\n",
       "    </tr>\n",
       "  </thead>\n",
       "  <tbody>\n",
       "    <tr>\n",
       "      <th>2005105204</th>\n",
       "      <td>201605050508</td>\n",
       "      <td>2016-11-19</td>\n",
       "      <td>5</td>\n",
       "      <td>小雨</td>\n",
       "      <td>8</td>\n",
       "      <td>1</td>\n",
       "      <td>26.1</td>\n",
       "      <td>6.0</td>\n",
       "      <td>12.0</td>\n",
       "      <td>稍</td>\n",
       "      <td>219.1</td>\n",
       "      <td>障害</td>\n",
       "      <td>3110</td>\n",
       "      <td>稍</td>\n",
       "      <td>4.4</td>\n",
       "      <td>3-3-5-6</td>\n",
       "      <td>14.1</td>\n",
       "      <td>0.0</td>\n",
       "      <td>3.0</td>\n",
       "      <td>6.0</td>\n",
       "    </tr>\n",
       "    <tr>\n",
       "      <th>2005105204</th>\n",
       "      <td>201604030104</td>\n",
       "      <td>2016-10-15</td>\n",
       "      <td>4</td>\n",
       "      <td>晴</td>\n",
       "      <td>4</td>\n",
       "      <td>13</td>\n",
       "      <td>3.0</td>\n",
       "      <td>1.0</td>\n",
       "      <td>1.0</td>\n",
       "      <td>良</td>\n",
       "      <td>186.2</td>\n",
       "      <td>障害</td>\n",
       "      <td>2850</td>\n",
       "      <td>良</td>\n",
       "      <td>-1.2</td>\n",
       "      <td>2-2-1-1</td>\n",
       "      <td>13.1</td>\n",
       "      <td>750.0</td>\n",
       "      <td>2.0</td>\n",
       "      <td>1.0</td>\n",
       "    </tr>\n",
       "    <tr>\n",
       "      <th>2005105204</th>\n",
       "      <td>201604010301</td>\n",
       "      <td>2016-05-07</td>\n",
       "      <td>4</td>\n",
       "      <td>雨</td>\n",
       "      <td>1</td>\n",
       "      <td>12</td>\n",
       "      <td>2.8</td>\n",
       "      <td>1.0</td>\n",
       "      <td>4.0</td>\n",
       "      <td>稍</td>\n",
       "      <td>193.1</td>\n",
       "      <td>障害</td>\n",
       "      <td>2890</td>\n",
       "      <td>稍</td>\n",
       "      <td>1.7</td>\n",
       "      <td>1-1-1-1</td>\n",
       "      <td>13.4</td>\n",
       "      <td>110.0</td>\n",
       "      <td>1.0</td>\n",
       "      <td>1.0</td>\n",
       "    </tr>\n",
       "    <tr>\n",
       "      <th>2005105204</th>\n",
       "      <td>201603010204</td>\n",
       "      <td>2016-04-10</td>\n",
       "      <td>3</td>\n",
       "      <td>晴</td>\n",
       "      <td>4</td>\n",
       "      <td>1</td>\n",
       "      <td>2.4</td>\n",
       "      <td>1.0</td>\n",
       "      <td>4.0</td>\n",
       "      <td>良</td>\n",
       "      <td>180.5</td>\n",
       "      <td>障害</td>\n",
       "      <td>2750</td>\n",
       "      <td>良</td>\n",
       "      <td>0.9</td>\n",
       "      <td>7-6-5-5</td>\n",
       "      <td>13.1</td>\n",
       "      <td>110.0</td>\n",
       "      <td>7.0</td>\n",
       "      <td>5.0</td>\n",
       "    </tr>\n",
       "    <tr>\n",
       "      <th>2005105204</th>\n",
       "      <td>201607020205</td>\n",
       "      <td>2016-03-13</td>\n",
       "      <td>7</td>\n",
       "      <td>曇</td>\n",
       "      <td>5</td>\n",
       "      <td>1</td>\n",
       "      <td>6.9</td>\n",
       "      <td>3.0</td>\n",
       "      <td>2.0</td>\n",
       "      <td>良</td>\n",
       "      <td>197.8</td>\n",
       "      <td>障害</td>\n",
       "      <td>3000</td>\n",
       "      <td>良</td>\n",
       "      <td>0.1</td>\n",
       "      <td>9-8-5-2</td>\n",
       "      <td>13.2</td>\n",
       "      <td>300.0</td>\n",
       "      <td>9.0</td>\n",
       "      <td>2.0</td>\n",
       "    </tr>\n",
       "  </tbody>\n",
       "</table>\n",
       "</div>"
      ],
      "text/plain": [
       "                 race_id       date place_id weather  race_no  horse_no  \\\n",
       "horse_id                                                                  \n",
       "2005105204  201605050508 2016-11-19        5      小雨        8         1   \n",
       "2005105204  201604030104 2016-10-15        4       晴        4        13   \n",
       "2005105204  201604010301 2016-05-07        4       雨        1        12   \n",
       "2005105204  201603010204 2016-04-10        3       晴        4         1   \n",
       "2005105204  201607020205 2016-03-13        7       曇        5         1   \n",
       "\n",
       "            win_odds  popularity  arriving_order ground  goal_time race_type  \\\n",
       "horse_id                                                                       \n",
       "2005105204      26.1         6.0            12.0      稍      219.1        障害   \n",
       "2005105204       3.0         1.0             1.0      良      186.2        障害   \n",
       "2005105204       2.8         1.0             4.0      稍      193.1        障害   \n",
       "2005105204       2.4         1.0             4.0      良      180.5        障害   \n",
       "2005105204       6.9         3.0             2.0      良      197.8        障害   \n",
       "\n",
       "            distance ground  time_diff corner_pass  last_three_furlong  prise  \\\n",
       "horse_id                                                                        \n",
       "2005105204      3110      稍        4.4     3-3-5-6                14.1    0.0   \n",
       "2005105204      2850      良       -1.2     2-2-1-1                13.1  750.0   \n",
       "2005105204      2890      稍        1.7     1-1-1-1                13.4  110.0   \n",
       "2005105204      2750      良        0.9     7-6-5-5                13.1  110.0   \n",
       "2005105204      3000      良        0.1     9-8-5-2                13.2  300.0   \n",
       "\n",
       "            first_corner  last_corner  \n",
       "horse_id                               \n",
       "2005105204           3.0          6.0  \n",
       "2005105204           2.0          1.0  \n",
       "2005105204           1.0          1.0  \n",
       "2005105204           7.0          5.0  \n",
       "2005105204           9.0          2.0  "
      ]
     },
     "execution_count": 10,
     "metadata": {},
     "output_type": "execute_result"
    }
   ],
   "source": [
    "hr = HorseResults.read_db(db_config['main'])\n",
    "hr.data_p.head()"
   ]
  },
  {
   "cell_type": "code",
   "execution_count": 11,
   "metadata": {},
   "outputs": [
    {
     "name": "stderr",
     "output_type": "stream",
     "text": [
      "100%|██████████| 652/652 [04:23<00:00,  2.47it/s]\n"
     ]
    },
    {
     "data": {
      "text/html": [
       "<div>\n",
       "<style scoped>\n",
       "    .dataframe tbody tr th:only-of-type {\n",
       "        vertical-align: middle;\n",
       "    }\n",
       "\n",
       "    .dataframe tbody tr th {\n",
       "        vertical-align: top;\n",
       "    }\n",
       "\n",
       "    .dataframe thead th {\n",
       "        text-align: right;\n",
       "    }\n",
       "</style>\n",
       "<table border=\"1\" class=\"dataframe\">\n",
       "  <thead>\n",
       "    <tr style=\"text-align: right;\">\n",
       "      <th></th>\n",
       "      <th>horse_no</th>\n",
       "      <th>frame_no</th>\n",
       "      <th>horse_id</th>\n",
       "      <th>impost</th>\n",
       "      <th>jockey_id</th>\n",
       "      <th>trainer_id</th>\n",
       "      <th>date</th>\n",
       "      <th>place_id</th>\n",
       "      <th>hold_no</th>\n",
       "      <th>hold_day</th>\n",
       "      <th>...</th>\n",
       "      <th>win_prise</th>\n",
       "      <th>l_days</th>\n",
       "      <th>arriving_order_5R</th>\n",
       "      <th>popularity_5R</th>\n",
       "      <th>distance_5R</th>\n",
       "      <th>time_diff_5R</th>\n",
       "      <th>last_three_furlong_5R</th>\n",
       "      <th>first_corner_5R</th>\n",
       "      <th>last_corner_5R</th>\n",
       "      <th>prise_5R</th>\n",
       "    </tr>\n",
       "    <tr>\n",
       "      <th>race_id</th>\n",
       "      <th></th>\n",
       "      <th></th>\n",
       "      <th></th>\n",
       "      <th></th>\n",
       "      <th></th>\n",
       "      <th></th>\n",
       "      <th></th>\n",
       "      <th></th>\n",
       "      <th></th>\n",
       "      <th></th>\n",
       "      <th></th>\n",
       "      <th></th>\n",
       "      <th></th>\n",
       "      <th></th>\n",
       "      <th></th>\n",
       "      <th></th>\n",
       "      <th></th>\n",
       "      <th></th>\n",
       "      <th></th>\n",
       "      <th></th>\n",
       "      <th></th>\n",
       "    </tr>\n",
       "  </thead>\n",
       "  <tbody>\n",
       "    <tr>\n",
       "      <th>201601010101</th>\n",
       "      <td>6</td>\n",
       "      <td>6</td>\n",
       "      <td>2014102322</td>\n",
       "      <td>52.0</td>\n",
       "      <td>01151</td>\n",
       "      <td>01024</td>\n",
       "      <td>2016-07-30</td>\n",
       "      <td>1</td>\n",
       "      <td>1</td>\n",
       "      <td>1</td>\n",
       "      <td>...</td>\n",
       "      <td>500.0</td>\n",
       "      <td>14.0</td>\n",
       "      <td>8.0</td>\n",
       "      <td>10.5</td>\n",
       "      <td>1800.0</td>\n",
       "      <td>1.25</td>\n",
       "      <td>35.75</td>\n",
       "      <td>13.0</td>\n",
       "      <td>10.5</td>\n",
       "      <td>0.0</td>\n",
       "    </tr>\n",
       "    <tr>\n",
       "      <th>201601010101</th>\n",
       "      <td>2</td>\n",
       "      <td>2</td>\n",
       "      <td>2014105971</td>\n",
       "      <td>54.0</td>\n",
       "      <td>00700</td>\n",
       "      <td>01066</td>\n",
       "      <td>2016-07-30</td>\n",
       "      <td>1</td>\n",
       "      <td>1</td>\n",
       "      <td>1</td>\n",
       "      <td>...</td>\n",
       "      <td>500.0</td>\n",
       "      <td>27.0</td>\n",
       "      <td>7.0</td>\n",
       "      <td>3.0</td>\n",
       "      <td>1600.0</td>\n",
       "      <td>1.30</td>\n",
       "      <td>36.30</td>\n",
       "      <td>6.0</td>\n",
       "      <td>8.0</td>\n",
       "      <td>0.0</td>\n",
       "    </tr>\n",
       "    <tr>\n",
       "      <th>201601010101</th>\n",
       "      <td>5</td>\n",
       "      <td>5</td>\n",
       "      <td>2014100723</td>\n",
       "      <td>54.0</td>\n",
       "      <td>01091</td>\n",
       "      <td>00359</td>\n",
       "      <td>2016-07-30</td>\n",
       "      <td>1</td>\n",
       "      <td>1</td>\n",
       "      <td>1</td>\n",
       "      <td>...</td>\n",
       "      <td>500.0</td>\n",
       "      <td>20.0</td>\n",
       "      <td>4.5</td>\n",
       "      <td>3.5</td>\n",
       "      <td>1100.0</td>\n",
       "      <td>1.05</td>\n",
       "      <td>35.90</td>\n",
       "      <td>4.5</td>\n",
       "      <td>4.5</td>\n",
       "      <td>65.0</td>\n",
       "    </tr>\n",
       "    <tr>\n",
       "      <th>201601010101</th>\n",
       "      <td>4</td>\n",
       "      <td>4</td>\n",
       "      <td>2014105192</td>\n",
       "      <td>51.0</td>\n",
       "      <td>01163</td>\n",
       "      <td>01046</td>\n",
       "      <td>2016-07-30</td>\n",
       "      <td>1</td>\n",
       "      <td>1</td>\n",
       "      <td>1</td>\n",
       "      <td>...</td>\n",
       "      <td>500.0</td>\n",
       "      <td>13.0</td>\n",
       "      <td>4.0</td>\n",
       "      <td>6.0</td>\n",
       "      <td>1800.0</td>\n",
       "      <td>0.50</td>\n",
       "      <td>35.00</td>\n",
       "      <td>2.0</td>\n",
       "      <td>5.0</td>\n",
       "      <td>110.0</td>\n",
       "    </tr>\n",
       "    <tr>\n",
       "      <th>201601010101</th>\n",
       "      <td>3</td>\n",
       "      <td>3</td>\n",
       "      <td>2014106056</td>\n",
       "      <td>54.0</td>\n",
       "      <td>01014</td>\n",
       "      <td>01058</td>\n",
       "      <td>2016-07-30</td>\n",
       "      <td>1</td>\n",
       "      <td>1</td>\n",
       "      <td>1</td>\n",
       "      <td>...</td>\n",
       "      <td>500.0</td>\n",
       "      <td>34.0</td>\n",
       "      <td>2.0</td>\n",
       "      <td>3.0</td>\n",
       "      <td>1800.0</td>\n",
       "      <td>0.50</td>\n",
       "      <td>35.40</td>\n",
       "      <td>9.0</td>\n",
       "      <td>10.0</td>\n",
       "      <td>280.0</td>\n",
       "    </tr>\n",
       "  </tbody>\n",
       "</table>\n",
       "<p>5 rows × 33 columns</p>\n",
       "</div>"
      ],
      "text/plain": [
       "              horse_no  frame_no    horse_id  impost jockey_id trainer_id  \\\n",
       "race_id                                                                     \n",
       "201601010101         6         6  2014102322    52.0     01151      01024   \n",
       "201601010101         2         2  2014105971    54.0     00700      01066   \n",
       "201601010101         5         5  2014100723    54.0     01091      00359   \n",
       "201601010101         4         4  2014105192    51.0     01163      01046   \n",
       "201601010101         3         3  2014106056    54.0     01014      01058   \n",
       "\n",
       "                   date  place_id  hold_no  hold_day  ...  win_prise  l_days  \\\n",
       "race_id                                               ...                      \n",
       "201601010101 2016-07-30         1        1         1  ...      500.0    14.0   \n",
       "201601010101 2016-07-30         1        1         1  ...      500.0    27.0   \n",
       "201601010101 2016-07-30         1        1         1  ...      500.0    20.0   \n",
       "201601010101 2016-07-30         1        1         1  ...      500.0    13.0   \n",
       "201601010101 2016-07-30         1        1         1  ...      500.0    34.0   \n",
       "\n",
       "             arriving_order_5R popularity_5R distance_5R time_diff_5R  \\\n",
       "race_id                                                                 \n",
       "201601010101               8.0          10.5      1800.0         1.25   \n",
       "201601010101               7.0           3.0      1600.0         1.30   \n",
       "201601010101               4.5           3.5      1100.0         1.05   \n",
       "201601010101               4.0           6.0      1800.0         0.50   \n",
       "201601010101               2.0           3.0      1800.0         0.50   \n",
       "\n",
       "              last_three_furlong_5R  first_corner_5R  last_corner_5R prise_5R  \n",
       "race_id                                                                        \n",
       "201601010101                  35.75             13.0            10.5      0.0  \n",
       "201601010101                  36.30              6.0             8.0      0.0  \n",
       "201601010101                  35.90              4.5             4.5     65.0  \n",
       "201601010101                  35.00              2.0             5.0    110.0  \n",
       "201601010101                  35.40              9.0            10.0    280.0  \n",
       "\n",
       "[5 rows x 33 columns]"
      ]
     },
     "execution_count": 11,
     "metadata": {},
     "output_type": "execute_result"
    }
   ],
   "source": [
    "r.merge_horse_results(hr, ave_samples=5)\n",
    "r.data_m.head()"
   ]
  },
  {
   "cell_type": "code",
   "execution_count": 12,
   "metadata": {},
   "outputs": [],
   "source": [
    "r.data_m.to_pickle('./results_m_2015_2021.pickle')"
   ]
  },
  {
   "cell_type": "code",
   "execution_count": 13,
   "metadata": {},
   "outputs": [
    {
     "data": {
      "text/html": [
       "<div>\n",
       "<style scoped>\n",
       "    .dataframe tbody tr th:only-of-type {\n",
       "        vertical-align: middle;\n",
       "    }\n",
       "\n",
       "    .dataframe tbody tr th {\n",
       "        vertical-align: top;\n",
       "    }\n",
       "\n",
       "    .dataframe thead th {\n",
       "        text-align: right;\n",
       "    }\n",
       "</style>\n",
       "<table border=\"1\" class=\"dataframe\">\n",
       "  <thead>\n",
       "    <tr style=\"text-align: right;\">\n",
       "      <th></th>\n",
       "      <th>father</th>\n",
       "      <th>mother</th>\n",
       "      <th>fathers_father</th>\n",
       "      <th>fathers_mother</th>\n",
       "      <th>mothers_father</th>\n",
       "      <th>mothers_mother</th>\n",
       "    </tr>\n",
       "    <tr>\n",
       "      <th>id</th>\n",
       "      <th></th>\n",
       "      <th></th>\n",
       "      <th></th>\n",
       "      <th></th>\n",
       "      <th></th>\n",
       "      <th></th>\n",
       "    </tr>\n",
       "  </thead>\n",
       "  <tbody>\n",
       "    <tr>\n",
       "      <th>2018105875</th>\n",
       "      <td>12451</td>\n",
       "      <td>7243</td>\n",
       "      <td>9673</td>\n",
       "      <td>10984</td>\n",
       "      <td>5084</td>\n",
       "      <td>11540</td>\n",
       "    </tr>\n",
       "    <tr>\n",
       "      <th>2018105258</th>\n",
       "      <td>6462</td>\n",
       "      <td>17241</td>\n",
       "      <td>10432</td>\n",
       "      <td>10492</td>\n",
       "      <td>13198</td>\n",
       "      <td>16984</td>\n",
       "    </tr>\n",
       "    <tr>\n",
       "      <th>2018101134</th>\n",
       "      <td>18413</td>\n",
       "      <td>9782</td>\n",
       "      <td>13198</td>\n",
       "      <td>11099</td>\n",
       "      <td>8318</td>\n",
       "      <td>15063</td>\n",
       "    </tr>\n",
       "    <tr>\n",
       "      <th>2018102791</th>\n",
       "      <td>2017</td>\n",
       "      <td>13748</td>\n",
       "      <td>1865</td>\n",
       "      <td>4505</td>\n",
       "      <td>1684</td>\n",
       "      <td>1096</td>\n",
       "    </tr>\n",
       "    <tr>\n",
       "      <th>2018101539</th>\n",
       "      <td>7475</td>\n",
       "      <td>15285</td>\n",
       "      <td>12451</td>\n",
       "      <td>12784</td>\n",
       "      <td>17420</td>\n",
       "      <td>15314</td>\n",
       "    </tr>\n",
       "    <tr>\n",
       "      <th>...</th>\n",
       "      <td>...</td>\n",
       "      <td>...</td>\n",
       "      <td>...</td>\n",
       "      <td>...</td>\n",
       "      <td>...</td>\n",
       "      <td>...</td>\n",
       "    </tr>\n",
       "    <tr>\n",
       "      <th>2019105297</th>\n",
       "      <td>7642</td>\n",
       "      <td>12953</td>\n",
       "      <td>13198</td>\n",
       "      <td>7752</td>\n",
       "      <td>3537</td>\n",
       "      <td>2190</td>\n",
       "    </tr>\n",
       "    <tr>\n",
       "      <th>2019100793</th>\n",
       "      <td>11023</td>\n",
       "      <td>17677</td>\n",
       "      <td>8410</td>\n",
       "      <td>19830</td>\n",
       "      <td>11930</td>\n",
       "      <td>14390</td>\n",
       "    </tr>\n",
       "    <tr>\n",
       "      <th>2019105870</th>\n",
       "      <td>15448</td>\n",
       "      <td>17169</td>\n",
       "      <td>9332</td>\n",
       "      <td>10133</td>\n",
       "      <td>4836</td>\n",
       "      <td>11163</td>\n",
       "    </tr>\n",
       "    <tr>\n",
       "      <th>2019103015</th>\n",
       "      <td>7668</td>\n",
       "      <td>9419</td>\n",
       "      <td>16493</td>\n",
       "      <td>10143</td>\n",
       "      <td>2016</td>\n",
       "      <td>4188</td>\n",
       "    </tr>\n",
       "    <tr>\n",
       "      <th>2019105628</th>\n",
       "      <td>14771</td>\n",
       "      <td>5747</td>\n",
       "      <td>9673</td>\n",
       "      <td>4641</td>\n",
       "      <td>1224</td>\n",
       "      <td>2718</td>\n",
       "    </tr>\n",
       "  </tbody>\n",
       "</table>\n",
       "<p>35090 rows × 6 columns</p>\n",
       "</div>"
      ],
      "text/plain": [
       "            father  mother  fathers_father  fathers_mother  mothers_father  \\\n",
       "id                                                                           \n",
       "2018105875   12451    7243            9673           10984            5084   \n",
       "2018105258    6462   17241           10432           10492           13198   \n",
       "2018101134   18413    9782           13198           11099            8318   \n",
       "2018102791    2017   13748            1865            4505            1684   \n",
       "2018101539    7475   15285           12451           12784           17420   \n",
       "...            ...     ...             ...             ...             ...   \n",
       "2019105297    7642   12953           13198            7752            3537   \n",
       "2019100793   11023   17677            8410           19830           11930   \n",
       "2019105870   15448   17169            9332           10133            4836   \n",
       "2019103015    7668    9419           16493           10143            2016   \n",
       "2019105628   14771    5747            9673            4641            1224   \n",
       "\n",
       "            mothers_mother  \n",
       "id                          \n",
       "2018105875           11540  \n",
       "2018105258           16984  \n",
       "2018101134           15063  \n",
       "2018102791            1096  \n",
       "2018101539           15314  \n",
       "...                    ...  \n",
       "2019105297            2190  \n",
       "2019100793           14390  \n",
       "2019105870           11163  \n",
       "2019103015            4188  \n",
       "2019105628            2718  \n",
       "\n",
       "[35090 rows x 6 columns]"
      ]
     },
     "execution_count": 13,
     "metadata": {},
     "output_type": "execute_result"
    }
   ],
   "source": [
    "p = Peds.read_db(db_config['main'])\n",
    "p.data_e"
   ]
  },
  {
   "cell_type": "code",
   "execution_count": 14,
   "metadata": {},
   "outputs": [
    {
     "data": {
      "text/html": [
       "<div>\n",
       "<style scoped>\n",
       "    .dataframe tbody tr th:only-of-type {\n",
       "        vertical-align: middle;\n",
       "    }\n",
       "\n",
       "    .dataframe tbody tr th {\n",
       "        vertical-align: top;\n",
       "    }\n",
       "\n",
       "    .dataframe thead th {\n",
       "        text-align: right;\n",
       "    }\n",
       "</style>\n",
       "<table border=\"1\" class=\"dataframe\">\n",
       "  <thead>\n",
       "    <tr style=\"text-align: right;\">\n",
       "      <th></th>\n",
       "      <th>horse_no</th>\n",
       "      <th>frame_no</th>\n",
       "      <th>horse_id</th>\n",
       "      <th>impost</th>\n",
       "      <th>jockey_id</th>\n",
       "      <th>trainer_id</th>\n",
       "      <th>date</th>\n",
       "      <th>place_id</th>\n",
       "      <th>hold_no</th>\n",
       "      <th>hold_day</th>\n",
       "      <th>...</th>\n",
       "      <th>last_three_furlong_5R</th>\n",
       "      <th>first_corner_5R</th>\n",
       "      <th>last_corner_5R</th>\n",
       "      <th>prise_5R</th>\n",
       "      <th>father</th>\n",
       "      <th>mother</th>\n",
       "      <th>fathers_father</th>\n",
       "      <th>fathers_mother</th>\n",
       "      <th>mothers_father</th>\n",
       "      <th>mothers_mother</th>\n",
       "    </tr>\n",
       "    <tr>\n",
       "      <th>race_id</th>\n",
       "      <th></th>\n",
       "      <th></th>\n",
       "      <th></th>\n",
       "      <th></th>\n",
       "      <th></th>\n",
       "      <th></th>\n",
       "      <th></th>\n",
       "      <th></th>\n",
       "      <th></th>\n",
       "      <th></th>\n",
       "      <th></th>\n",
       "      <th></th>\n",
       "      <th></th>\n",
       "      <th></th>\n",
       "      <th></th>\n",
       "      <th></th>\n",
       "      <th></th>\n",
       "      <th></th>\n",
       "      <th></th>\n",
       "      <th></th>\n",
       "      <th></th>\n",
       "    </tr>\n",
       "  </thead>\n",
       "  <tbody>\n",
       "    <tr>\n",
       "      <th>201601010101</th>\n",
       "      <td>6</td>\n",
       "      <td>6</td>\n",
       "      <td>2014102322</td>\n",
       "      <td>52.0</td>\n",
       "      <td>01151</td>\n",
       "      <td>01024</td>\n",
       "      <td>2016-07-30</td>\n",
       "      <td>1</td>\n",
       "      <td>1</td>\n",
       "      <td>1</td>\n",
       "      <td>...</td>\n",
       "      <td>35.75</td>\n",
       "      <td>13.0</td>\n",
       "      <td>10.5</td>\n",
       "      <td>0.0</td>\n",
       "      <td>5012</td>\n",
       "      <td>15707</td>\n",
       "      <td>6694</td>\n",
       "      <td>17579</td>\n",
       "      <td>3689</td>\n",
       "      <td>4115</td>\n",
       "    </tr>\n",
       "    <tr>\n",
       "      <th>201601010101</th>\n",
       "      <td>2</td>\n",
       "      <td>2</td>\n",
       "      <td>2014105971</td>\n",
       "      <td>54.0</td>\n",
       "      <td>00700</td>\n",
       "      <td>01066</td>\n",
       "      <td>2016-07-30</td>\n",
       "      <td>1</td>\n",
       "      <td>1</td>\n",
       "      <td>1</td>\n",
       "      <td>...</td>\n",
       "      <td>36.30</td>\n",
       "      <td>6.0</td>\n",
       "      <td>8.0</td>\n",
       "      <td>0.0</td>\n",
       "      <td>14808</td>\n",
       "      <td>10694</td>\n",
       "      <td>923</td>\n",
       "      <td>2997</td>\n",
       "      <td>9673</td>\n",
       "      <td>15572</td>\n",
       "    </tr>\n",
       "    <tr>\n",
       "      <th>201601010101</th>\n",
       "      <td>5</td>\n",
       "      <td>5</td>\n",
       "      <td>2014100723</td>\n",
       "      <td>54.0</td>\n",
       "      <td>01091</td>\n",
       "      <td>00359</td>\n",
       "      <td>2016-07-30</td>\n",
       "      <td>1</td>\n",
       "      <td>1</td>\n",
       "      <td>1</td>\n",
       "      <td>...</td>\n",
       "      <td>35.90</td>\n",
       "      <td>4.5</td>\n",
       "      <td>4.5</td>\n",
       "      <td>65.0</td>\n",
       "      <td>4650</td>\n",
       "      <td>17626</td>\n",
       "      <td>1341</td>\n",
       "      <td>213</td>\n",
       "      <td>11106</td>\n",
       "      <td>11775</td>\n",
       "    </tr>\n",
       "    <tr>\n",
       "      <th>201601010101</th>\n",
       "      <td>4</td>\n",
       "      <td>4</td>\n",
       "      <td>2014105192</td>\n",
       "      <td>51.0</td>\n",
       "      <td>01163</td>\n",
       "      <td>01046</td>\n",
       "      <td>2016-07-30</td>\n",
       "      <td>1</td>\n",
       "      <td>1</td>\n",
       "      <td>1</td>\n",
       "      <td>...</td>\n",
       "      <td>35.00</td>\n",
       "      <td>2.0</td>\n",
       "      <td>5.0</td>\n",
       "      <td>110.0</td>\n",
       "      <td>6706</td>\n",
       "      <td>16921</td>\n",
       "      <td>4254</td>\n",
       "      <td>4178</td>\n",
       "      <td>18201</td>\n",
       "      <td>11128</td>\n",
       "    </tr>\n",
       "    <tr>\n",
       "      <th>201601010101</th>\n",
       "      <td>3</td>\n",
       "      <td>3</td>\n",
       "      <td>2014106056</td>\n",
       "      <td>54.0</td>\n",
       "      <td>01014</td>\n",
       "      <td>01058</td>\n",
       "      <td>2016-07-30</td>\n",
       "      <td>1</td>\n",
       "      <td>1</td>\n",
       "      <td>1</td>\n",
       "      <td>...</td>\n",
       "      <td>35.40</td>\n",
       "      <td>9.0</td>\n",
       "      <td>10.0</td>\n",
       "      <td>280.0</td>\n",
       "      <td>14771</td>\n",
       "      <td>14479</td>\n",
       "      <td>9673</td>\n",
       "      <td>4641</td>\n",
       "      <td>1573</td>\n",
       "      <td>1696</td>\n",
       "    </tr>\n",
       "    <tr>\n",
       "      <th>...</th>\n",
       "      <td>...</td>\n",
       "      <td>...</td>\n",
       "      <td>...</td>\n",
       "      <td>...</td>\n",
       "      <td>...</td>\n",
       "      <td>...</td>\n",
       "      <td>...</td>\n",
       "      <td>...</td>\n",
       "      <td>...</td>\n",
       "      <td>...</td>\n",
       "      <td>...</td>\n",
       "      <td>...</td>\n",
       "      <td>...</td>\n",
       "      <td>...</td>\n",
       "      <td>...</td>\n",
       "      <td>...</td>\n",
       "      <td>...</td>\n",
       "      <td>...</td>\n",
       "      <td>...</td>\n",
       "      <td>...</td>\n",
       "      <td>...</td>\n",
       "    </tr>\n",
       "    <tr>\n",
       "      <th>202106050912</th>\n",
       "      <td>9</td>\n",
       "      <td>7</td>\n",
       "      <td>2016104480</td>\n",
       "      <td>57.0</td>\n",
       "      <td>05386</td>\n",
       "      <td>00386</td>\n",
       "      <td>2021-12-28</td>\n",
       "      <td>6</td>\n",
       "      <td>5</td>\n",
       "      <td>9</td>\n",
       "      <td>...</td>\n",
       "      <td>35.22</td>\n",
       "      <td>8.6</td>\n",
       "      <td>8.6</td>\n",
       "      <td>220.0</td>\n",
       "      <td>14771</td>\n",
       "      <td>9404</td>\n",
       "      <td>9673</td>\n",
       "      <td>4641</td>\n",
       "      <td>3582</td>\n",
       "      <td>2684</td>\n",
       "    </tr>\n",
       "    <tr>\n",
       "      <th>202106050912</th>\n",
       "      <td>11</td>\n",
       "      <td>8</td>\n",
       "      <td>2017105116</td>\n",
       "      <td>57.0</td>\n",
       "      <td>05473</td>\n",
       "      <td>01141</td>\n",
       "      <td>2021-12-28</td>\n",
       "      <td>6</td>\n",
       "      <td>5</td>\n",
       "      <td>9</td>\n",
       "      <td>...</td>\n",
       "      <td>34.24</td>\n",
       "      <td>7.0</td>\n",
       "      <td>8.8</td>\n",
       "      <td>481.8</td>\n",
       "      <td>9149</td>\n",
       "      <td>12015</td>\n",
       "      <td>11183</td>\n",
       "      <td>17479</td>\n",
       "      <td>16433</td>\n",
       "      <td>16137</td>\n",
       "    </tr>\n",
       "    <tr>\n",
       "      <th>202106050912</th>\n",
       "      <td>7</td>\n",
       "      <td>6</td>\n",
       "      <td>2017102037</td>\n",
       "      <td>57.0</td>\n",
       "      <td>01173</td>\n",
       "      <td>01005</td>\n",
       "      <td>2021-12-28</td>\n",
       "      <td>6</td>\n",
       "      <td>5</td>\n",
       "      <td>9</td>\n",
       "      <td>...</td>\n",
       "      <td>34.16</td>\n",
       "      <td>11.0</td>\n",
       "      <td>10.6</td>\n",
       "      <td>0.0</td>\n",
       "      <td>19911</td>\n",
       "      <td>11827</td>\n",
       "      <td>13198</td>\n",
       "      <td>13424</td>\n",
       "      <td>16433</td>\n",
       "      <td>18562</td>\n",
       "    </tr>\n",
       "    <tr>\n",
       "      <th>202106050912</th>\n",
       "      <td>8</td>\n",
       "      <td>6</td>\n",
       "      <td>2015101707</td>\n",
       "      <td>57.0</td>\n",
       "      <td>05339</td>\n",
       "      <td>01070</td>\n",
       "      <td>2021-12-28</td>\n",
       "      <td>6</td>\n",
       "      <td>5</td>\n",
       "      <td>9</td>\n",
       "      <td>...</td>\n",
       "      <td>34.92</td>\n",
       "      <td>7.8</td>\n",
       "      <td>6.8</td>\n",
       "      <td>219.5</td>\n",
       "      <td>11023</td>\n",
       "      <td>18943</td>\n",
       "      <td>8410</td>\n",
       "      <td>19830</td>\n",
       "      <td>7524</td>\n",
       "      <td>18958</td>\n",
       "    </tr>\n",
       "    <tr>\n",
       "      <th>202106050912</th>\n",
       "      <td>6</td>\n",
       "      <td>5</td>\n",
       "      <td>2017105893</td>\n",
       "      <td>55.0</td>\n",
       "      <td>01122</td>\n",
       "      <td>01056</td>\n",
       "      <td>2021-12-28</td>\n",
       "      <td>6</td>\n",
       "      <td>5</td>\n",
       "      <td>9</td>\n",
       "      <td>...</td>\n",
       "      <td>35.12</td>\n",
       "      <td>4.8</td>\n",
       "      <td>4.2</td>\n",
       "      <td>372.0</td>\n",
       "      <td>7475</td>\n",
       "      <td>18166</td>\n",
       "      <td>12451</td>\n",
       "      <td>12784</td>\n",
       "      <td>12576</td>\n",
       "      <td>9160</td>\n",
       "    </tr>\n",
       "  </tbody>\n",
       "</table>\n",
       "<p>276689 rows × 39 columns</p>\n",
       "</div>"
      ],
      "text/plain": [
       "              horse_no  frame_no    horse_id  impost jockey_id trainer_id  \\\n",
       "race_id                                                                     \n",
       "201601010101         6         6  2014102322    52.0     01151      01024   \n",
       "201601010101         2         2  2014105971    54.0     00700      01066   \n",
       "201601010101         5         5  2014100723    54.0     01091      00359   \n",
       "201601010101         4         4  2014105192    51.0     01163      01046   \n",
       "201601010101         3         3  2014106056    54.0     01014      01058   \n",
       "...                ...       ...         ...     ...       ...        ...   \n",
       "202106050912         9         7  2016104480    57.0     05386      00386   \n",
       "202106050912        11         8  2017105116    57.0     05473      01141   \n",
       "202106050912         7         6  2017102037    57.0     01173      01005   \n",
       "202106050912         8         6  2015101707    57.0     05339      01070   \n",
       "202106050912         6         5  2017105893    55.0     01122      01056   \n",
       "\n",
       "                   date  place_id  hold_no  hold_day  ...  \\\n",
       "race_id                                               ...   \n",
       "201601010101 2016-07-30         1        1         1  ...   \n",
       "201601010101 2016-07-30         1        1         1  ...   \n",
       "201601010101 2016-07-30         1        1         1  ...   \n",
       "201601010101 2016-07-30         1        1         1  ...   \n",
       "201601010101 2016-07-30         1        1         1  ...   \n",
       "...                 ...       ...      ...       ...  ...   \n",
       "202106050912 2021-12-28         6        5         9  ...   \n",
       "202106050912 2021-12-28         6        5         9  ...   \n",
       "202106050912 2021-12-28         6        5         9  ...   \n",
       "202106050912 2021-12-28         6        5         9  ...   \n",
       "202106050912 2021-12-28         6        5         9  ...   \n",
       "\n",
       "              last_three_furlong_5R  first_corner_5R last_corner_5R prise_5R  \\\n",
       "race_id                                                                        \n",
       "201601010101                  35.75             13.0           10.5      0.0   \n",
       "201601010101                  36.30              6.0            8.0      0.0   \n",
       "201601010101                  35.90              4.5            4.5     65.0   \n",
       "201601010101                  35.00              2.0            5.0    110.0   \n",
       "201601010101                  35.40              9.0           10.0    280.0   \n",
       "...                             ...              ...            ...      ...   \n",
       "202106050912                  35.22              8.6            8.6    220.0   \n",
       "202106050912                  34.24              7.0            8.8    481.8   \n",
       "202106050912                  34.16             11.0           10.6      0.0   \n",
       "202106050912                  34.92              7.8            6.8    219.5   \n",
       "202106050912                  35.12              4.8            4.2    372.0   \n",
       "\n",
       "             father mother  fathers_father  fathers_mother  mothers_father  \\\n",
       "race_id                                                                      \n",
       "201601010101   5012  15707            6694           17579            3689   \n",
       "201601010101  14808  10694             923            2997            9673   \n",
       "201601010101   4650  17626            1341             213           11106   \n",
       "201601010101   6706  16921            4254            4178           18201   \n",
       "201601010101  14771  14479            9673            4641            1573   \n",
       "...             ...    ...             ...             ...             ...   \n",
       "202106050912  14771   9404            9673            4641            3582   \n",
       "202106050912   9149  12015           11183           17479           16433   \n",
       "202106050912  19911  11827           13198           13424           16433   \n",
       "202106050912  11023  18943            8410           19830            7524   \n",
       "202106050912   7475  18166           12451           12784           12576   \n",
       "\n",
       "             mothers_mother  \n",
       "race_id                      \n",
       "201601010101           4115  \n",
       "201601010101          15572  \n",
       "201601010101          11775  \n",
       "201601010101          11128  \n",
       "201601010101           1696  \n",
       "...                     ...  \n",
       "202106050912           2684  \n",
       "202106050912          16137  \n",
       "202106050912          18562  \n",
       "202106050912          18958  \n",
       "202106050912           9160  \n",
       "\n",
       "[276689 rows x 39 columns]"
      ]
     },
     "execution_count": 14,
     "metadata": {},
     "output_type": "execute_result"
    }
   ],
   "source": [
    "r.merge_peds(p)\n",
    "r.data_pe"
   ]
  },
  {
   "cell_type": "code",
   "execution_count": 15,
   "metadata": {},
   "outputs": [
    {
     "data": {
      "text/html": [
       "<div>\n",
       "<style scoped>\n",
       "    .dataframe tbody tr th:only-of-type {\n",
       "        vertical-align: middle;\n",
       "    }\n",
       "\n",
       "    .dataframe tbody tr th {\n",
       "        vertical-align: top;\n",
       "    }\n",
       "\n",
       "    .dataframe thead th {\n",
       "        text-align: right;\n",
       "    }\n",
       "</style>\n",
       "<table border=\"1\" class=\"dataframe\">\n",
       "  <thead>\n",
       "    <tr style=\"text-align: right;\">\n",
       "      <th></th>\n",
       "      <th>horse_no</th>\n",
       "      <th>frame_no</th>\n",
       "      <th>horse_id</th>\n",
       "      <th>impost</th>\n",
       "      <th>jockey_id</th>\n",
       "      <th>trainer_id</th>\n",
       "      <th>date</th>\n",
       "      <th>place_id</th>\n",
       "      <th>hold_no</th>\n",
       "      <th>hold_day</th>\n",
       "      <th>...</th>\n",
       "      <th>last_three_furlong_5R</th>\n",
       "      <th>first_corner_5R</th>\n",
       "      <th>last_corner_5R</th>\n",
       "      <th>prise_5R</th>\n",
       "      <th>father</th>\n",
       "      <th>mother</th>\n",
       "      <th>fathers_father</th>\n",
       "      <th>fathers_mother</th>\n",
       "      <th>mothers_father</th>\n",
       "      <th>mothers_mother</th>\n",
       "    </tr>\n",
       "    <tr>\n",
       "      <th>race_id</th>\n",
       "      <th></th>\n",
       "      <th></th>\n",
       "      <th></th>\n",
       "      <th></th>\n",
       "      <th></th>\n",
       "      <th></th>\n",
       "      <th></th>\n",
       "      <th></th>\n",
       "      <th></th>\n",
       "      <th></th>\n",
       "      <th></th>\n",
       "      <th></th>\n",
       "      <th></th>\n",
       "      <th></th>\n",
       "      <th></th>\n",
       "      <th></th>\n",
       "      <th></th>\n",
       "      <th></th>\n",
       "      <th></th>\n",
       "      <th></th>\n",
       "      <th></th>\n",
       "    </tr>\n",
       "  </thead>\n",
       "  <tbody>\n",
       "    <tr>\n",
       "      <th>201601010101</th>\n",
       "      <td>6</td>\n",
       "      <td>6</td>\n",
       "      <td>9481</td>\n",
       "      <td>52.0</td>\n",
       "      <td>112</td>\n",
       "      <td>300</td>\n",
       "      <td>2016-07-30</td>\n",
       "      <td>1</td>\n",
       "      <td>1</td>\n",
       "      <td>1</td>\n",
       "      <td>...</td>\n",
       "      <td>35.75</td>\n",
       "      <td>13.0</td>\n",
       "      <td>10.5</td>\n",
       "      <td>0.0</td>\n",
       "      <td>5012</td>\n",
       "      <td>15707</td>\n",
       "      <td>6694</td>\n",
       "      <td>17579</td>\n",
       "      <td>3689</td>\n",
       "      <td>4115</td>\n",
       "    </tr>\n",
       "    <tr>\n",
       "      <th>201601010101</th>\n",
       "      <td>2</td>\n",
       "      <td>2</td>\n",
       "      <td>12002</td>\n",
       "      <td>54.0</td>\n",
       "      <td>11</td>\n",
       "      <td>51</td>\n",
       "      <td>2016-07-30</td>\n",
       "      <td>1</td>\n",
       "      <td>1</td>\n",
       "      <td>1</td>\n",
       "      <td>...</td>\n",
       "      <td>36.30</td>\n",
       "      <td>6.0</td>\n",
       "      <td>8.0</td>\n",
       "      <td>0.0</td>\n",
       "      <td>14808</td>\n",
       "      <td>10694</td>\n",
       "      <td>923</td>\n",
       "      <td>2997</td>\n",
       "      <td>9673</td>\n",
       "      <td>15572</td>\n",
       "    </tr>\n",
       "    <tr>\n",
       "      <th>201601010101</th>\n",
       "      <td>5</td>\n",
       "      <td>5</td>\n",
       "      <td>8447</td>\n",
       "      <td>54.0</td>\n",
       "      <td>63</td>\n",
       "      <td>301</td>\n",
       "      <td>2016-07-30</td>\n",
       "      <td>1</td>\n",
       "      <td>1</td>\n",
       "      <td>1</td>\n",
       "      <td>...</td>\n",
       "      <td>35.90</td>\n",
       "      <td>4.5</td>\n",
       "      <td>4.5</td>\n",
       "      <td>65.0</td>\n",
       "      <td>4650</td>\n",
       "      <td>17626</td>\n",
       "      <td>1341</td>\n",
       "      <td>213</td>\n",
       "      <td>11106</td>\n",
       "      <td>11775</td>\n",
       "    </tr>\n",
       "    <tr>\n",
       "      <th>201601010101</th>\n",
       "      <td>4</td>\n",
       "      <td>4</td>\n",
       "      <td>11372</td>\n",
       "      <td>51.0</td>\n",
       "      <td>124</td>\n",
       "      <td>43</td>\n",
       "      <td>2016-07-30</td>\n",
       "      <td>1</td>\n",
       "      <td>1</td>\n",
       "      <td>1</td>\n",
       "      <td>...</td>\n",
       "      <td>35.00</td>\n",
       "      <td>2.0</td>\n",
       "      <td>5.0</td>\n",
       "      <td>110.0</td>\n",
       "      <td>6706</td>\n",
       "      <td>16921</td>\n",
       "      <td>4254</td>\n",
       "      <td>4178</td>\n",
       "      <td>18201</td>\n",
       "      <td>11128</td>\n",
       "    </tr>\n",
       "    <tr>\n",
       "      <th>201601010101</th>\n",
       "      <td>3</td>\n",
       "      <td>3</td>\n",
       "      <td>12079</td>\n",
       "      <td>54.0</td>\n",
       "      <td>26</td>\n",
       "      <td>302</td>\n",
       "      <td>2016-07-30</td>\n",
       "      <td>1</td>\n",
       "      <td>1</td>\n",
       "      <td>1</td>\n",
       "      <td>...</td>\n",
       "      <td>35.40</td>\n",
       "      <td>9.0</td>\n",
       "      <td>10.0</td>\n",
       "      <td>280.0</td>\n",
       "      <td>14771</td>\n",
       "      <td>14479</td>\n",
       "      <td>9673</td>\n",
       "      <td>4641</td>\n",
       "      <td>1573</td>\n",
       "      <td>1696</td>\n",
       "    </tr>\n",
       "    <tr>\n",
       "      <th>...</th>\n",
       "      <td>...</td>\n",
       "      <td>...</td>\n",
       "      <td>...</td>\n",
       "      <td>...</td>\n",
       "      <td>...</td>\n",
       "      <td>...</td>\n",
       "      <td>...</td>\n",
       "      <td>...</td>\n",
       "      <td>...</td>\n",
       "      <td>...</td>\n",
       "      <td>...</td>\n",
       "      <td>...</td>\n",
       "      <td>...</td>\n",
       "      <td>...</td>\n",
       "      <td>...</td>\n",
       "      <td>...</td>\n",
       "      <td>...</td>\n",
       "      <td>...</td>\n",
       "      <td>...</td>\n",
       "      <td>...</td>\n",
       "      <td>...</td>\n",
       "    </tr>\n",
       "    <tr>\n",
       "      <th>202106050912</th>\n",
       "      <td>9</td>\n",
       "      <td>7</td>\n",
       "      <td>20253</td>\n",
       "      <td>57.0</td>\n",
       "      <td>189</td>\n",
       "      <td>345</td>\n",
       "      <td>2021-12-28</td>\n",
       "      <td>6</td>\n",
       "      <td>5</td>\n",
       "      <td>9</td>\n",
       "      <td>...</td>\n",
       "      <td>35.22</td>\n",
       "      <td>8.6</td>\n",
       "      <td>8.6</td>\n",
       "      <td>220.0</td>\n",
       "      <td>14771</td>\n",
       "      <td>9404</td>\n",
       "      <td>9673</td>\n",
       "      <td>4641</td>\n",
       "      <td>3582</td>\n",
       "      <td>2684</td>\n",
       "    </tr>\n",
       "    <tr>\n",
       "      <th>202106050912</th>\n",
       "      <td>11</td>\n",
       "      <td>8</td>\n",
       "      <td>25316</td>\n",
       "      <td>57.0</td>\n",
       "      <td>215</td>\n",
       "      <td>104</td>\n",
       "      <td>2021-12-28</td>\n",
       "      <td>6</td>\n",
       "      <td>5</td>\n",
       "      <td>9</td>\n",
       "      <td>...</td>\n",
       "      <td>34.24</td>\n",
       "      <td>7.0</td>\n",
       "      <td>8.8</td>\n",
       "      <td>481.8</td>\n",
       "      <td>9149</td>\n",
       "      <td>12015</td>\n",
       "      <td>11183</td>\n",
       "      <td>17479</td>\n",
       "      <td>16433</td>\n",
       "      <td>16137</td>\n",
       "    </tr>\n",
       "    <tr>\n",
       "      <th>202106050912</th>\n",
       "      <td>7</td>\n",
       "      <td>6</td>\n",
       "      <td>23251</td>\n",
       "      <td>57.0</td>\n",
       "      <td>134</td>\n",
       "      <td>337</td>\n",
       "      <td>2021-12-28</td>\n",
       "      <td>6</td>\n",
       "      <td>5</td>\n",
       "      <td>9</td>\n",
       "      <td>...</td>\n",
       "      <td>34.16</td>\n",
       "      <td>11.0</td>\n",
       "      <td>10.6</td>\n",
       "      <td>0.0</td>\n",
       "      <td>19911</td>\n",
       "      <td>11827</td>\n",
       "      <td>13198</td>\n",
       "      <td>13424</td>\n",
       "      <td>16433</td>\n",
       "      <td>18562</td>\n",
       "    </tr>\n",
       "    <tr>\n",
       "      <th>202106050912</th>\n",
       "      <td>8</td>\n",
       "      <td>6</td>\n",
       "      <td>13751</td>\n",
       "      <td>57.0</td>\n",
       "      <td>181</td>\n",
       "      <td>327</td>\n",
       "      <td>2021-12-28</td>\n",
       "      <td>6</td>\n",
       "      <td>5</td>\n",
       "      <td>9</td>\n",
       "      <td>...</td>\n",
       "      <td>34.92</td>\n",
       "      <td>7.8</td>\n",
       "      <td>6.8</td>\n",
       "      <td>219.5</td>\n",
       "      <td>11023</td>\n",
       "      <td>18943</td>\n",
       "      <td>8410</td>\n",
       "      <td>19830</td>\n",
       "      <td>7524</td>\n",
       "      <td>18958</td>\n",
       "    </tr>\n",
       "    <tr>\n",
       "      <th>202106050912</th>\n",
       "      <td>6</td>\n",
       "      <td>5</td>\n",
       "      <td>25899</td>\n",
       "      <td>55.0</td>\n",
       "      <td>86</td>\n",
       "      <td>372</td>\n",
       "      <td>2021-12-28</td>\n",
       "      <td>6</td>\n",
       "      <td>5</td>\n",
       "      <td>9</td>\n",
       "      <td>...</td>\n",
       "      <td>35.12</td>\n",
       "      <td>4.8</td>\n",
       "      <td>4.2</td>\n",
       "      <td>372.0</td>\n",
       "      <td>7475</td>\n",
       "      <td>18166</td>\n",
       "      <td>12451</td>\n",
       "      <td>12784</td>\n",
       "      <td>12576</td>\n",
       "      <td>9160</td>\n",
       "    </tr>\n",
       "  </tbody>\n",
       "</table>\n",
       "<p>276689 rows × 39 columns</p>\n",
       "</div>"
      ],
      "text/plain": [
       "              horse_no  frame_no  horse_id  impost  jockey_id  trainer_id  \\\n",
       "race_id                                                                     \n",
       "201601010101         6         6      9481    52.0        112         300   \n",
       "201601010101         2         2     12002    54.0         11          51   \n",
       "201601010101         5         5      8447    54.0         63         301   \n",
       "201601010101         4         4     11372    51.0        124          43   \n",
       "201601010101         3         3     12079    54.0         26         302   \n",
       "...                ...       ...       ...     ...        ...         ...   \n",
       "202106050912         9         7     20253    57.0        189         345   \n",
       "202106050912        11         8     25316    57.0        215         104   \n",
       "202106050912         7         6     23251    57.0        134         337   \n",
       "202106050912         8         6     13751    57.0        181         327   \n",
       "202106050912         6         5     25899    55.0         86         372   \n",
       "\n",
       "                   date  place_id  hold_no  hold_day  ...  \\\n",
       "race_id                                               ...   \n",
       "201601010101 2016-07-30         1        1         1  ...   \n",
       "201601010101 2016-07-30         1        1         1  ...   \n",
       "201601010101 2016-07-30         1        1         1  ...   \n",
       "201601010101 2016-07-30         1        1         1  ...   \n",
       "201601010101 2016-07-30         1        1         1  ...   \n",
       "...                 ...       ...      ...       ...  ...   \n",
       "202106050912 2021-12-28         6        5         9  ...   \n",
       "202106050912 2021-12-28         6        5         9  ...   \n",
       "202106050912 2021-12-28         6        5         9  ...   \n",
       "202106050912 2021-12-28         6        5         9  ...   \n",
       "202106050912 2021-12-28         6        5         9  ...   \n",
       "\n",
       "              last_three_furlong_5R  first_corner_5R  last_corner_5R  \\\n",
       "race_id                                                                \n",
       "201601010101                  35.75             13.0            10.5   \n",
       "201601010101                  36.30              6.0             8.0   \n",
       "201601010101                  35.90              4.5             4.5   \n",
       "201601010101                  35.00              2.0             5.0   \n",
       "201601010101                  35.40              9.0            10.0   \n",
       "...                             ...              ...             ...   \n",
       "202106050912                  35.22              8.6             8.6   \n",
       "202106050912                  34.24              7.0             8.8   \n",
       "202106050912                  34.16             11.0            10.6   \n",
       "202106050912                  34.92              7.8             6.8   \n",
       "202106050912                  35.12              4.8             4.2   \n",
       "\n",
       "              prise_5R  father  mother  fathers_father  fathers_mother  \\\n",
       "race_id                                                                  \n",
       "201601010101       0.0    5012   15707            6694           17579   \n",
       "201601010101       0.0   14808   10694             923            2997   \n",
       "201601010101      65.0    4650   17626            1341             213   \n",
       "201601010101     110.0    6706   16921            4254            4178   \n",
       "201601010101     280.0   14771   14479            9673            4641   \n",
       "...                ...     ...     ...             ...             ...   \n",
       "202106050912     220.0   14771    9404            9673            4641   \n",
       "202106050912     481.8    9149   12015           11183           17479   \n",
       "202106050912       0.0   19911   11827           13198           13424   \n",
       "202106050912     219.5   11023   18943            8410           19830   \n",
       "202106050912     372.0    7475   18166           12451           12784   \n",
       "\n",
       "              mothers_father  mothers_mother  \n",
       "race_id                                       \n",
       "201601010101            3689            4115  \n",
       "201601010101            9673           15572  \n",
       "201601010101           11106           11775  \n",
       "201601010101           18201           11128  \n",
       "201601010101            1573            1696  \n",
       "...                      ...             ...  \n",
       "202106050912            3582            2684  \n",
       "202106050912           16433           16137  \n",
       "202106050912           16433           18562  \n",
       "202106050912            7524           18958  \n",
       "202106050912           12576            9160  \n",
       "\n",
       "[276689 rows x 39 columns]"
      ]
     },
     "execution_count": 15,
     "metadata": {},
     "output_type": "execute_result"
    }
   ],
   "source": [
    "r.process_categorical()\n",
    "r.data_c"
   ]
  },
  {
   "cell_type": "code",
   "execution_count": 16,
   "metadata": {},
   "outputs": [],
   "source": [
    "tmp_df = r.get_final_data(True)"
   ]
  },
  {
   "cell_type": "code",
   "execution_count": 17,
   "metadata": {},
   "outputs": [],
   "source": [
    "train = tmp_df[tmp_df['date'] <= dt.datetime(2020, 12, 31)]\n",
    "test = tmp_df[tmp_df['date'] >= dt.datetime(2021, 1, 1)]"
   ]
  },
  {
   "cell_type": "code",
   "execution_count": 18,
   "metadata": {},
   "outputs": [],
   "source": [
    "train, valid = split_data(train)"
   ]
  },
  {
   "cell_type": "code",
   "execution_count": 19,
   "metadata": {},
   "outputs": [],
   "source": [
    "X_train = train.drop(['date', 'rank'], axis=1)\n",
    "y_train = train['rank']\n",
    "X_valid = valid.drop(['date', 'rank'], axis=1)\n",
    "y_valid = valid['rank']\n",
    "X_test = test.drop(['date', 'rank'], axis=1)\n",
    "y_test = test['rank']"
   ]
  },
  {
   "cell_type": "code",
   "execution_count": 20,
   "metadata": {},
   "outputs": [
    {
     "name": "stdout",
     "output_type": "stream",
     "text": [
      "<class 'pandas.core.frame.DataFrame'>\n",
      "Index: 148233 entries, 201608010105 to 201905030611\n",
      "Data columns (total 36 columns):\n",
      " #   Column                 Non-Null Count   Dtype  \n",
      "---  ------                 --------------   -----  \n",
      " 0   horse_no               148233 non-null  int64  \n",
      " 1   frame_no               148233 non-null  int64  \n",
      " 2   impost                 148233 non-null  float64\n",
      " 3   jockey_id              148233 non-null  int32  \n",
      " 4   trainer_id             148233 non-null  int32  \n",
      " 5   place_id               148233 non-null  int32  \n",
      " 6   hold_no                148233 non-null  int64  \n",
      " 7   hold_day               148233 non-null  int64  \n",
      " 8   race_no                148233 non-null  int64  \n",
      " 9   distance               148233 non-null  int64  \n",
      " 10  race_type              148233 non-null  int64  \n",
      " 11  turn                   148233 non-null  int64  \n",
      " 12  ground                 148233 non-null  int64  \n",
      " 13  weather                148233 non-null  int64  \n",
      " 14  horse_num              148233 non-null  int64  \n",
      " 15  month                  148233 non-null  int64  \n",
      " 16  sex                    148233 non-null  int64  \n",
      " 17  age                    148233 non-null  int32  \n",
      " 18  weight                 148233 non-null  int32  \n",
      " 19  weight_change          148233 non-null  int32  \n",
      " 20  win_prise              148233 non-null  float64\n",
      " 21  l_days                 148233 non-null  float64\n",
      " 22  arriving_order_5R      148233 non-null  float64\n",
      " 23  popularity_5R          148233 non-null  float64\n",
      " 24  distance_5R            148233 non-null  float64\n",
      " 25  time_diff_5R           148233 non-null  float64\n",
      " 26  last_three_furlong_5R  148233 non-null  float64\n",
      " 27  first_corner_5R        148233 non-null  float64\n",
      " 28  last_corner_5R         148233 non-null  float64\n",
      " 29  prise_5R               148233 non-null  float64\n",
      " 30  father                 148233 non-null  int32  \n",
      " 31  mother                 148233 non-null  int32  \n",
      " 32  fathers_father         148233 non-null  int32  \n",
      " 33  fathers_mother         148233 non-null  int32  \n",
      " 34  mothers_father         148233 non-null  int32  \n",
      " 35  mothers_mother         148233 non-null  int32  \n",
      "dtypes: float64(11), int32(12), int64(13)\n",
      "memory usage: 35.1+ MB\n"
     ]
    }
   ],
   "source": [
    "X_train.info()"
   ]
  },
  {
   "cell_type": "code",
   "execution_count": 21,
   "metadata": {},
   "outputs": [],
   "source": [
    "lgb_o_train = lgb_o.Dataset(X_train, y_train)\n",
    "lgb_o_valid = lgb_o.Dataset(X_valid, y_valid, reference=lgb_o_train)"
   ]
  },
  {
   "cell_type": "code",
   "execution_count": 22,
   "metadata": {},
   "outputs": [
    {
     "name": "stderr",
     "output_type": "stream",
     "text": [
      "\u001b[32m[I 2022-01-15 11:28:34,783]\u001b[0m A new study created in memory with name: no-name-01be4411-f0d3-4b6e-bb90-0abc02a8530a\u001b[0m\n",
      "feature_fraction, val_score: inf:   0%|          | 0/7 [00:00<?, ?it/s]c:\\work\\KeibaAI\\.venv\\lib\\site-packages\\lightgbm\\engine.py:181: UserWarning: 'early_stopping_rounds' argument is deprecated and will be removed in a future release of LightGBM. Pass 'early_stopping()' callback via 'callbacks' argument instead.\n",
      "  _log_warning(\"'early_stopping_rounds' argument is deprecated and will be removed in a future release of LightGBM. \"\n",
      "c:\\work\\KeibaAI\\.venv\\lib\\site-packages\\lightgbm\\basic.py:2068: UserWarning: categorical_feature in Dataset is overridden.\n",
      "New categorical_feature is ['father', 'fathers_father', 'fathers_mother', 'ground', 'jockey_id', 'mother', 'mothers_father', 'mothers_mother', 'place_id', 'race_type', 'sex', 'trainer_id', 'turn', 'weather']\n",
      "  _log_warning('categorical_feature in Dataset is overridden.\\n'\n",
      "c:\\work\\KeibaAI\\.venv\\lib\\site-packages\\lightgbm\\engine.py:240: UserWarning: 'verbose_eval' argument is deprecated and will be removed in a future release of LightGBM. Pass 'log_evaluation()' callback via 'callbacks' argument instead.\n",
      "  _log_warning(\"'verbose_eval' argument is deprecated and will be removed in a future release of LightGBM. \"\n"
     ]
    },
    {
     "name": "stdout",
     "output_type": "stream",
     "text": [
      "[LightGBM] [Info] Number of positive: 31528, number of negative: 116705\n",
      "[LightGBM] [Warning] Auto-choosing col-wise multi-threading, the overhead of testing was 0.016755 seconds.\n",
      "You can set `force_col_wise=true` to remove the overhead.\n",
      "[LightGBM] [Info] Total Bins 19630\n",
      "[LightGBM] [Info] Number of data points in the train set: 148233, number of used features: 36\n",
      "[LightGBM] [Info] [binary:BoostFromScore]: pavg=0.212692 -> initscore=-1.308773\n",
      "[LightGBM] [Info] Start training from score -1.308773\n",
      "Training until validation scores don't improve for 100 rounds\n"
     ]
    },
    {
     "name": "stderr",
     "output_type": "stream",
     "text": [
      "c:\\work\\KeibaAI\\.venv\\lib\\site-packages\\lightgbm\\basic.py:1780: UserWarning: Overriding the parameters from Reference Dataset.\n",
      "  _log_warning('Overriding the parameters from Reference Dataset.')\n",
      "c:\\work\\KeibaAI\\.venv\\lib\\site-packages\\lightgbm\\basic.py:1513: UserWarning: categorical_column in param dict is overridden.\n",
      "  _log_warning(f'{cat_alias} in param dict is overridden.')\n"
     ]
    },
    {
     "name": "stdout",
     "output_type": "stream",
     "text": [
      "[100]\tvalid_0's binary_logloss: 0.344989\tvalid_1's binary_logloss: 0.474002\n"
     ]
    },
    {
     "name": "stderr",
     "output_type": "stream",
     "text": [
      "feature_fraction, val_score: 0.467721:  14%|#4        | 1/7 [00:03<00:18,  3.16s/it]\u001b[32m[I 2022-01-15 11:28:37,951]\u001b[0m Trial 0 finished with value: 0.4677206384430484 and parameters: {'feature_fraction': 0.8999999999999999}. Best is trial 0 with value: 0.4677206384430484.\u001b[0m\n",
      "feature_fraction, val_score: 0.467721:  14%|#4        | 1/7 [00:03<00:18,  3.16s/it]"
     ]
    },
    {
     "name": "stdout",
     "output_type": "stream",
     "text": [
      "Early stopping, best iteration is:\n",
      "[38]\tvalid_0's binary_logloss: 0.39846\tvalid_1's binary_logloss: 0.467721\n"
     ]
    },
    {
     "name": "stderr",
     "output_type": "stream",
     "text": [
      "c:\\work\\KeibaAI\\.venv\\lib\\site-packages\\lightgbm\\engine.py:181: UserWarning: 'early_stopping_rounds' argument is deprecated and will be removed in a future release of LightGBM. Pass 'early_stopping()' callback via 'callbacks' argument instead.\n",
      "  _log_warning(\"'early_stopping_rounds' argument is deprecated and will be removed in a future release of LightGBM. \"\n",
      "c:\\work\\KeibaAI\\.venv\\lib\\site-packages\\lightgbm\\basic.py:2068: UserWarning: categorical_feature in Dataset is overridden.\n",
      "New categorical_feature is ['father', 'fathers_father', 'fathers_mother', 'ground', 'jockey_id', 'mother', 'mothers_father', 'mothers_mother', 'place_id', 'race_type', 'sex', 'trainer_id', 'turn', 'weather']\n",
      "  _log_warning('categorical_feature in Dataset is overridden.\\n'\n",
      "c:\\work\\KeibaAI\\.venv\\lib\\site-packages\\lightgbm\\engine.py:240: UserWarning: 'verbose_eval' argument is deprecated and will be removed in a future release of LightGBM. Pass 'log_evaluation()' callback via 'callbacks' argument instead.\n",
      "  _log_warning(\"'verbose_eval' argument is deprecated and will be removed in a future release of LightGBM. \"\n"
     ]
    },
    {
     "name": "stdout",
     "output_type": "stream",
     "text": [
      "[LightGBM] [Info] Number of positive: 31528, number of negative: 116705\n",
      "[LightGBM] [Warning] Auto-choosing col-wise multi-threading, the overhead of testing was 0.010256 seconds.\n",
      "You can set `force_col_wise=true` to remove the overhead.\n",
      "[LightGBM] [Info] Total Bins 19630\n",
      "[LightGBM] [Info] Number of data points in the train set: 148233, number of used features: 36\n",
      "[LightGBM] [Info] [binary:BoostFromScore]: pavg=0.212692 -> initscore=-1.308773\n",
      "[LightGBM] [Info] Start training from score -1.308773\n",
      "Training until validation scores don't improve for 100 rounds\n"
     ]
    },
    {
     "name": "stderr",
     "output_type": "stream",
     "text": [
      "c:\\work\\KeibaAI\\.venv\\lib\\site-packages\\lightgbm\\basic.py:1780: UserWarning: Overriding the parameters from Reference Dataset.\n",
      "  _log_warning('Overriding the parameters from Reference Dataset.')\n",
      "c:\\work\\KeibaAI\\.venv\\lib\\site-packages\\lightgbm\\basic.py:1513: UserWarning: categorical_column in param dict is overridden.\n",
      "  _log_warning(f'{cat_alias} in param dict is overridden.')\n"
     ]
    },
    {
     "name": "stdout",
     "output_type": "stream",
     "text": [
      "[100]\tvalid_0's binary_logloss: 0.356153\tvalid_1's binary_logloss: 0.470897\n"
     ]
    },
    {
     "name": "stderr",
     "output_type": "stream",
     "text": [
      "feature_fraction, val_score: 0.467097:  29%|##8       | 2/7 [00:05<00:14,  2.89s/it]\u001b[32m[I 2022-01-15 11:28:40,656]\u001b[0m Trial 1 finished with value: 0.46709694709792804 and parameters: {'feature_fraction': 0.4}. Best is trial 1 with value: 0.46709694709792804.\u001b[0m\n",
      "feature_fraction, val_score: 0.467097:  29%|##8       | 2/7 [00:05<00:14,  2.89s/it]"
     ]
    },
    {
     "name": "stdout",
     "output_type": "stream",
     "text": [
      "Early stopping, best iteration is:\n",
      "[56]\tvalid_0's binary_logloss: 0.387516\tvalid_1's binary_logloss: 0.467097\n"
     ]
    },
    {
     "name": "stderr",
     "output_type": "stream",
     "text": [
      "c:\\work\\KeibaAI\\.venv\\lib\\site-packages\\lightgbm\\engine.py:181: UserWarning: 'early_stopping_rounds' argument is deprecated and will be removed in a future release of LightGBM. Pass 'early_stopping()' callback via 'callbacks' argument instead.\n",
      "  _log_warning(\"'early_stopping_rounds' argument is deprecated and will be removed in a future release of LightGBM. \"\n",
      "c:\\work\\KeibaAI\\.venv\\lib\\site-packages\\lightgbm\\basic.py:2068: UserWarning: categorical_feature in Dataset is overridden.\n",
      "New categorical_feature is ['father', 'fathers_father', 'fathers_mother', 'ground', 'jockey_id', 'mother', 'mothers_father', 'mothers_mother', 'place_id', 'race_type', 'sex', 'trainer_id', 'turn', 'weather']\n",
      "  _log_warning('categorical_feature in Dataset is overridden.\\n'\n",
      "c:\\work\\KeibaAI\\.venv\\lib\\site-packages\\lightgbm\\engine.py:240: UserWarning: 'verbose_eval' argument is deprecated and will be removed in a future release of LightGBM. Pass 'log_evaluation()' callback via 'callbacks' argument instead.\n",
      "  _log_warning(\"'verbose_eval' argument is deprecated and will be removed in a future release of LightGBM. \"\n"
     ]
    },
    {
     "name": "stdout",
     "output_type": "stream",
     "text": [
      "[LightGBM] [Info] Number of positive: 31528, number of negative: 116705\n",
      "[LightGBM] [Warning] Auto-choosing row-wise multi-threading, the overhead of testing was 0.002105 seconds.\n",
      "You can set `force_row_wise=true` to remove the overhead.\n",
      "And if memory is not enough, you can set `force_col_wise=true`.\n",
      "[LightGBM] [Info] Total Bins 19630\n",
      "[LightGBM] [Info] Number of data points in the train set: 148233, number of used features: 36\n",
      "[LightGBM] [Info] [binary:BoostFromScore]: pavg=0.212692 -> initscore=-1.308773\n",
      "[LightGBM] [Info] Start training from score -1.308773\n",
      "Training until validation scores don't improve for 100 rounds\n"
     ]
    },
    {
     "name": "stderr",
     "output_type": "stream",
     "text": [
      "c:\\work\\KeibaAI\\.venv\\lib\\site-packages\\lightgbm\\basic.py:1780: UserWarning: Overriding the parameters from Reference Dataset.\n",
      "  _log_warning('Overriding the parameters from Reference Dataset.')\n",
      "c:\\work\\KeibaAI\\.venv\\lib\\site-packages\\lightgbm\\basic.py:1513: UserWarning: categorical_column in param dict is overridden.\n",
      "  _log_warning(f'{cat_alias} in param dict is overridden.')\n"
     ]
    },
    {
     "name": "stdout",
     "output_type": "stream",
     "text": [
      "[100]\tvalid_0's binary_logloss: 0.352386\tvalid_1's binary_logloss: 0.472237\n"
     ]
    },
    {
     "name": "stderr",
     "output_type": "stream",
     "text": [
      "feature_fraction, val_score: 0.467097:  43%|####2     | 3/7 [00:09<00:12,  3.19s/it]\u001b[32m[I 2022-01-15 11:28:44,209]\u001b[0m Trial 2 finished with value: 0.4676167861720478 and parameters: {'feature_fraction': 0.5}. Best is trial 1 with value: 0.46709694709792804.\u001b[0m\n",
      "feature_fraction, val_score: 0.467097:  43%|####2     | 3/7 [00:09<00:12,  3.19s/it]"
     ]
    },
    {
     "name": "stdout",
     "output_type": "stream",
     "text": [
      "Early stopping, best iteration is:\n",
      "[48]\tvalid_0's binary_logloss: 0.39184\tvalid_1's binary_logloss: 0.467617\n"
     ]
    },
    {
     "name": "stderr",
     "output_type": "stream",
     "text": [
      "c:\\work\\KeibaAI\\.venv\\lib\\site-packages\\lightgbm\\engine.py:181: UserWarning: 'early_stopping_rounds' argument is deprecated and will be removed in a future release of LightGBM. Pass 'early_stopping()' callback via 'callbacks' argument instead.\n",
      "  _log_warning(\"'early_stopping_rounds' argument is deprecated and will be removed in a future release of LightGBM. \"\n",
      "c:\\work\\KeibaAI\\.venv\\lib\\site-packages\\lightgbm\\basic.py:2068: UserWarning: categorical_feature in Dataset is overridden.\n",
      "New categorical_feature is ['father', 'fathers_father', 'fathers_mother', 'ground', 'jockey_id', 'mother', 'mothers_father', 'mothers_mother', 'place_id', 'race_type', 'sex', 'trainer_id', 'turn', 'weather']\n",
      "  _log_warning('categorical_feature in Dataset is overridden.\\n'\n",
      "c:\\work\\KeibaAI\\.venv\\lib\\site-packages\\lightgbm\\engine.py:240: UserWarning: 'verbose_eval' argument is deprecated and will be removed in a future release of LightGBM. Pass 'log_evaluation()' callback via 'callbacks' argument instead.\n",
      "  _log_warning(\"'verbose_eval' argument is deprecated and will be removed in a future release of LightGBM. \"\n"
     ]
    },
    {
     "name": "stdout",
     "output_type": "stream",
     "text": [
      "[LightGBM] [Info] Number of positive: 31528, number of negative: 116705\n",
      "[LightGBM] [Warning] Auto-choosing col-wise multi-threading, the overhead of testing was 0.016192 seconds.\n",
      "You can set `force_col_wise=true` to remove the overhead.\n",
      "[LightGBM] [Info] Total Bins 19630\n",
      "[LightGBM] [Info] Number of data points in the train set: 148233, number of used features: 36\n",
      "[LightGBM] [Info] [binary:BoostFromScore]: pavg=0.212692 -> initscore=-1.308773\n",
      "[LightGBM] [Info] Start training from score -1.308773\n",
      "Training until validation scores don't improve for 100 rounds\n"
     ]
    },
    {
     "name": "stderr",
     "output_type": "stream",
     "text": [
      "c:\\work\\KeibaAI\\.venv\\lib\\site-packages\\lightgbm\\basic.py:1780: UserWarning: Overriding the parameters from Reference Dataset.\n",
      "  _log_warning('Overriding the parameters from Reference Dataset.')\n",
      "c:\\work\\KeibaAI\\.venv\\lib\\site-packages\\lightgbm\\basic.py:1513: UserWarning: categorical_column in param dict is overridden.\n",
      "  _log_warning(f'{cat_alias} in param dict is overridden.')\n"
     ]
    },
    {
     "name": "stdout",
     "output_type": "stream",
     "text": [
      "[100]\tvalid_0's binary_logloss: 0.346116\tvalid_1's binary_logloss: 0.474172\n"
     ]
    },
    {
     "name": "stderr",
     "output_type": "stream",
     "text": [
      "feature_fraction, val_score: 0.467097:  57%|#####7    | 4/7 [00:13<00:10,  3.40s/it]\u001b[32m[I 2022-01-15 11:28:47,927]\u001b[0m Trial 3 finished with value: 0.4681425890931945 and parameters: {'feature_fraction': 0.8}. Best is trial 1 with value: 0.46709694709792804.\u001b[0m\n",
      "feature_fraction, val_score: 0.467097:  57%|#####7    | 4/7 [00:13<00:10,  3.40s/it]"
     ]
    },
    {
     "name": "stdout",
     "output_type": "stream",
     "text": [
      "Early stopping, best iteration is:\n",
      "[36]\tvalid_0's binary_logloss: 0.40166\tvalid_1's binary_logloss: 0.468143\n"
     ]
    },
    {
     "name": "stderr",
     "output_type": "stream",
     "text": [
      "c:\\work\\KeibaAI\\.venv\\lib\\site-packages\\lightgbm\\engine.py:181: UserWarning: 'early_stopping_rounds' argument is deprecated and will be removed in a future release of LightGBM. Pass 'early_stopping()' callback via 'callbacks' argument instead.\n",
      "  _log_warning(\"'early_stopping_rounds' argument is deprecated and will be removed in a future release of LightGBM. \"\n",
      "c:\\work\\KeibaAI\\.venv\\lib\\site-packages\\lightgbm\\basic.py:2068: UserWarning: categorical_feature in Dataset is overridden.\n",
      "New categorical_feature is ['father', 'fathers_father', 'fathers_mother', 'ground', 'jockey_id', 'mother', 'mothers_father', 'mothers_mother', 'place_id', 'race_type', 'sex', 'trainer_id', 'turn', 'weather']\n",
      "  _log_warning('categorical_feature in Dataset is overridden.\\n'\n",
      "c:\\work\\KeibaAI\\.venv\\lib\\site-packages\\lightgbm\\engine.py:240: UserWarning: 'verbose_eval' argument is deprecated and will be removed in a future release of LightGBM. Pass 'log_evaluation()' callback via 'callbacks' argument instead.\n",
      "  _log_warning(\"'verbose_eval' argument is deprecated and will be removed in a future release of LightGBM. \"\n"
     ]
    },
    {
     "name": "stdout",
     "output_type": "stream",
     "text": [
      "[LightGBM] [Info] Number of positive: 31528, number of negative: 116705\n",
      "[LightGBM] [Warning] Auto-choosing col-wise multi-threading, the overhead of testing was 0.017575 seconds.\n",
      "You can set `force_col_wise=true` to remove the overhead.\n",
      "[LightGBM] [Info] Total Bins 19630\n",
      "[LightGBM] [Info] Number of data points in the train set: 148233, number of used features: 36\n",
      "[LightGBM] [Info] [binary:BoostFromScore]: pavg=0.212692 -> initscore=-1.308773\n"
     ]
    },
    {
     "name": "stderr",
     "output_type": "stream",
     "text": [
      "c:\\work\\KeibaAI\\.venv\\lib\\site-packages\\lightgbm\\basic.py:1780: UserWarning: Overriding the parameters from Reference Dataset.\n",
      "  _log_warning('Overriding the parameters from Reference Dataset.')\n",
      "c:\\work\\KeibaAI\\.venv\\lib\\site-packages\\lightgbm\\basic.py:1513: UserWarning: categorical_column in param dict is overridden.\n",
      "  _log_warning(f'{cat_alias} in param dict is overridden.')\n"
     ]
    },
    {
     "name": "stdout",
     "output_type": "stream",
     "text": [
      "[LightGBM] [Info] Start training from score -1.308773\n",
      "Training until validation scores don't improve for 100 rounds\n",
      "[100]\tvalid_0's binary_logloss: 0.344673\tvalid_1's binary_logloss: 0.474407\n"
     ]
    },
    {
     "name": "stderr",
     "output_type": "stream",
     "text": [
      "feature_fraction, val_score: 0.467097:  71%|#######1  | 5/7 [00:17<00:07,  3.71s/it]\u001b[32m[I 2022-01-15 11:28:52,186]\u001b[0m Trial 4 finished with value: 0.46801067558011483 and parameters: {'feature_fraction': 1.0}. Best is trial 1 with value: 0.46709694709792804.\u001b[0m\n",
      "feature_fraction, val_score: 0.467097:  71%|#######1  | 5/7 [00:17<00:07,  3.71s/it]"
     ]
    },
    {
     "name": "stdout",
     "output_type": "stream",
     "text": [
      "Early stopping, best iteration is:\n",
      "[42]\tvalid_0's binary_logloss: 0.393042\tvalid_1's binary_logloss: 0.468011\n"
     ]
    },
    {
     "name": "stderr",
     "output_type": "stream",
     "text": [
      "c:\\work\\KeibaAI\\.venv\\lib\\site-packages\\lightgbm\\engine.py:181: UserWarning: 'early_stopping_rounds' argument is deprecated and will be removed in a future release of LightGBM. Pass 'early_stopping()' callback via 'callbacks' argument instead.\n",
      "  _log_warning(\"'early_stopping_rounds' argument is deprecated and will be removed in a future release of LightGBM. \"\n",
      "c:\\work\\KeibaAI\\.venv\\lib\\site-packages\\lightgbm\\basic.py:2068: UserWarning: categorical_feature in Dataset is overridden.\n",
      "New categorical_feature is ['father', 'fathers_father', 'fathers_mother', 'ground', 'jockey_id', 'mother', 'mothers_father', 'mothers_mother', 'place_id', 'race_type', 'sex', 'trainer_id', 'turn', 'weather']\n",
      "  _log_warning('categorical_feature in Dataset is overridden.\\n'\n",
      "c:\\work\\KeibaAI\\.venv\\lib\\site-packages\\lightgbm\\engine.py:240: UserWarning: 'verbose_eval' argument is deprecated and will be removed in a future release of LightGBM. Pass 'log_evaluation()' callback via 'callbacks' argument instead.\n",
      "  _log_warning(\"'verbose_eval' argument is deprecated and will be removed in a future release of LightGBM. \"\n"
     ]
    },
    {
     "name": "stdout",
     "output_type": "stream",
     "text": [
      "[LightGBM] [Info] Number of positive: 31528, number of negative: 116705\n",
      "[LightGBM] [Warning] Auto-choosing col-wise multi-threading, the overhead of testing was 0.012398 seconds.\n",
      "You can set `force_col_wise=true` to remove the overhead.\n",
      "[LightGBM] [Info] Total Bins 19630\n",
      "[LightGBM] [Info] Number of data points in the train set: 148233, number of used features: 36\n",
      "[LightGBM] [Info] [binary:BoostFromScore]: pavg=0.212692 -> initscore=-1.308773\n",
      "[LightGBM] [Info] Start training from score -1.308773\n",
      "Training until validation scores don't improve for 100 rounds\n"
     ]
    },
    {
     "name": "stderr",
     "output_type": "stream",
     "text": [
      "c:\\work\\KeibaAI\\.venv\\lib\\site-packages\\lightgbm\\basic.py:1780: UserWarning: Overriding the parameters from Reference Dataset.\n",
      "  _log_warning('Overriding the parameters from Reference Dataset.')\n",
      "c:\\work\\KeibaAI\\.venv\\lib\\site-packages\\lightgbm\\basic.py:1513: UserWarning: categorical_column in param dict is overridden.\n",
      "  _log_warning(f'{cat_alias} in param dict is overridden.')\n"
     ]
    },
    {
     "name": "stdout",
     "output_type": "stream",
     "text": [
      "[100]\tvalid_0's binary_logloss: 0.347665\tvalid_1's binary_logloss: 0.473137\n"
     ]
    },
    {
     "name": "stderr",
     "output_type": "stream",
     "text": [
      "feature_fraction, val_score: 0.467097:  86%|########5 | 6/7 [00:20<00:03,  3.54s/it]\u001b[32m[I 2022-01-15 11:28:55,388]\u001b[0m Trial 5 finished with value: 0.4679005685456918 and parameters: {'feature_fraction': 0.7}. Best is trial 1 with value: 0.46709694709792804.\u001b[0m\n",
      "feature_fraction, val_score: 0.467097:  86%|########5 | 6/7 [00:20<00:03,  3.54s/it]"
     ]
    },
    {
     "name": "stdout",
     "output_type": "stream",
     "text": [
      "Early stopping, best iteration is:\n",
      "[38]\tvalid_0's binary_logloss: 0.400554\tvalid_1's binary_logloss: 0.467901\n"
     ]
    },
    {
     "name": "stderr",
     "output_type": "stream",
     "text": [
      "c:\\work\\KeibaAI\\.venv\\lib\\site-packages\\lightgbm\\engine.py:181: UserWarning: 'early_stopping_rounds' argument is deprecated and will be removed in a future release of LightGBM. Pass 'early_stopping()' callback via 'callbacks' argument instead.\n",
      "  _log_warning(\"'early_stopping_rounds' argument is deprecated and will be removed in a future release of LightGBM. \"\n",
      "c:\\work\\KeibaAI\\.venv\\lib\\site-packages\\lightgbm\\basic.py:2068: UserWarning: categorical_feature in Dataset is overridden.\n",
      "New categorical_feature is ['father', 'fathers_father', 'fathers_mother', 'ground', 'jockey_id', 'mother', 'mothers_father', 'mothers_mother', 'place_id', 'race_type', 'sex', 'trainer_id', 'turn', 'weather']\n",
      "  _log_warning('categorical_feature in Dataset is overridden.\\n'\n",
      "c:\\work\\KeibaAI\\.venv\\lib\\site-packages\\lightgbm\\engine.py:240: UserWarning: 'verbose_eval' argument is deprecated and will be removed in a future release of LightGBM. Pass 'log_evaluation()' callback via 'callbacks' argument instead.\n",
      "  _log_warning(\"'verbose_eval' argument is deprecated and will be removed in a future release of LightGBM. \"\n"
     ]
    },
    {
     "name": "stdout",
     "output_type": "stream",
     "text": [
      "[LightGBM] [Info] Number of positive: 31528, number of negative: 116705\n",
      "[LightGBM] [Warning] Auto-choosing col-wise multi-threading, the overhead of testing was 0.011465 seconds.\n",
      "You can set `force_col_wise=true` to remove the overhead.\n",
      "[LightGBM] [Info] Total Bins 19630\n",
      "[LightGBM] [Info] Number of data points in the train set: 148233, number of used features: 36\n",
      "[LightGBM] [Info] [binary:BoostFromScore]: pavg=0.212692 -> initscore=-1.308773\n",
      "[LightGBM] [Info] Start training from score -1.308773\n",
      "Training until validation scores don't improve for 100 rounds\n"
     ]
    },
    {
     "name": "stderr",
     "output_type": "stream",
     "text": [
      "c:\\work\\KeibaAI\\.venv\\lib\\site-packages\\lightgbm\\basic.py:1780: UserWarning: Overriding the parameters from Reference Dataset.\n",
      "  _log_warning('Overriding the parameters from Reference Dataset.')\n",
      "c:\\work\\KeibaAI\\.venv\\lib\\site-packages\\lightgbm\\basic.py:1513: UserWarning: categorical_column in param dict is overridden.\n",
      "  _log_warning(f'{cat_alias} in param dict is overridden.')\n"
     ]
    },
    {
     "name": "stdout",
     "output_type": "stream",
     "text": [
      "[100]\tvalid_0's binary_logloss: 0.348957\tvalid_1's binary_logloss: 0.472605\n"
     ]
    },
    {
     "name": "stderr",
     "output_type": "stream",
     "text": [
      "feature_fraction, val_score: 0.467097: 100%|##########| 7/7 [00:23<00:00,  3.40s/it]\u001b[32m[I 2022-01-15 11:28:58,494]\u001b[0m Trial 6 finished with value: 0.4675000512423353 and parameters: {'feature_fraction': 0.6}. Best is trial 1 with value: 0.46709694709792804.\u001b[0m\n",
      "feature_fraction, val_score: 0.467097: 100%|##########| 7/7 [00:23<00:00,  3.39s/it]\n"
     ]
    },
    {
     "name": "stdout",
     "output_type": "stream",
     "text": [
      "Early stopping, best iteration is:\n",
      "[39]\tvalid_0's binary_logloss: 0.40082\tvalid_1's binary_logloss: 0.4675\n"
     ]
    },
    {
     "name": "stderr",
     "output_type": "stream",
     "text": [
      "num_leaves, val_score: 0.467097:   0%|          | 0/20 [00:00<?, ?it/s]c:\\work\\KeibaAI\\.venv\\lib\\site-packages\\lightgbm\\engine.py:181: UserWarning: 'early_stopping_rounds' argument is deprecated and will be removed in a future release of LightGBM. Pass 'early_stopping()' callback via 'callbacks' argument instead.\n",
      "  _log_warning(\"'early_stopping_rounds' argument is deprecated and will be removed in a future release of LightGBM. \"\n",
      "c:\\work\\KeibaAI\\.venv\\lib\\site-packages\\lightgbm\\basic.py:2068: UserWarning: categorical_feature in Dataset is overridden.\n",
      "New categorical_feature is ['father', 'fathers_father', 'fathers_mother', 'ground', 'jockey_id', 'mother', 'mothers_father', 'mothers_mother', 'place_id', 'race_type', 'sex', 'trainer_id', 'turn', 'weather']\n",
      "  _log_warning('categorical_feature in Dataset is overridden.\\n'\n",
      "c:\\work\\KeibaAI\\.venv\\lib\\site-packages\\lightgbm\\engine.py:240: UserWarning: 'verbose_eval' argument is deprecated and will be removed in a future release of LightGBM. Pass 'log_evaluation()' callback via 'callbacks' argument instead.\n",
      "  _log_warning(\"'verbose_eval' argument is deprecated and will be removed in a future release of LightGBM. \"\n"
     ]
    },
    {
     "name": "stdout",
     "output_type": "stream",
     "text": [
      "[LightGBM] [Info] Number of positive: 31528, number of negative: 116705\n",
      "[LightGBM] [Warning] Auto-choosing col-wise multi-threading, the overhead of testing was 0.013185 seconds.\n",
      "You can set `force_col_wise=true` to remove the overhead.\n",
      "[LightGBM] [Info] Total Bins 19630\n",
      "[LightGBM] [Info] Number of data points in the train set: 148233, number of used features: 36\n",
      "[LightGBM] [Info] [binary:BoostFromScore]: pavg=0.212692 -> initscore=-1.308773\n",
      "[LightGBM] [Info] Start training from score -1.308773\n",
      "Training until validation scores don't improve for 100 rounds\n"
     ]
    },
    {
     "name": "stderr",
     "output_type": "stream",
     "text": [
      "c:\\work\\KeibaAI\\.venv\\lib\\site-packages\\lightgbm\\basic.py:1780: UserWarning: Overriding the parameters from Reference Dataset.\n",
      "  _log_warning('Overriding the parameters from Reference Dataset.')\n",
      "c:\\work\\KeibaAI\\.venv\\lib\\site-packages\\lightgbm\\basic.py:1513: UserWarning: categorical_column in param dict is overridden.\n",
      "  _log_warning(f'{cat_alias} in param dict is overridden.')\n"
     ]
    },
    {
     "name": "stdout",
     "output_type": "stream",
     "text": [
      "[100]\tvalid_0's binary_logloss: 0.253692\tvalid_1's binary_logloss: 0.494149\n"
     ]
    },
    {
     "name": "stderr",
     "output_type": "stream",
     "text": [
      "num_leaves, val_score: 0.467097:   5%|5         | 1/20 [00:05<01:37,  5.14s/it]\u001b[32m[I 2022-01-15 11:29:03,649]\u001b[0m Trial 7 finished with value: 0.46875688281205735 and parameters: {'num_leaves': 170}. Best is trial 7 with value: 0.46875688281205735.\u001b[0m\n",
      "num_leaves, val_score: 0.467097:   5%|5         | 1/20 [00:05<01:37,  5.14s/it]"
     ]
    },
    {
     "name": "stdout",
     "output_type": "stream",
     "text": [
      "Early stopping, best iteration is:\n",
      "[28]\tvalid_0's binary_logloss: 0.375666\tvalid_1's binary_logloss: 0.468757\n"
     ]
    },
    {
     "name": "stderr",
     "output_type": "stream",
     "text": [
      "c:\\work\\KeibaAI\\.venv\\lib\\site-packages\\lightgbm\\engine.py:181: UserWarning: 'early_stopping_rounds' argument is deprecated and will be removed in a future release of LightGBM. Pass 'early_stopping()' callback via 'callbacks' argument instead.\n",
      "  _log_warning(\"'early_stopping_rounds' argument is deprecated and will be removed in a future release of LightGBM. \"\n",
      "c:\\work\\KeibaAI\\.venv\\lib\\site-packages\\lightgbm\\basic.py:2068: UserWarning: categorical_feature in Dataset is overridden.\n",
      "New categorical_feature is ['father', 'fathers_father', 'fathers_mother', 'ground', 'jockey_id', 'mother', 'mothers_father', 'mothers_mother', 'place_id', 'race_type', 'sex', 'trainer_id', 'turn', 'weather']\n",
      "  _log_warning('categorical_feature in Dataset is overridden.\\n'\n",
      "c:\\work\\KeibaAI\\.venv\\lib\\site-packages\\lightgbm\\engine.py:240: UserWarning: 'verbose_eval' argument is deprecated and will be removed in a future release of LightGBM. Pass 'log_evaluation()' callback via 'callbacks' argument instead.\n",
      "  _log_warning(\"'verbose_eval' argument is deprecated and will be removed in a future release of LightGBM. \"\n"
     ]
    },
    {
     "name": "stdout",
     "output_type": "stream",
     "text": [
      "[LightGBM] [Info] Number of positive: 31528, number of negative: 116705\n",
      "[LightGBM] [Warning] Auto-choosing col-wise multi-threading, the overhead of testing was 0.010599 seconds.\n",
      "You can set `force_col_wise=true` to remove the overhead.\n",
      "[LightGBM] [Info] Total Bins 19630\n",
      "[LightGBM] [Info] Number of data points in the train set: 148233, number of used features: 36\n",
      "[LightGBM] [Info] [binary:BoostFromScore]: pavg=0.212692 -> initscore=-1.308773\n",
      "[LightGBM] [Info] Start training from score -1.308773\n",
      "Training until validation scores don't improve for 100 rounds\n"
     ]
    },
    {
     "name": "stderr",
     "output_type": "stream",
     "text": [
      "c:\\work\\KeibaAI\\.venv\\lib\\site-packages\\lightgbm\\basic.py:1780: UserWarning: Overriding the parameters from Reference Dataset.\n",
      "  _log_warning('Overriding the parameters from Reference Dataset.')\n",
      "c:\\work\\KeibaAI\\.venv\\lib\\site-packages\\lightgbm\\basic.py:1513: UserWarning: categorical_column in param dict is overridden.\n",
      "  _log_warning(f'{cat_alias} in param dict is overridden.')\n"
     ]
    },
    {
     "name": "stdout",
     "output_type": "stream",
     "text": [
      "[100]\tvalid_0's binary_logloss: 0.241493\tvalid_1's binary_logloss: 0.49588\n"
     ]
    },
    {
     "name": "stderr",
     "output_type": "stream",
     "text": [
      "num_leaves, val_score: 0.467097:  10%|#         | 2/20 [00:10<01:33,  5.21s/it]\u001b[32m[I 2022-01-15 11:29:08,902]\u001b[0m Trial 8 finished with value: 0.4685618944477789 and parameters: {'num_leaves': 209}. Best is trial 8 with value: 0.4685618944477789.\u001b[0m\n",
      "num_leaves, val_score: 0.467097:  10%|#         | 2/20 [00:10<01:33,  5.21s/it]"
     ]
    },
    {
     "name": "stdout",
     "output_type": "stream",
     "text": [
      "Early stopping, best iteration is:\n",
      "[28]\tvalid_0's binary_logloss: 0.369387\tvalid_1's binary_logloss: 0.468562\n"
     ]
    },
    {
     "name": "stderr",
     "output_type": "stream",
     "text": [
      "c:\\work\\KeibaAI\\.venv\\lib\\site-packages\\lightgbm\\engine.py:181: UserWarning: 'early_stopping_rounds' argument is deprecated and will be removed in a future release of LightGBM. Pass 'early_stopping()' callback via 'callbacks' argument instead.\n",
      "  _log_warning(\"'early_stopping_rounds' argument is deprecated and will be removed in a future release of LightGBM. \"\n",
      "c:\\work\\KeibaAI\\.venv\\lib\\site-packages\\lightgbm\\basic.py:2068: UserWarning: categorical_feature in Dataset is overridden.\n",
      "New categorical_feature is ['father', 'fathers_father', 'fathers_mother', 'ground', 'jockey_id', 'mother', 'mothers_father', 'mothers_mother', 'place_id', 'race_type', 'sex', 'trainer_id', 'turn', 'weather']\n",
      "  _log_warning('categorical_feature in Dataset is overridden.\\n'\n",
      "c:\\work\\KeibaAI\\.venv\\lib\\site-packages\\lightgbm\\engine.py:240: UserWarning: 'verbose_eval' argument is deprecated and will be removed in a future release of LightGBM. Pass 'log_evaluation()' callback via 'callbacks' argument instead.\n",
      "  _log_warning(\"'verbose_eval' argument is deprecated and will be removed in a future release of LightGBM. \"\n"
     ]
    },
    {
     "name": "stdout",
     "output_type": "stream",
     "text": [
      "[LightGBM] [Info] Number of positive: 31528, number of negative: 116705\n",
      "[LightGBM] [Warning] Auto-choosing col-wise multi-threading, the overhead of testing was 0.014275 seconds.\n",
      "You can set `force_col_wise=true` to remove the overhead.\n",
      "[LightGBM] [Info] Total Bins 19630\n",
      "[LightGBM] [Info] Number of data points in the train set: 148233, number of used features: 36\n",
      "[LightGBM] [Info] [binary:BoostFromScore]: pavg=0.212692 -> initscore=-1.308773\n",
      "[LightGBM] [Info] Start training from score -1.308773\n",
      "Training until validation scores don't improve for 100 rounds\n"
     ]
    },
    {
     "name": "stderr",
     "output_type": "stream",
     "text": [
      "c:\\work\\KeibaAI\\.venv\\lib\\site-packages\\lightgbm\\basic.py:1780: UserWarning: Overriding the parameters from Reference Dataset.\n",
      "  _log_warning('Overriding the parameters from Reference Dataset.')\n",
      "c:\\work\\KeibaAI\\.venv\\lib\\site-packages\\lightgbm\\basic.py:1513: UserWarning: categorical_column in param dict is overridden.\n",
      "  _log_warning(f'{cat_alias} in param dict is overridden.')\n"
     ]
    },
    {
     "name": "stdout",
     "output_type": "stream",
     "text": [
      "[100]\tvalid_0's binary_logloss: 0.340234\tvalid_1's binary_logloss: 0.473629\n"
     ]
    },
    {
     "name": "stderr",
     "output_type": "stream",
     "text": [
      "num_leaves, val_score: 0.467097:  15%|#5        | 3/20 [00:13<01:15,  4.44s/it]\u001b[32m[I 2022-01-15 11:29:12,435]\u001b[0m Trial 9 finished with value: 0.467782625154254 and parameters: {'num_leaves': 41}. Best is trial 9 with value: 0.467782625154254.\u001b[0m\n",
      "num_leaves, val_score: 0.467097:  15%|#5        | 3/20 [00:13<01:15,  4.44s/it]"
     ]
    },
    {
     "name": "stdout",
     "output_type": "stream",
     "text": [
      "Early stopping, best iteration is:\n",
      "[39]\tvalid_0's binary_logloss: 0.39699\tvalid_1's binary_logloss: 0.467783\n"
     ]
    },
    {
     "name": "stderr",
     "output_type": "stream",
     "text": [
      "c:\\work\\KeibaAI\\.venv\\lib\\site-packages\\lightgbm\\engine.py:181: UserWarning: 'early_stopping_rounds' argument is deprecated and will be removed in a future release of LightGBM. Pass 'early_stopping()' callback via 'callbacks' argument instead.\n",
      "  _log_warning(\"'early_stopping_rounds' argument is deprecated and will be removed in a future release of LightGBM. \"\n",
      "c:\\work\\KeibaAI\\.venv\\lib\\site-packages\\lightgbm\\basic.py:2068: UserWarning: categorical_feature in Dataset is overridden.\n",
      "New categorical_feature is ['father', 'fathers_father', 'fathers_mother', 'ground', 'jockey_id', 'mother', 'mothers_father', 'mothers_mother', 'place_id', 'race_type', 'sex', 'trainer_id', 'turn', 'weather']\n",
      "  _log_warning('categorical_feature in Dataset is overridden.\\n'\n",
      "c:\\work\\KeibaAI\\.venv\\lib\\site-packages\\lightgbm\\engine.py:240: UserWarning: 'verbose_eval' argument is deprecated and will be removed in a future release of LightGBM. Pass 'log_evaluation()' callback via 'callbacks' argument instead.\n",
      "  _log_warning(\"'verbose_eval' argument is deprecated and will be removed in a future release of LightGBM. \"\n"
     ]
    },
    {
     "name": "stdout",
     "output_type": "stream",
     "text": [
      "[LightGBM] [Info] Number of positive: 31528, number of negative: 116705\n",
      "[LightGBM] [Warning] Auto-choosing col-wise multi-threading, the overhead of testing was 0.013941 seconds.\n",
      "You can set `force_col_wise=true` to remove the overhead.\n",
      "[LightGBM] [Info] Total Bins 19630\n",
      "[LightGBM] [Info] Number of data points in the train set: 148233, number of used features: 36\n",
      "[LightGBM] [Info] [binary:BoostFromScore]: pavg=0.212692 -> initscore=-1.308773\n"
     ]
    },
    {
     "name": "stderr",
     "output_type": "stream",
     "text": [
      "c:\\work\\KeibaAI\\.venv\\lib\\site-packages\\lightgbm\\basic.py:1780: UserWarning: Overriding the parameters from Reference Dataset.\n",
      "  _log_warning('Overriding the parameters from Reference Dataset.')\n",
      "c:\\work\\KeibaAI\\.venv\\lib\\site-packages\\lightgbm\\basic.py:1513: UserWarning: categorical_column in param dict is overridden.\n",
      "  _log_warning(f'{cat_alias} in param dict is overridden.')\n"
     ]
    },
    {
     "name": "stdout",
     "output_type": "stream",
     "text": [
      "[LightGBM] [Info] Start training from score -1.308773\n",
      "Training until validation scores don't improve for 100 rounds\n",
      "[100]\tvalid_0's binary_logloss: 0.229418\tvalid_1's binary_logloss: 0.499637\n"
     ]
    },
    {
     "name": "stderr",
     "output_type": "stream",
     "text": [
      "num_leaves, val_score: 0.467097:  20%|##        | 4/20 [00:20<01:24,  5.27s/it]\u001b[32m[I 2022-01-15 11:29:18,968]\u001b[0m Trial 10 finished with value: 0.46905098135794265 and parameters: {'num_leaves': 252}. Best is trial 9 with value: 0.467782625154254.\u001b[0m\n",
      "num_leaves, val_score: 0.467097:  20%|##        | 4/20 [00:20<01:24,  5.27s/it]"
     ]
    },
    {
     "name": "stdout",
     "output_type": "stream",
     "text": [
      "Early stopping, best iteration is:\n",
      "[28]\tvalid_0's binary_logloss: 0.363114\tvalid_1's binary_logloss: 0.469051\n"
     ]
    },
    {
     "name": "stderr",
     "output_type": "stream",
     "text": [
      "c:\\work\\KeibaAI\\.venv\\lib\\site-packages\\lightgbm\\engine.py:181: UserWarning: 'early_stopping_rounds' argument is deprecated and will be removed in a future release of LightGBM. Pass 'early_stopping()' callback via 'callbacks' argument instead.\n",
      "  _log_warning(\"'early_stopping_rounds' argument is deprecated and will be removed in a future release of LightGBM. \"\n",
      "c:\\work\\KeibaAI\\.venv\\lib\\site-packages\\lightgbm\\basic.py:2068: UserWarning: categorical_feature in Dataset is overridden.\n",
      "New categorical_feature is ['father', 'fathers_father', 'fathers_mother', 'ground', 'jockey_id', 'mother', 'mothers_father', 'mothers_mother', 'place_id', 'race_type', 'sex', 'trainer_id', 'turn', 'weather']\n",
      "  _log_warning('categorical_feature in Dataset is overridden.\\n'\n",
      "c:\\work\\KeibaAI\\.venv\\lib\\site-packages\\lightgbm\\engine.py:240: UserWarning: 'verbose_eval' argument is deprecated and will be removed in a future release of LightGBM. Pass 'log_evaluation()' callback via 'callbacks' argument instead.\n",
      "  _log_warning(\"'verbose_eval' argument is deprecated and will be removed in a future release of LightGBM. \"\n"
     ]
    },
    {
     "name": "stdout",
     "output_type": "stream",
     "text": [
      "[LightGBM] [Info] Number of positive: 31528, number of negative: 116705\n",
      "[LightGBM] [Warning] Auto-choosing row-wise multi-threading, the overhead of testing was 0.002342 seconds.\n",
      "You can set `force_row_wise=true` to remove the overhead.\n",
      "And if memory is not enough, you can set `force_col_wise=true`.\n",
      "[LightGBM] [Info] Total Bins 19630\n",
      "[LightGBM] [Info] Number of data points in the train set: 148233, number of used features: 36\n",
      "[LightGBM] [Info] [binary:BoostFromScore]: pavg=0.212692 -> initscore=-1.308773\n",
      "[LightGBM] [Info] Start training from score -1.308773\n",
      "Training until validation scores don't improve for 100 rounds\n"
     ]
    },
    {
     "name": "stderr",
     "output_type": "stream",
     "text": [
      "c:\\work\\KeibaAI\\.venv\\lib\\site-packages\\lightgbm\\basic.py:1780: UserWarning: Overriding the parameters from Reference Dataset.\n",
      "  _log_warning('Overriding the parameters from Reference Dataset.')\n",
      "c:\\work\\KeibaAI\\.venv\\lib\\site-packages\\lightgbm\\basic.py:1513: UserWarning: categorical_column in param dict is overridden.\n",
      "  _log_warning(f'{cat_alias} in param dict is overridden.')\n"
     ]
    },
    {
     "name": "stdout",
     "output_type": "stream",
     "text": [
      "[100]\tvalid_0's binary_logloss: 0.272101\tvalid_1's binary_logloss: 0.489866\n"
     ]
    },
    {
     "name": "stderr",
     "output_type": "stream",
     "text": [
      "num_leaves, val_score: 0.467097:  25%|##5       | 5/20 [00:26<01:22,  5.53s/it]\u001b[32m[I 2022-01-15 11:29:24,954]\u001b[0m Trial 11 finished with value: 0.46898863234766774 and parameters: {'num_leaves': 125}. Best is trial 9 with value: 0.467782625154254.\u001b[0m\n",
      "num_leaves, val_score: 0.467097:  25%|##5       | 5/20 [00:26<01:22,  5.53s/it]"
     ]
    },
    {
     "name": "stdout",
     "output_type": "stream",
     "text": [
      "Early stopping, best iteration is:\n",
      "[29]\tvalid_0's binary_logloss: 0.381287\tvalid_1's binary_logloss: 0.468989\n"
     ]
    },
    {
     "name": "stderr",
     "output_type": "stream",
     "text": [
      "c:\\work\\KeibaAI\\.venv\\lib\\site-packages\\lightgbm\\engine.py:181: UserWarning: 'early_stopping_rounds' argument is deprecated and will be removed in a future release of LightGBM. Pass 'early_stopping()' callback via 'callbacks' argument instead.\n",
      "  _log_warning(\"'early_stopping_rounds' argument is deprecated and will be removed in a future release of LightGBM. \"\n",
      "c:\\work\\KeibaAI\\.venv\\lib\\site-packages\\lightgbm\\basic.py:2068: UserWarning: categorical_feature in Dataset is overridden.\n",
      "New categorical_feature is ['father', 'fathers_father', 'fathers_mother', 'ground', 'jockey_id', 'mother', 'mothers_father', 'mothers_mother', 'place_id', 'race_type', 'sex', 'trainer_id', 'turn', 'weather']\n",
      "  _log_warning('categorical_feature in Dataset is overridden.\\n'\n",
      "c:\\work\\KeibaAI\\.venv\\lib\\site-packages\\lightgbm\\engine.py:240: UserWarning: 'verbose_eval' argument is deprecated and will be removed in a future release of LightGBM. Pass 'log_evaluation()' callback via 'callbacks' argument instead.\n",
      "  _log_warning(\"'verbose_eval' argument is deprecated and will be removed in a future release of LightGBM. \"\n"
     ]
    },
    {
     "name": "stdout",
     "output_type": "stream",
     "text": [
      "[LightGBM] [Info] Number of positive: 31528, number of negative: 116705\n",
      "[LightGBM] [Warning] Auto-choosing col-wise multi-threading, the overhead of testing was 0.012846 seconds.\n",
      "You can set `force_col_wise=true` to remove the overhead.\n",
      "[LightGBM] [Info] Total Bins 19630\n",
      "[LightGBM] [Info] Number of data points in the train set: 148233, number of used features: 36\n",
      "[LightGBM] [Info] [binary:BoostFromScore]: pavg=0.212692 -> initscore=-1.308773\n",
      "[LightGBM] [Info] Start training from score -1.308773\n",
      "Training until validation scores don't improve for 100 rounds\n"
     ]
    },
    {
     "name": "stderr",
     "output_type": "stream",
     "text": [
      "c:\\work\\KeibaAI\\.venv\\lib\\site-packages\\lightgbm\\basic.py:1780: UserWarning: Overriding the parameters from Reference Dataset.\n",
      "  _log_warning('Overriding the parameters from Reference Dataset.')\n",
      "c:\\work\\KeibaAI\\.venv\\lib\\site-packages\\lightgbm\\basic.py:1513: UserWarning: categorical_column in param dict is overridden.\n",
      "  _log_warning(f'{cat_alias} in param dict is overridden.')\n"
     ]
    },
    {
     "name": "stdout",
     "output_type": "stream",
     "text": [
      "[100]\tvalid_0's binary_logloss: 0.231733\tvalid_1's binary_logloss: 0.498444\n"
     ]
    },
    {
     "name": "stderr",
     "output_type": "stream",
     "text": [
      "num_leaves, val_score: 0.467097:  30%|###       | 6/20 [00:32<01:21,  5.80s/it]\u001b[32m[I 2022-01-15 11:29:31,274]\u001b[0m Trial 12 finished with value: 0.4685866892233754 and parameters: {'num_leaves': 240}. Best is trial 9 with value: 0.467782625154254.\u001b[0m\n",
      "num_leaves, val_score: 0.467097:  30%|###       | 6/20 [00:32<01:21,  5.80s/it]"
     ]
    },
    {
     "name": "stdout",
     "output_type": "stream",
     "text": [
      "Early stopping, best iteration is:\n",
      "[28]\tvalid_0's binary_logloss: 0.364487\tvalid_1's binary_logloss: 0.468587\n"
     ]
    },
    {
     "name": "stderr",
     "output_type": "stream",
     "text": [
      "c:\\work\\KeibaAI\\.venv\\lib\\site-packages\\lightgbm\\engine.py:181: UserWarning: 'early_stopping_rounds' argument is deprecated and will be removed in a future release of LightGBM. Pass 'early_stopping()' callback via 'callbacks' argument instead.\n",
      "  _log_warning(\"'early_stopping_rounds' argument is deprecated and will be removed in a future release of LightGBM. \"\n",
      "c:\\work\\KeibaAI\\.venv\\lib\\site-packages\\lightgbm\\basic.py:2068: UserWarning: categorical_feature in Dataset is overridden.\n",
      "New categorical_feature is ['father', 'fathers_father', 'fathers_mother', 'ground', 'jockey_id', 'mother', 'mothers_father', 'mothers_mother', 'place_id', 'race_type', 'sex', 'trainer_id', 'turn', 'weather']\n",
      "  _log_warning('categorical_feature in Dataset is overridden.\\n'\n",
      "c:\\work\\KeibaAI\\.venv\\lib\\site-packages\\lightgbm\\engine.py:240: UserWarning: 'verbose_eval' argument is deprecated and will be removed in a future release of LightGBM. Pass 'log_evaluation()' callback via 'callbacks' argument instead.\n",
      "  _log_warning(\"'verbose_eval' argument is deprecated and will be removed in a future release of LightGBM. \"\n"
     ]
    },
    {
     "name": "stdout",
     "output_type": "stream",
     "text": [
      "[LightGBM] [Info] Number of positive: 31528, number of negative: 116705\n",
      "[LightGBM] [Warning] Auto-choosing col-wise multi-threading, the overhead of testing was 0.013814 seconds.\n",
      "You can set `force_col_wise=true` to remove the overhead.\n",
      "[LightGBM] [Info] Total Bins 19630\n",
      "[LightGBM] [Info] Number of data points in the train set: 148233, number of used features: 36\n",
      "[LightGBM] [Info] [binary:BoostFromScore]: pavg=0.212692 -> initscore=-1.308773\n",
      "[LightGBM] [Info] Start training from score -1.308773\n",
      "Training until validation scores don't improve for 100 rounds\n"
     ]
    },
    {
     "name": "stderr",
     "output_type": "stream",
     "text": [
      "c:\\work\\KeibaAI\\.venv\\lib\\site-packages\\lightgbm\\basic.py:1780: UserWarning: Overriding the parameters from Reference Dataset.\n",
      "  _log_warning('Overriding the parameters from Reference Dataset.')\n",
      "c:\\work\\KeibaAI\\.venv\\lib\\site-packages\\lightgbm\\basic.py:1513: UserWarning: categorical_column in param dict is overridden.\n",
      "  _log_warning(f'{cat_alias} in param dict is overridden.')\n"
     ]
    },
    {
     "name": "stdout",
     "output_type": "stream",
     "text": [
      "[100]\tvalid_0's binary_logloss: 0.278593\tvalid_1's binary_logloss: 0.488185\n"
     ]
    },
    {
     "name": "stderr",
     "output_type": "stream",
     "text": [
      "num_leaves, val_score: 0.467097:  35%|###5      | 7/20 [00:37<01:09,  5.35s/it]\u001b[32m[I 2022-01-15 11:29:35,708]\u001b[0m Trial 13 finished with value: 0.46858533485605625 and parameters: {'num_leaves': 114}. Best is trial 9 with value: 0.467782625154254.\u001b[0m\n",
      "num_leaves, val_score: 0.467097:  35%|###5      | 7/20 [00:37<01:09,  5.35s/it]"
     ]
    },
    {
     "name": "stdout",
     "output_type": "stream",
     "text": [
      "Early stopping, best iteration is:\n",
      "[29]\tvalid_0's binary_logloss: 0.383824\tvalid_1's binary_logloss: 0.468585\n"
     ]
    },
    {
     "name": "stderr",
     "output_type": "stream",
     "text": [
      "c:\\work\\KeibaAI\\.venv\\lib\\site-packages\\lightgbm\\engine.py:181: UserWarning: 'early_stopping_rounds' argument is deprecated and will be removed in a future release of LightGBM. Pass 'early_stopping()' callback via 'callbacks' argument instead.\n",
      "  _log_warning(\"'early_stopping_rounds' argument is deprecated and will be removed in a future release of LightGBM. \"\n",
      "c:\\work\\KeibaAI\\.venv\\lib\\site-packages\\lightgbm\\basic.py:2068: UserWarning: categorical_feature in Dataset is overridden.\n",
      "New categorical_feature is ['father', 'fathers_father', 'fathers_mother', 'ground', 'jockey_id', 'mother', 'mothers_father', 'mothers_mother', 'place_id', 'race_type', 'sex', 'trainer_id', 'turn', 'weather']\n",
      "  _log_warning('categorical_feature in Dataset is overridden.\\n'\n",
      "c:\\work\\KeibaAI\\.venv\\lib\\site-packages\\lightgbm\\engine.py:240: UserWarning: 'verbose_eval' argument is deprecated and will be removed in a future release of LightGBM. Pass 'log_evaluation()' callback via 'callbacks' argument instead.\n",
      "  _log_warning(\"'verbose_eval' argument is deprecated and will be removed in a future release of LightGBM. \"\n"
     ]
    },
    {
     "name": "stdout",
     "output_type": "stream",
     "text": [
      "[LightGBM] [Info] Number of positive: 31528, number of negative: 116705\n",
      "[LightGBM] [Warning] Auto-choosing col-wise multi-threading, the overhead of testing was 0.012403 seconds.\n",
      "You can set `force_col_wise=true` to remove the overhead.\n",
      "[LightGBM] [Info] Total Bins 19630\n",
      "[LightGBM] [Info] Number of data points in the train set: 148233, number of used features: 36\n",
      "[LightGBM] [Info] [binary:BoostFromScore]: pavg=0.212692 -> initscore=-1.308773\n",
      "[LightGBM] [Info] Start training from score -1.308773\n",
      "Training until validation scores don't improve for 100 rounds\n"
     ]
    },
    {
     "name": "stderr",
     "output_type": "stream",
     "text": [
      "c:\\work\\KeibaAI\\.venv\\lib\\site-packages\\lightgbm\\basic.py:1780: UserWarning: Overriding the parameters from Reference Dataset.\n",
      "  _log_warning('Overriding the parameters from Reference Dataset.')\n",
      "c:\\work\\KeibaAI\\.venv\\lib\\site-packages\\lightgbm\\basic.py:1513: UserWarning: categorical_column in param dict is overridden.\n",
      "  _log_warning(f'{cat_alias} in param dict is overridden.')\n"
     ]
    },
    {
     "name": "stdout",
     "output_type": "stream",
     "text": [
      "[100]\tvalid_0's binary_logloss: 0.246826\tvalid_1's binary_logloss: 0.496767\n"
     ]
    },
    {
     "name": "stderr",
     "output_type": "stream",
     "text": [
      "num_leaves, val_score: 0.467097:  40%|####      | 8/20 [00:42<01:02,  5.22s/it]\u001b[32m[I 2022-01-15 11:29:40,644]\u001b[0m Trial 14 finished with value: 0.46871598620942156 and parameters: {'num_leaves': 194}. Best is trial 9 with value: 0.467782625154254.\u001b[0m\n",
      "num_leaves, val_score: 0.467097:  40%|####      | 8/20 [00:42<01:02,  5.22s/it]"
     ]
    },
    {
     "name": "stdout",
     "output_type": "stream",
     "text": [
      "Early stopping, best iteration is:\n",
      "[29]\tvalid_0's binary_logloss: 0.368764\tvalid_1's binary_logloss: 0.468716\n"
     ]
    },
    {
     "name": "stderr",
     "output_type": "stream",
     "text": [
      "c:\\work\\KeibaAI\\.venv\\lib\\site-packages\\lightgbm\\engine.py:181: UserWarning: 'early_stopping_rounds' argument is deprecated and will be removed in a future release of LightGBM. Pass 'early_stopping()' callback via 'callbacks' argument instead.\n",
      "  _log_warning(\"'early_stopping_rounds' argument is deprecated and will be removed in a future release of LightGBM. \"\n",
      "c:\\work\\KeibaAI\\.venv\\lib\\site-packages\\lightgbm\\basic.py:2068: UserWarning: categorical_feature in Dataset is overridden.\n",
      "New categorical_feature is ['father', 'fathers_father', 'fathers_mother', 'ground', 'jockey_id', 'mother', 'mothers_father', 'mothers_mother', 'place_id', 'race_type', 'sex', 'trainer_id', 'turn', 'weather']\n",
      "  _log_warning('categorical_feature in Dataset is overridden.\\n'\n",
      "c:\\work\\KeibaAI\\.venv\\lib\\site-packages\\lightgbm\\engine.py:240: UserWarning: 'verbose_eval' argument is deprecated and will be removed in a future release of LightGBM. Pass 'log_evaluation()' callback via 'callbacks' argument instead.\n",
      "  _log_warning(\"'verbose_eval' argument is deprecated and will be removed in a future release of LightGBM. \"\n"
     ]
    },
    {
     "name": "stdout",
     "output_type": "stream",
     "text": [
      "[LightGBM] [Info] Number of positive: 31528, number of negative: 116705\n",
      "[LightGBM] [Warning] Auto-choosing col-wise multi-threading, the overhead of testing was 0.013115 seconds.\n",
      "You can set `force_col_wise=true` to remove the overhead.\n",
      "[LightGBM] [Info] Total Bins 19630\n",
      "[LightGBM] [Info] Number of data points in the train set: 148233, number of used features: 36\n",
      "[LightGBM] [Info] [binary:BoostFromScore]: pavg=0.212692 -> initscore=-1.308773\n",
      "[LightGBM] [Info] Start training from score -1.308773\n",
      "Training until validation scores don't improve for 100 rounds\n"
     ]
    },
    {
     "name": "stderr",
     "output_type": "stream",
     "text": [
      "c:\\work\\KeibaAI\\.venv\\lib\\site-packages\\lightgbm\\basic.py:1780: UserWarning: Overriding the parameters from Reference Dataset.\n",
      "  _log_warning('Overriding the parameters from Reference Dataset.')\n",
      "c:\\work\\KeibaAI\\.venv\\lib\\site-packages\\lightgbm\\basic.py:1513: UserWarning: categorical_column in param dict is overridden.\n",
      "  _log_warning(f'{cat_alias} in param dict is overridden.')\n"
     ]
    },
    {
     "name": "stdout",
     "output_type": "stream",
     "text": [
      "[100]\tvalid_0's binary_logloss: 0.267192\tvalid_1's binary_logloss: 0.49185\n"
     ]
    },
    {
     "name": "stderr",
     "output_type": "stream",
     "text": [
      "num_leaves, val_score: 0.467097:  45%|####5     | 9/20 [00:46<00:55,  5.08s/it]\u001b[32m[I 2022-01-15 11:29:45,418]\u001b[0m Trial 15 finished with value: 0.4687184337075354 and parameters: {'num_leaves': 137}. Best is trial 9 with value: 0.467782625154254.\u001b[0m\n",
      "num_leaves, val_score: 0.467097:  45%|####5     | 9/20 [00:46<00:55,  5.08s/it]"
     ]
    },
    {
     "name": "stdout",
     "output_type": "stream",
     "text": [
      "Early stopping, best iteration is:\n",
      "[28]\tvalid_0's binary_logloss: 0.381287\tvalid_1's binary_logloss: 0.468718\n"
     ]
    },
    {
     "name": "stderr",
     "output_type": "stream",
     "text": [
      "c:\\work\\KeibaAI\\.venv\\lib\\site-packages\\lightgbm\\engine.py:181: UserWarning: 'early_stopping_rounds' argument is deprecated and will be removed in a future release of LightGBM. Pass 'early_stopping()' callback via 'callbacks' argument instead.\n",
      "  _log_warning(\"'early_stopping_rounds' argument is deprecated and will be removed in a future release of LightGBM. \"\n",
      "c:\\work\\KeibaAI\\.venv\\lib\\site-packages\\lightgbm\\basic.py:2068: UserWarning: categorical_feature in Dataset is overridden.\n",
      "New categorical_feature is ['father', 'fathers_father', 'fathers_mother', 'ground', 'jockey_id', 'mother', 'mothers_father', 'mothers_mother', 'place_id', 'race_type', 'sex', 'trainer_id', 'turn', 'weather']\n",
      "  _log_warning('categorical_feature in Dataset is overridden.\\n'\n",
      "c:\\work\\KeibaAI\\.venv\\lib\\site-packages\\lightgbm\\engine.py:240: UserWarning: 'verbose_eval' argument is deprecated and will be removed in a future release of LightGBM. Pass 'log_evaluation()' callback via 'callbacks' argument instead.\n",
      "  _log_warning(\"'verbose_eval' argument is deprecated and will be removed in a future release of LightGBM. \"\n"
     ]
    },
    {
     "name": "stdout",
     "output_type": "stream",
     "text": [
      "[LightGBM] [Info] Number of positive: 31528, number of negative: 116705\n",
      "[LightGBM] [Warning] Auto-choosing col-wise multi-threading, the overhead of testing was 0.014182 seconds.\n",
      "You can set `force_col_wise=true` to remove the overhead.\n",
      "[LightGBM] [Info] Total Bins 19630\n",
      "[LightGBM] [Info] Number of data points in the train set: 148233, number of used features: 36\n",
      "[LightGBM] [Info] [binary:BoostFromScore]: pavg=0.212692 -> initscore=-1.308773\n",
      "[LightGBM] [Info] Start training from score -1.308773\n",
      "Training until validation scores don't improve for 100 rounds\n"
     ]
    },
    {
     "name": "stderr",
     "output_type": "stream",
     "text": [
      "c:\\work\\KeibaAI\\.venv\\lib\\site-packages\\lightgbm\\basic.py:1780: UserWarning: Overriding the parameters from Reference Dataset.\n",
      "  _log_warning('Overriding the parameters from Reference Dataset.')\n",
      "c:\\work\\KeibaAI\\.venv\\lib\\site-packages\\lightgbm\\basic.py:1513: UserWarning: categorical_column in param dict is overridden.\n",
      "  _log_warning(f'{cat_alias} in param dict is overridden.')\n"
     ]
    },
    {
     "name": "stdout",
     "output_type": "stream",
     "text": [
      "[100]\tvalid_0's binary_logloss: 0.286108\tvalid_1's binary_logloss: 0.48534\n"
     ]
    },
    {
     "name": "stderr",
     "output_type": "stream",
     "text": [
      "num_leaves, val_score: 0.467097:  50%|#####     | 10/20 [00:51<00:48,  4.83s/it]\u001b[32m[I 2022-01-15 11:29:49,678]\u001b[0m Trial 16 finished with value: 0.4685128485324076 and parameters: {'num_leaves': 100}. Best is trial 9 with value: 0.467782625154254.\u001b[0m\n",
      "num_leaves, val_score: 0.467097:  50%|#####     | 10/20 [00:51<00:48,  4.83s/it]"
     ]
    },
    {
     "name": "stdout",
     "output_type": "stream",
     "text": [
      "Early stopping, best iteration is:\n",
      "[29]\tvalid_0's binary_logloss: 0.387216\tvalid_1's binary_logloss: 0.468513\n"
     ]
    },
    {
     "name": "stderr",
     "output_type": "stream",
     "text": [
      "c:\\work\\KeibaAI\\.venv\\lib\\site-packages\\lightgbm\\engine.py:181: UserWarning: 'early_stopping_rounds' argument is deprecated and will be removed in a future release of LightGBM. Pass 'early_stopping()' callback via 'callbacks' argument instead.\n",
      "  _log_warning(\"'early_stopping_rounds' argument is deprecated and will be removed in a future release of LightGBM. \"\n",
      "c:\\work\\KeibaAI\\.venv\\lib\\site-packages\\lightgbm\\basic.py:2068: UserWarning: categorical_feature in Dataset is overridden.\n",
      "New categorical_feature is ['father', 'fathers_father', 'fathers_mother', 'ground', 'jockey_id', 'mother', 'mothers_father', 'mothers_mother', 'place_id', 'race_type', 'sex', 'trainer_id', 'turn', 'weather']\n",
      "  _log_warning('categorical_feature in Dataset is overridden.\\n'\n",
      "c:\\work\\KeibaAI\\.venv\\lib\\site-packages\\lightgbm\\engine.py:240: UserWarning: 'verbose_eval' argument is deprecated and will be removed in a future release of LightGBM. Pass 'log_evaluation()' callback via 'callbacks' argument instead.\n",
      "  _log_warning(\"'verbose_eval' argument is deprecated and will be removed in a future release of LightGBM. \"\n"
     ]
    },
    {
     "name": "stdout",
     "output_type": "stream",
     "text": [
      "[LightGBM] [Info] Number of positive: 31528, number of negative: 116705\n",
      "[LightGBM] [Warning] Auto-choosing col-wise multi-threading, the overhead of testing was 0.011575 seconds.\n",
      "You can set `force_col_wise=true` to remove the overhead.\n",
      "[LightGBM] [Info] Total Bins 19630\n",
      "[LightGBM] [Info] Number of data points in the train set: 148233, number of used features: 36\n",
      "[LightGBM] [Info] [binary:BoostFromScore]: pavg=0.212692 -> initscore=-1.308773\n",
      "[LightGBM] [Info] Start training from score -1.308773\n",
      "Training until validation scores don't improve for 100 rounds\n"
     ]
    },
    {
     "name": "stderr",
     "output_type": "stream",
     "text": [
      "c:\\work\\KeibaAI\\.venv\\lib\\site-packages\\lightgbm\\basic.py:1780: UserWarning: Overriding the parameters from Reference Dataset.\n",
      "  _log_warning('Overriding the parameters from Reference Dataset.')\n",
      "c:\\work\\KeibaAI\\.venv\\lib\\site-packages\\lightgbm\\basic.py:1513: UserWarning: categorical_column in param dict is overridden.\n",
      "  _log_warning(f'{cat_alias} in param dict is overridden.')\n"
     ]
    },
    {
     "name": "stdout",
     "output_type": "stream",
     "text": [
      "[100]\tvalid_0's binary_logloss: 0.416677\tvalid_1's binary_logloss: 0.464671\n",
      "[200]\tvalid_0's binary_logloss: 0.396481\tvalid_1's binary_logloss: 0.465217\n"
     ]
    },
    {
     "name": "stderr",
     "output_type": "stream",
     "text": [
      "num_leaves, val_score: 0.464139:  55%|#####5    | 11/20 [00:53<00:36,  4.03s/it]\u001b[32m[I 2022-01-15 11:29:51,888]\u001b[0m Trial 17 finished with value: 0.4641393252236235 and parameters: {'num_leaves': 8}. Best is trial 17 with value: 0.4641393252236235.\u001b[0m\n",
      "num_leaves, val_score: 0.464139:  55%|#####5    | 11/20 [00:53<00:36,  4.03s/it]"
     ]
    },
    {
     "name": "stdout",
     "output_type": "stream",
     "text": [
      "Early stopping, best iteration is:\n",
      "[150]\tvalid_0's binary_logloss: 0.405318\tvalid_1's binary_logloss: 0.464139\n"
     ]
    },
    {
     "name": "stderr",
     "output_type": "stream",
     "text": [
      "c:\\work\\KeibaAI\\.venv\\lib\\site-packages\\lightgbm\\engine.py:181: UserWarning: 'early_stopping_rounds' argument is deprecated and will be removed in a future release of LightGBM. Pass 'early_stopping()' callback via 'callbacks' argument instead.\n",
      "  _log_warning(\"'early_stopping_rounds' argument is deprecated and will be removed in a future release of LightGBM. \"\n",
      "c:\\work\\KeibaAI\\.venv\\lib\\site-packages\\lightgbm\\basic.py:2068: UserWarning: categorical_feature in Dataset is overridden.\n",
      "New categorical_feature is ['father', 'fathers_father', 'fathers_mother', 'ground', 'jockey_id', 'mother', 'mothers_father', 'mothers_mother', 'place_id', 'race_type', 'sex', 'trainer_id', 'turn', 'weather']\n",
      "  _log_warning('categorical_feature in Dataset is overridden.\\n'\n",
      "c:\\work\\KeibaAI\\.venv\\lib\\site-packages\\lightgbm\\engine.py:240: UserWarning: 'verbose_eval' argument is deprecated and will be removed in a future release of LightGBM. Pass 'log_evaluation()' callback via 'callbacks' argument instead.\n",
      "  _log_warning(\"'verbose_eval' argument is deprecated and will be removed in a future release of LightGBM. \"\n"
     ]
    },
    {
     "name": "stdout",
     "output_type": "stream",
     "text": [
      "[LightGBM] [Info] Number of positive: 31528, number of negative: 116705\n",
      "[LightGBM] [Warning] Auto-choosing col-wise multi-threading, the overhead of testing was 0.011000 seconds.\n",
      "You can set `force_col_wise=true` to remove the overhead.\n",
      "[LightGBM] [Info] Total Bins 19630\n",
      "[LightGBM] [Info] Number of data points in the train set: 148233, number of used features: 36\n",
      "[LightGBM] [Info] [binary:BoostFromScore]: pavg=0.212692 -> initscore=-1.308773\n",
      "[LightGBM] [Info] Start training from score -1.308773\n",
      "Training until validation scores don't improve for 100 rounds\n"
     ]
    },
    {
     "name": "stderr",
     "output_type": "stream",
     "text": [
      "c:\\work\\KeibaAI\\.venv\\lib\\site-packages\\lightgbm\\basic.py:1780: UserWarning: Overriding the parameters from Reference Dataset.\n",
      "  _log_warning('Overriding the parameters from Reference Dataset.')\n",
      "c:\\work\\KeibaAI\\.venv\\lib\\site-packages\\lightgbm\\basic.py:1513: UserWarning: categorical_column in param dict is overridden.\n",
      "  _log_warning(f'{cat_alias} in param dict is overridden.')\n"
     ]
    },
    {
     "name": "stdout",
     "output_type": "stream",
     "text": [
      "[100]\tvalid_0's binary_logloss: 0.443833\tvalid_1's binary_logloss: 0.466779\n",
      "[200]\tvalid_0's binary_logloss: 0.43372\tvalid_1's binary_logloss: 0.464956\n",
      "[300]\tvalid_0's binary_logloss: 0.427247\tvalid_1's binary_logloss: 0.464143\n",
      "[400]\tvalid_0's binary_logloss: 0.422124\tvalid_1's binary_logloss: 0.464018\n"
     ]
    },
    {
     "name": "stderr",
     "output_type": "stream",
     "text": [
      "num_leaves, val_score: 0.463946:  60%|######    | 12/20 [00:56<00:29,  3.65s/it]\u001b[32m[I 2022-01-15 11:29:54,679]\u001b[0m Trial 18 finished with value: 0.46394578500680256 and parameters: {'num_leaves': 3}. Best is trial 18 with value: 0.46394578500680256.\u001b[0m\n",
      "num_leaves, val_score: 0.463946:  60%|######    | 12/20 [00:56<00:29,  3.65s/it]"
     ]
    },
    {
     "name": "stdout",
     "output_type": "stream",
     "text": [
      "Early stopping, best iteration is:\n",
      "[390]\tvalid_0's binary_logloss: 0.422612\tvalid_1's binary_logloss: 0.463946\n"
     ]
    },
    {
     "name": "stderr",
     "output_type": "stream",
     "text": [
      "c:\\work\\KeibaAI\\.venv\\lib\\site-packages\\lightgbm\\engine.py:181: UserWarning: 'early_stopping_rounds' argument is deprecated and will be removed in a future release of LightGBM. Pass 'early_stopping()' callback via 'callbacks' argument instead.\n",
      "  _log_warning(\"'early_stopping_rounds' argument is deprecated and will be removed in a future release of LightGBM. \"\n",
      "c:\\work\\KeibaAI\\.venv\\lib\\site-packages\\lightgbm\\basic.py:2068: UserWarning: categorical_feature in Dataset is overridden.\n",
      "New categorical_feature is ['father', 'fathers_father', 'fathers_mother', 'ground', 'jockey_id', 'mother', 'mothers_father', 'mothers_mother', 'place_id', 'race_type', 'sex', 'trainer_id', 'turn', 'weather']\n",
      "  _log_warning('categorical_feature in Dataset is overridden.\\n'\n",
      "c:\\work\\KeibaAI\\.venv\\lib\\site-packages\\lightgbm\\engine.py:240: UserWarning: 'verbose_eval' argument is deprecated and will be removed in a future release of LightGBM. Pass 'log_evaluation()' callback via 'callbacks' argument instead.\n",
      "  _log_warning(\"'verbose_eval' argument is deprecated and will be removed in a future release of LightGBM. \"\n"
     ]
    },
    {
     "name": "stdout",
     "output_type": "stream",
     "text": [
      "[LightGBM] [Info] Number of positive: 31528, number of negative: 116705\n",
      "[LightGBM] [Warning] Auto-choosing row-wise multi-threading, the overhead of testing was 0.003496 seconds.\n",
      "You can set `force_row_wise=true` to remove the overhead.\n",
      "And if memory is not enough, you can set `force_col_wise=true`.\n",
      "[LightGBM] [Info] Total Bins 19630\n",
      "[LightGBM] [Info] Number of data points in the train set: 148233, number of used features: 36\n",
      "[LightGBM] [Info] [binary:BoostFromScore]: pavg=0.212692 -> initscore=-1.308773\n",
      "[LightGBM] [Info] Start training from score -1.308773\n"
     ]
    },
    {
     "name": "stderr",
     "output_type": "stream",
     "text": [
      "c:\\work\\KeibaAI\\.venv\\lib\\site-packages\\lightgbm\\basic.py:1780: UserWarning: Overriding the parameters from Reference Dataset.\n",
      "  _log_warning('Overriding the parameters from Reference Dataset.')\n",
      "c:\\work\\KeibaAI\\.venv\\lib\\site-packages\\lightgbm\\basic.py:1513: UserWarning: categorical_column in param dict is overridden.\n",
      "  _log_warning(f'{cat_alias} in param dict is overridden.')\n"
     ]
    },
    {
     "name": "stdout",
     "output_type": "stream",
     "text": [
      "Training until validation scores don't improve for 100 rounds\n",
      "[100]\tvalid_0's binary_logloss: 0.453302\tvalid_1's binary_logloss: 0.47029\n",
      "[200]\tvalid_0's binary_logloss: 0.445382\tvalid_1's binary_logloss: 0.467295\n",
      "[300]\tvalid_0's binary_logloss: 0.440382\tvalid_1's binary_logloss: 0.466182\n",
      "[400]\tvalid_0's binary_logloss: 0.436654\tvalid_1's binary_logloss: 0.465834\n",
      "[500]\tvalid_0's binary_logloss: 0.433659\tvalid_1's binary_logloss: 0.465528\n",
      "[600]\tvalid_0's binary_logloss: 0.431149\tvalid_1's binary_logloss: 0.46532\n",
      "[700]\tvalid_0's binary_logloss: 0.429038\tvalid_1's binary_logloss: 0.465194\n"
     ]
    },
    {
     "name": "stderr",
     "output_type": "stream",
     "text": [
      "num_leaves, val_score: 0.463946:  65%|######5   | 13/20 [01:00<00:27,  3.89s/it]\u001b[32m[I 2022-01-15 11:29:59,134]\u001b[0m Trial 19 finished with value: 0.46514563376399953 and parameters: {'num_leaves': 2}. Best is trial 18 with value: 0.46394578500680256.\u001b[0m\n",
      "num_leaves, val_score: 0.463946:  65%|######5   | 13/20 [01:00<00:27,  3.89s/it]"
     ]
    },
    {
     "name": "stdout",
     "output_type": "stream",
     "text": [
      "Early stopping, best iteration is:\n",
      "[678]\tvalid_0's binary_logloss: 0.429478\tvalid_1's binary_logloss: 0.465146\n"
     ]
    },
    {
     "name": "stderr",
     "output_type": "stream",
     "text": [
      "c:\\work\\KeibaAI\\.venv\\lib\\site-packages\\lightgbm\\engine.py:181: UserWarning: 'early_stopping_rounds' argument is deprecated and will be removed in a future release of LightGBM. Pass 'early_stopping()' callback via 'callbacks' argument instead.\n",
      "  _log_warning(\"'early_stopping_rounds' argument is deprecated and will be removed in a future release of LightGBM. \"\n",
      "c:\\work\\KeibaAI\\.venv\\lib\\site-packages\\lightgbm\\basic.py:2068: UserWarning: categorical_feature in Dataset is overridden.\n",
      "New categorical_feature is ['father', 'fathers_father', 'fathers_mother', 'ground', 'jockey_id', 'mother', 'mothers_father', 'mothers_mother', 'place_id', 'race_type', 'sex', 'trainer_id', 'turn', 'weather']\n",
      "  _log_warning('categorical_feature in Dataset is overridden.\\n'\n",
      "c:\\work\\KeibaAI\\.venv\\lib\\site-packages\\lightgbm\\engine.py:240: UserWarning: 'verbose_eval' argument is deprecated and will be removed in a future release of LightGBM. Pass 'log_evaluation()' callback via 'callbacks' argument instead.\n",
      "  _log_warning(\"'verbose_eval' argument is deprecated and will be removed in a future release of LightGBM. \"\n"
     ]
    },
    {
     "name": "stdout",
     "output_type": "stream",
     "text": [
      "[LightGBM] [Info] Number of positive: 31528, number of negative: 116705\n",
      "[LightGBM] [Warning] Auto-choosing col-wise multi-threading, the overhead of testing was 0.014066 seconds.\n",
      "You can set `force_col_wise=true` to remove the overhead.\n",
      "[LightGBM] [Info] Total Bins 19630\n",
      "[LightGBM] [Info] Number of data points in the train set: 148233, number of used features: 36\n",
      "[LightGBM] [Info] [binary:BoostFromScore]: pavg=0.212692 -> initscore=-1.308773\n",
      "[LightGBM] [Info] Start training from score -1.308773\n",
      "Training until validation scores don't improve for 100 rounds\n"
     ]
    },
    {
     "name": "stderr",
     "output_type": "stream",
     "text": [
      "c:\\work\\KeibaAI\\.venv\\lib\\site-packages\\lightgbm\\basic.py:1780: UserWarning: Overriding the parameters from Reference Dataset.\n",
      "  _log_warning('Overriding the parameters from Reference Dataset.')\n",
      "c:\\work\\KeibaAI\\.venv\\lib\\site-packages\\lightgbm\\basic.py:1513: UserWarning: categorical_column in param dict is overridden.\n",
      "  _log_warning(f'{cat_alias} in param dict is overridden.')\n"
     ]
    },
    {
     "name": "stdout",
     "output_type": "stream",
     "text": [
      "[100]\tvalid_0's binary_logloss: 0.325403\tvalid_1's binary_logloss: 0.474922\n"
     ]
    },
    {
     "name": "stderr",
     "output_type": "stream",
     "text": [
      "num_leaves, val_score: 0.463946:  70%|#######   | 14/20 [01:03<00:22,  3.70s/it]\u001b[32m[I 2022-01-15 11:30:02,375]\u001b[0m Trial 20 finished with value: 0.4675228012816809 and parameters: {'num_leaves': 53}. Best is trial 18 with value: 0.46394578500680256.\u001b[0m\n",
      "num_leaves, val_score: 0.463946:  70%|#######   | 14/20 [01:03<00:22,  3.70s/it]"
     ]
    },
    {
     "name": "stdout",
     "output_type": "stream",
     "text": [
      "Early stopping, best iteration is:\n",
      "[37]\tvalid_0's binary_logloss: 0.391643\tvalid_1's binary_logloss: 0.467523\n"
     ]
    },
    {
     "name": "stderr",
     "output_type": "stream",
     "text": [
      "c:\\work\\KeibaAI\\.venv\\lib\\site-packages\\lightgbm\\engine.py:181: UserWarning: 'early_stopping_rounds' argument is deprecated and will be removed in a future release of LightGBM. Pass 'early_stopping()' callback via 'callbacks' argument instead.\n",
      "  _log_warning(\"'early_stopping_rounds' argument is deprecated and will be removed in a future release of LightGBM. \"\n",
      "c:\\work\\KeibaAI\\.venv\\lib\\site-packages\\lightgbm\\basic.py:2068: UserWarning: categorical_feature in Dataset is overridden.\n",
      "New categorical_feature is ['father', 'fathers_father', 'fathers_mother', 'ground', 'jockey_id', 'mother', 'mothers_father', 'mothers_mother', 'place_id', 'race_type', 'sex', 'trainer_id', 'turn', 'weather']\n",
      "  _log_warning('categorical_feature in Dataset is overridden.\\n'\n",
      "c:\\work\\KeibaAI\\.venv\\lib\\site-packages\\lightgbm\\engine.py:240: UserWarning: 'verbose_eval' argument is deprecated and will be removed in a future release of LightGBM. Pass 'log_evaluation()' callback via 'callbacks' argument instead.\n",
      "  _log_warning(\"'verbose_eval' argument is deprecated and will be removed in a future release of LightGBM. \"\n"
     ]
    },
    {
     "name": "stdout",
     "output_type": "stream",
     "text": [
      "[LightGBM] [Info] Number of positive: 31528, number of negative: 116705\n",
      "[LightGBM] [Warning] Auto-choosing col-wise multi-threading, the overhead of testing was 0.013512 seconds.\n",
      "You can set `force_col_wise=true` to remove the overhead.\n",
      "[LightGBM] [Info] Total Bins 19630\n",
      "[LightGBM] [Info] Number of data points in the train set: 148233, number of used features: 36\n",
      "[LightGBM] [Info] [binary:BoostFromScore]: pavg=0.212692 -> initscore=-1.308773\n",
      "[LightGBM] [Info] Start training from score -1.308773\n",
      "Training until validation scores don't improve for 100 rounds\n"
     ]
    },
    {
     "name": "stderr",
     "output_type": "stream",
     "text": [
      "c:\\work\\KeibaAI\\.venv\\lib\\site-packages\\lightgbm\\basic.py:1780: UserWarning: Overriding the parameters from Reference Dataset.\n",
      "  _log_warning('Overriding the parameters from Reference Dataset.')\n",
      "c:\\work\\KeibaAI\\.venv\\lib\\site-packages\\lightgbm\\basic.py:1513: UserWarning: categorical_column in param dict is overridden.\n",
      "  _log_warning(f'{cat_alias} in param dict is overridden.')\n"
     ]
    },
    {
     "name": "stdout",
     "output_type": "stream",
     "text": [
      "[100]\tvalid_0's binary_logloss: 0.431302\tvalid_1's binary_logloss: 0.46471\n",
      "[200]\tvalid_0's binary_logloss: 0.4172\tvalid_1's binary_logloss: 0.463754\n"
     ]
    },
    {
     "name": "stderr",
     "output_type": "stream",
     "text": [
      "num_leaves, val_score: 0.463639:  75%|#######5  | 15/20 [01:05<00:16,  3.21s/it]\u001b[32m[I 2022-01-15 11:30:04,442]\u001b[0m Trial 21 finished with value: 0.4636392252406719 and parameters: {'num_leaves': 5}. Best is trial 21 with value: 0.4636392252406719.\u001b[0m\n",
      "num_leaves, val_score: 0.463639:  75%|#######5  | 15/20 [01:05<00:16,  3.21s/it]"
     ]
    },
    {
     "name": "stdout",
     "output_type": "stream",
     "text": [
      "[300]\tvalid_0's binary_logloss: 0.407553\tvalid_1's binary_logloss: 0.464257\n",
      "Early stopping, best iteration is:\n",
      "[214]\tvalid_0's binary_logloss: 0.415418\tvalid_1's binary_logloss: 0.463639\n"
     ]
    },
    {
     "name": "stderr",
     "output_type": "stream",
     "text": [
      "c:\\work\\KeibaAI\\.venv\\lib\\site-packages\\lightgbm\\engine.py:181: UserWarning: 'early_stopping_rounds' argument is deprecated and will be removed in a future release of LightGBM. Pass 'early_stopping()' callback via 'callbacks' argument instead.\n",
      "  _log_warning(\"'early_stopping_rounds' argument is deprecated and will be removed in a future release of LightGBM. \"\n",
      "c:\\work\\KeibaAI\\.venv\\lib\\site-packages\\lightgbm\\basic.py:2068: UserWarning: categorical_feature in Dataset is overridden.\n",
      "New categorical_feature is ['father', 'fathers_father', 'fathers_mother', 'ground', 'jockey_id', 'mother', 'mothers_father', 'mothers_mother', 'place_id', 'race_type', 'sex', 'trainer_id', 'turn', 'weather']\n",
      "  _log_warning('categorical_feature in Dataset is overridden.\\n'\n",
      "c:\\work\\KeibaAI\\.venv\\lib\\site-packages\\lightgbm\\engine.py:240: UserWarning: 'verbose_eval' argument is deprecated and will be removed in a future release of LightGBM. Pass 'log_evaluation()' callback via 'callbacks' argument instead.\n",
      "  _log_warning(\"'verbose_eval' argument is deprecated and will be removed in a future release of LightGBM. \"\n"
     ]
    },
    {
     "name": "stdout",
     "output_type": "stream",
     "text": [
      "[LightGBM] [Info] Number of positive: 31528, number of negative: 116705\n",
      "[LightGBM] [Warning] Auto-choosing col-wise multi-threading, the overhead of testing was 0.012822 seconds.\n",
      "You can set `force_col_wise=true` to remove the overhead.\n",
      "[LightGBM] [Info] Total Bins 19630\n",
      "[LightGBM] [Info] Number of data points in the train set: 148233, number of used features: 36\n",
      "[LightGBM] [Info] [binary:BoostFromScore]: pavg=0.212692 -> initscore=-1.308773\n",
      "[LightGBM] [Info] Start training from score -1.308773\n",
      "Training until validation scores don't improve for 100 rounds\n"
     ]
    },
    {
     "name": "stderr",
     "output_type": "stream",
     "text": [
      "c:\\work\\KeibaAI\\.venv\\lib\\site-packages\\lightgbm\\basic.py:1780: UserWarning: Overriding the parameters from Reference Dataset.\n",
      "  _log_warning('Overriding the parameters from Reference Dataset.')\n",
      "c:\\work\\KeibaAI\\.venv\\lib\\site-packages\\lightgbm\\basic.py:1513: UserWarning: categorical_column in param dict is overridden.\n",
      "  _log_warning(f'{cat_alias} in param dict is overridden.')\n"
     ]
    },
    {
     "name": "stdout",
     "output_type": "stream",
     "text": [
      "[100]\tvalid_0's binary_logloss: 0.316015\tvalid_1's binary_logloss: 0.477346\n"
     ]
    },
    {
     "name": "stderr",
     "output_type": "stream",
     "text": [
      "num_leaves, val_score: 0.463639:  80%|########  | 16/20 [01:09<00:13,  3.34s/it]\u001b[32m[I 2022-01-15 11:30:08,107]\u001b[0m Trial 22 finished with value: 0.4679051562068286 and parameters: {'num_leaves': 62}. Best is trial 21 with value: 0.4636392252406719.\u001b[0m\n",
      "num_leaves, val_score: 0.463639:  80%|########  | 16/20 [01:09<00:13,  3.34s/it]"
     ]
    },
    {
     "name": "stdout",
     "output_type": "stream",
     "text": [
      "Early stopping, best iteration is:\n",
      "[35]\tvalid_0's binary_logloss: 0.389538\tvalid_1's binary_logloss: 0.467905\n"
     ]
    },
    {
     "name": "stderr",
     "output_type": "stream",
     "text": [
      "c:\\work\\KeibaAI\\.venv\\lib\\site-packages\\lightgbm\\engine.py:181: UserWarning: 'early_stopping_rounds' argument is deprecated and will be removed in a future release of LightGBM. Pass 'early_stopping()' callback via 'callbacks' argument instead.\n",
      "  _log_warning(\"'early_stopping_rounds' argument is deprecated and will be removed in a future release of LightGBM. \"\n",
      "c:\\work\\KeibaAI\\.venv\\lib\\site-packages\\lightgbm\\basic.py:2068: UserWarning: categorical_feature in Dataset is overridden.\n",
      "New categorical_feature is ['father', 'fathers_father', 'fathers_mother', 'ground', 'jockey_id', 'mother', 'mothers_father', 'mothers_mother', 'place_id', 'race_type', 'sex', 'trainer_id', 'turn', 'weather']\n",
      "  _log_warning('categorical_feature in Dataset is overridden.\\n'\n",
      "c:\\work\\KeibaAI\\.venv\\lib\\site-packages\\lightgbm\\engine.py:240: UserWarning: 'verbose_eval' argument is deprecated and will be removed in a future release of LightGBM. Pass 'log_evaluation()' callback via 'callbacks' argument instead.\n",
      "  _log_warning(\"'verbose_eval' argument is deprecated and will be removed in a future release of LightGBM. \"\n"
     ]
    },
    {
     "name": "stdout",
     "output_type": "stream",
     "text": [
      "[LightGBM] [Info] Number of positive: 31528, number of negative: 116705\n",
      "[LightGBM] [Warning] Auto-choosing col-wise multi-threading, the overhead of testing was 0.010645 seconds.\n",
      "You can set `force_col_wise=true` to remove the overhead.\n",
      "[LightGBM] [Info] Total Bins 19630\n",
      "[LightGBM] [Info] Number of data points in the train set: 148233, number of used features: 36\n",
      "[LightGBM] [Info] [binary:BoostFromScore]: pavg=0.212692 -> initscore=-1.308773\n",
      "[LightGBM] [Info] Start training from score -1.308773\n",
      "Training until validation scores don't improve for 100 rounds\n"
     ]
    },
    {
     "name": "stderr",
     "output_type": "stream",
     "text": [
      "c:\\work\\KeibaAI\\.venv\\lib\\site-packages\\lightgbm\\basic.py:1780: UserWarning: Overriding the parameters from Reference Dataset.\n",
      "  _log_warning('Overriding the parameters from Reference Dataset.')\n",
      "c:\\work\\KeibaAI\\.venv\\lib\\site-packages\\lightgbm\\basic.py:1513: UserWarning: categorical_column in param dict is overridden.\n",
      "  _log_warning(f'{cat_alias} in param dict is overridden.')\n"
     ]
    },
    {
     "name": "stdout",
     "output_type": "stream",
     "text": [
      "[100]\tvalid_0's binary_logloss: 0.297482\tvalid_1's binary_logloss: 0.482982\n"
     ]
    },
    {
     "name": "stderr",
     "output_type": "stream",
     "text": [
      "num_leaves, val_score: 0.463639:  85%|########5 | 17/20 [01:14<00:11,  3.79s/it]\u001b[32m[I 2022-01-15 11:30:12,921]\u001b[0m Trial 23 finished with value: 0.46873976758629393 and parameters: {'num_leaves': 84}. Best is trial 21 with value: 0.4636392252406719.\u001b[0m\n",
      "num_leaves, val_score: 0.463639:  85%|########5 | 17/20 [01:14<00:11,  3.79s/it]"
     ]
    },
    {
     "name": "stdout",
     "output_type": "stream",
     "text": [
      "Early stopping, best iteration is:\n",
      "[35]\tvalid_0's binary_logloss: 0.380581\tvalid_1's binary_logloss: 0.46874\n"
     ]
    },
    {
     "name": "stderr",
     "output_type": "stream",
     "text": [
      "c:\\work\\KeibaAI\\.venv\\lib\\site-packages\\lightgbm\\engine.py:181: UserWarning: 'early_stopping_rounds' argument is deprecated and will be removed in a future release of LightGBM. Pass 'early_stopping()' callback via 'callbacks' argument instead.\n",
      "  _log_warning(\"'early_stopping_rounds' argument is deprecated and will be removed in a future release of LightGBM. \"\n",
      "c:\\work\\KeibaAI\\.venv\\lib\\site-packages\\lightgbm\\basic.py:2068: UserWarning: categorical_feature in Dataset is overridden.\n",
      "New categorical_feature is ['father', 'fathers_father', 'fathers_mother', 'ground', 'jockey_id', 'mother', 'mothers_father', 'mothers_mother', 'place_id', 'race_type', 'sex', 'trainer_id', 'turn', 'weather']\n",
      "  _log_warning('categorical_feature in Dataset is overridden.\\n'\n",
      "c:\\work\\KeibaAI\\.venv\\lib\\site-packages\\lightgbm\\engine.py:240: UserWarning: 'verbose_eval' argument is deprecated and will be removed in a future release of LightGBM. Pass 'log_evaluation()' callback via 'callbacks' argument instead.\n",
      "  _log_warning(\"'verbose_eval' argument is deprecated and will be removed in a future release of LightGBM. \"\n"
     ]
    },
    {
     "name": "stdout",
     "output_type": "stream",
     "text": [
      "[LightGBM] [Info] Number of positive: 31528, number of negative: 116705\n",
      "[LightGBM] [Warning] Auto-choosing col-wise multi-threading, the overhead of testing was 0.013560 seconds.\n",
      "You can set `force_col_wise=true` to remove the overhead.\n",
      "[LightGBM] [Info] Total Bins 19630\n",
      "[LightGBM] [Info] Number of data points in the train set: 148233, number of used features: 36\n",
      "[LightGBM] [Info] [binary:BoostFromScore]: pavg=0.212692 -> initscore=-1.308773\n",
      "[LightGBM] [Info] Start training from score -1.308773\n",
      "Training until validation scores don't improve for 100 rounds\n"
     ]
    },
    {
     "name": "stderr",
     "output_type": "stream",
     "text": [
      "c:\\work\\KeibaAI\\.venv\\lib\\site-packages\\lightgbm\\basic.py:1780: UserWarning: Overriding the parameters from Reference Dataset.\n",
      "  _log_warning('Overriding the parameters from Reference Dataset.')\n",
      "c:\\work\\KeibaAI\\.venv\\lib\\site-packages\\lightgbm\\basic.py:1513: UserWarning: categorical_column in param dict is overridden.\n",
      "  _log_warning(f'{cat_alias} in param dict is overridden.')\n"
     ]
    },
    {
     "name": "stdout",
     "output_type": "stream",
     "text": [
      "[100]\tvalid_0's binary_logloss: 0.369408\tvalid_1's binary_logloss: 0.469099\n"
     ]
    },
    {
     "name": "stderr",
     "output_type": "stream",
     "text": [
      "num_leaves, val_score: 0.463639:  90%|######### | 18/20 [01:17<00:07,  3.61s/it]\u001b[32m[I 2022-01-15 11:30:16,129]\u001b[0m Trial 24 finished with value: 0.4670289849426582 and parameters: {'num_leaves': 24}. Best is trial 21 with value: 0.4636392252406719.\u001b[0m\n",
      "num_leaves, val_score: 0.463639:  90%|######### | 18/20 [01:17<00:07,  3.61s/it]"
     ]
    },
    {
     "name": "stdout",
     "output_type": "stream",
     "text": [
      "Early stopping, best iteration is:\n",
      "[65]\tvalid_0's binary_logloss: 0.39091\tvalid_1's binary_logloss: 0.467029\n"
     ]
    },
    {
     "name": "stderr",
     "output_type": "stream",
     "text": [
      "c:\\work\\KeibaAI\\.venv\\lib\\site-packages\\lightgbm\\engine.py:181: UserWarning: 'early_stopping_rounds' argument is deprecated and will be removed in a future release of LightGBM. Pass 'early_stopping()' callback via 'callbacks' argument instead.\n",
      "  _log_warning(\"'early_stopping_rounds' argument is deprecated and will be removed in a future release of LightGBM. \"\n",
      "c:\\work\\KeibaAI\\.venv\\lib\\site-packages\\lightgbm\\basic.py:2068: UserWarning: categorical_feature in Dataset is overridden.\n",
      "New categorical_feature is ['father', 'fathers_father', 'fathers_mother', 'ground', 'jockey_id', 'mother', 'mothers_father', 'mothers_mother', 'place_id', 'race_type', 'sex', 'trainer_id', 'turn', 'weather']\n",
      "  _log_warning('categorical_feature in Dataset is overridden.\\n'\n",
      "c:\\work\\KeibaAI\\.venv\\lib\\site-packages\\lightgbm\\engine.py:240: UserWarning: 'verbose_eval' argument is deprecated and will be removed in a future release of LightGBM. Pass 'log_evaluation()' callback via 'callbacks' argument instead.\n",
      "  _log_warning(\"'verbose_eval' argument is deprecated and will be removed in a future release of LightGBM. \"\n"
     ]
    },
    {
     "name": "stdout",
     "output_type": "stream",
     "text": [
      "[LightGBM] [Info] Number of positive: 31528, number of negative: 116705\n",
      "[LightGBM] [Warning] Auto-choosing col-wise multi-threading, the overhead of testing was 0.016429 seconds.\n",
      "You can set `force_col_wise=true` to remove the overhead.\n",
      "[LightGBM] [Info] Total Bins 19630\n",
      "[LightGBM] [Info] Number of data points in the train set: 148233, number of used features: 36\n",
      "[LightGBM] [Info] [binary:BoostFromScore]: pavg=0.212692 -> initscore=-1.308773\n",
      "[LightGBM] [Info] Start training from score -1.308773\n",
      "Training until validation scores don't improve for 100 rounds\n"
     ]
    },
    {
     "name": "stderr",
     "output_type": "stream",
     "text": [
      "c:\\work\\KeibaAI\\.venv\\lib\\site-packages\\lightgbm\\basic.py:1780: UserWarning: Overriding the parameters from Reference Dataset.\n",
      "  _log_warning('Overriding the parameters from Reference Dataset.')\n",
      "c:\\work\\KeibaAI\\.venv\\lib\\site-packages\\lightgbm\\basic.py:1513: UserWarning: categorical_column in param dict is overridden.\n",
      "  _log_warning(f'{cat_alias} in param dict is overridden.')\n"
     ]
    },
    {
     "name": "stdout",
     "output_type": "stream",
     "text": [
      "[100]\tvalid_0's binary_logloss: 0.306364\tvalid_1's binary_logloss: 0.480002\n"
     ]
    },
    {
     "name": "stderr",
     "output_type": "stream",
     "text": [
      "num_leaves, val_score: 0.463639:  95%|#########5| 19/20 [01:22<00:03,  3.87s/it]\u001b[32m[I 2022-01-15 11:30:20,613]\u001b[0m Trial 25 finished with value: 0.46820785446922975 and parameters: {'num_leaves': 72}. Best is trial 21 with value: 0.4636392252406719.\u001b[0m\n",
      "num_leaves, val_score: 0.463639:  95%|#########5| 19/20 [01:22<00:03,  3.87s/it]"
     ]
    },
    {
     "name": "stdout",
     "output_type": "stream",
     "text": [
      "Early stopping, best iteration is:\n",
      "[37]\tvalid_0's binary_logloss: 0.382281\tvalid_1's binary_logloss: 0.468208\n"
     ]
    },
    {
     "name": "stderr",
     "output_type": "stream",
     "text": [
      "c:\\work\\KeibaAI\\.venv\\lib\\site-packages\\lightgbm\\engine.py:181: UserWarning: 'early_stopping_rounds' argument is deprecated and will be removed in a future release of LightGBM. Pass 'early_stopping()' callback via 'callbacks' argument instead.\n",
      "  _log_warning(\"'early_stopping_rounds' argument is deprecated and will be removed in a future release of LightGBM. \"\n",
      "c:\\work\\KeibaAI\\.venv\\lib\\site-packages\\lightgbm\\basic.py:2068: UserWarning: categorical_feature in Dataset is overridden.\n",
      "New categorical_feature is ['father', 'fathers_father', 'fathers_mother', 'ground', 'jockey_id', 'mother', 'mothers_father', 'mothers_mother', 'place_id', 'race_type', 'sex', 'trainer_id', 'turn', 'weather']\n",
      "  _log_warning('categorical_feature in Dataset is overridden.\\n'\n",
      "c:\\work\\KeibaAI\\.venv\\lib\\site-packages\\lightgbm\\engine.py:240: UserWarning: 'verbose_eval' argument is deprecated and will be removed in a future release of LightGBM. Pass 'log_evaluation()' callback via 'callbacks' argument instead.\n",
      "  _log_warning(\"'verbose_eval' argument is deprecated and will be removed in a future release of LightGBM. \"\n"
     ]
    },
    {
     "name": "stdout",
     "output_type": "stream",
     "text": [
      "[LightGBM] [Info] Number of positive: 31528, number of negative: 116705\n",
      "[LightGBM] [Warning] Auto-choosing col-wise multi-threading, the overhead of testing was 0.013799 seconds.\n",
      "You can set `force_col_wise=true` to remove the overhead.\n",
      "[LightGBM] [Info] Total Bins 19630\n",
      "[LightGBM] [Info] Number of data points in the train set: 148233, number of used features: 36\n",
      "[LightGBM] [Info] [binary:BoostFromScore]: pavg=0.212692 -> initscore=-1.308773\n",
      "[LightGBM] [Info] Start training from score -1.308773\n",
      "Training until validation scores don't improve for 100 rounds\n"
     ]
    },
    {
     "name": "stderr",
     "output_type": "stream",
     "text": [
      "c:\\work\\KeibaAI\\.venv\\lib\\site-packages\\lightgbm\\basic.py:1780: UserWarning: Overriding the parameters from Reference Dataset.\n",
      "  _log_warning('Overriding the parameters from Reference Dataset.')\n",
      "c:\\work\\KeibaAI\\.venv\\lib\\site-packages\\lightgbm\\basic.py:1513: UserWarning: categorical_column in param dict is overridden.\n",
      "  _log_warning(f'{cat_alias} in param dict is overridden.')\n"
     ]
    },
    {
     "name": "stdout",
     "output_type": "stream",
     "text": [
      "[100]\tvalid_0's binary_logloss: 0.353656\tvalid_1's binary_logloss: 0.471041\n"
     ]
    },
    {
     "name": "stderr",
     "output_type": "stream",
     "text": [
      "num_leaves, val_score: 0.463639: 100%|##########| 20/20 [01:25<00:00,  3.65s/it]\u001b[32m[I 2022-01-15 11:30:23,729]\u001b[0m Trial 26 finished with value: 0.4675888439473183 and parameters: {'num_leaves': 32}. Best is trial 21 with value: 0.4636392252406719.\u001b[0m\n",
      "num_leaves, val_score: 0.463639: 100%|##########| 20/20 [01:25<00:00,  4.26s/it]\n"
     ]
    },
    {
     "name": "stdout",
     "output_type": "stream",
     "text": [
      "Early stopping, best iteration is:\n",
      "[39]\tvalid_0's binary_logloss: 0.404551\tvalid_1's binary_logloss: 0.467589\n"
     ]
    },
    {
     "name": "stderr",
     "output_type": "stream",
     "text": [
      "bagging, val_score: 0.463639:   0%|          | 0/10 [00:00<?, ?it/s]c:\\work\\KeibaAI\\.venv\\lib\\site-packages\\lightgbm\\engine.py:181: UserWarning: 'early_stopping_rounds' argument is deprecated and will be removed in a future release of LightGBM. Pass 'early_stopping()' callback via 'callbacks' argument instead.\n",
      "  _log_warning(\"'early_stopping_rounds' argument is deprecated and will be removed in a future release of LightGBM. \"\n",
      "c:\\work\\KeibaAI\\.venv\\lib\\site-packages\\lightgbm\\basic.py:2068: UserWarning: categorical_feature in Dataset is overridden.\n",
      "New categorical_feature is ['father', 'fathers_father', 'fathers_mother', 'ground', 'jockey_id', 'mother', 'mothers_father', 'mothers_mother', 'place_id', 'race_type', 'sex', 'trainer_id', 'turn', 'weather']\n",
      "  _log_warning('categorical_feature in Dataset is overridden.\\n'\n",
      "c:\\work\\KeibaAI\\.venv\\lib\\site-packages\\lightgbm\\engine.py:240: UserWarning: 'verbose_eval' argument is deprecated and will be removed in a future release of LightGBM. Pass 'log_evaluation()' callback via 'callbacks' argument instead.\n",
      "  _log_warning(\"'verbose_eval' argument is deprecated and will be removed in a future release of LightGBM. \"\n"
     ]
    },
    {
     "name": "stdout",
     "output_type": "stream",
     "text": [
      "[LightGBM] [Info] Number of positive: 31528, number of negative: 116705\n",
      "[LightGBM] [Warning] Auto-choosing col-wise multi-threading, the overhead of testing was 0.013539 seconds.\n",
      "You can set `force_col_wise=true` to remove the overhead.\n",
      "[LightGBM] [Info] Total Bins 19630\n",
      "[LightGBM] [Info] Number of data points in the train set: 148233, number of used features: 36\n",
      "[LightGBM] [Info] [binary:BoostFromScore]: pavg=0.212692 -> initscore=-1.308773\n",
      "[LightGBM] [Info] Start training from score -1.308773\n",
      "Training until validation scores don't improve for 100 rounds\n"
     ]
    },
    {
     "name": "stderr",
     "output_type": "stream",
     "text": [
      "c:\\work\\KeibaAI\\.venv\\lib\\site-packages\\lightgbm\\basic.py:1780: UserWarning: Overriding the parameters from Reference Dataset.\n",
      "  _log_warning('Overriding the parameters from Reference Dataset.')\n",
      "c:\\work\\KeibaAI\\.venv\\lib\\site-packages\\lightgbm\\basic.py:1513: UserWarning: categorical_column in param dict is overridden.\n",
      "  _log_warning(f'{cat_alias} in param dict is overridden.')\n"
     ]
    },
    {
     "name": "stdout",
     "output_type": "stream",
     "text": [
      "[100]\tvalid_0's binary_logloss: 0.432369\tvalid_1's binary_logloss: 0.467235\n"
     ]
    },
    {
     "name": "stderr",
     "output_type": "stream",
     "text": [
      "bagging, val_score: 0.463639:  10%|#         | 1/10 [00:01<00:17,  1.97s/it]\u001b[32m[I 2022-01-15 11:30:25,722]\u001b[0m Trial 27 finished with value: 0.4666645255095209 and parameters: {'bagging_fraction': 0.7419727112835572, 'bagging_freq': 3}. Best is trial 27 with value: 0.4666645255095209.\u001b[0m\n",
      "bagging, val_score: 0.463639:  10%|#         | 1/10 [00:01<00:17,  1.97s/it]"
     ]
    },
    {
     "name": "stdout",
     "output_type": "stream",
     "text": [
      "[200]\tvalid_0's binary_logloss: 0.420085\tvalid_1's binary_logloss: 0.46807\n",
      "Early stopping, best iteration is:\n",
      "[116]\tvalid_0's binary_logloss: 0.429427\tvalid_1's binary_logloss: 0.466665\n"
     ]
    },
    {
     "name": "stderr",
     "output_type": "stream",
     "text": [
      "c:\\work\\KeibaAI\\.venv\\lib\\site-packages\\lightgbm\\engine.py:181: UserWarning: 'early_stopping_rounds' argument is deprecated and will be removed in a future release of LightGBM. Pass 'early_stopping()' callback via 'callbacks' argument instead.\n",
      "  _log_warning(\"'early_stopping_rounds' argument is deprecated and will be removed in a future release of LightGBM. \"\n",
      "c:\\work\\KeibaAI\\.venv\\lib\\site-packages\\lightgbm\\basic.py:2068: UserWarning: categorical_feature in Dataset is overridden.\n",
      "New categorical_feature is ['father', 'fathers_father', 'fathers_mother', 'ground', 'jockey_id', 'mother', 'mothers_father', 'mothers_mother', 'place_id', 'race_type', 'sex', 'trainer_id', 'turn', 'weather']\n",
      "  _log_warning('categorical_feature in Dataset is overridden.\\n'\n",
      "c:\\work\\KeibaAI\\.venv\\lib\\site-packages\\lightgbm\\engine.py:240: UserWarning: 'verbose_eval' argument is deprecated and will be removed in a future release of LightGBM. Pass 'log_evaluation()' callback via 'callbacks' argument instead.\n",
      "  _log_warning(\"'verbose_eval' argument is deprecated and will be removed in a future release of LightGBM. \"\n"
     ]
    },
    {
     "name": "stdout",
     "output_type": "stream",
     "text": [
      "[LightGBM] [Info] Number of positive: 31528, number of negative: 116705\n",
      "[LightGBM] [Warning] Auto-choosing col-wise multi-threading, the overhead of testing was 0.013719 seconds.\n",
      "You can set `force_col_wise=true` to remove the overhead.\n",
      "[LightGBM] [Info] Total Bins 19630\n",
      "[LightGBM] [Info] Number of data points in the train set: 148233, number of used features: 36\n",
      "[LightGBM] [Info] [binary:BoostFromScore]: pavg=0.212692 -> initscore=-1.308773\n",
      "[LightGBM] [Info] Start training from score -1.308773\n",
      "Training until validation scores don't improve for 100 rounds\n"
     ]
    },
    {
     "name": "stderr",
     "output_type": "stream",
     "text": [
      "c:\\work\\KeibaAI\\.venv\\lib\\site-packages\\lightgbm\\basic.py:1780: UserWarning: Overriding the parameters from Reference Dataset.\n",
      "  _log_warning('Overriding the parameters from Reference Dataset.')\n",
      "c:\\work\\KeibaAI\\.venv\\lib\\site-packages\\lightgbm\\basic.py:1513: UserWarning: categorical_column in param dict is overridden.\n",
      "  _log_warning(f'{cat_alias} in param dict is overridden.')\n"
     ]
    },
    {
     "name": "stdout",
     "output_type": "stream",
     "text": [
      "[100]\tvalid_0's binary_logloss: 0.431918\tvalid_1's binary_logloss: 0.465853\n",
      "[200]\tvalid_0's binary_logloss: 0.418866\tvalid_1's binary_logloss: 0.465896\n"
     ]
    },
    {
     "name": "stderr",
     "output_type": "stream",
     "text": [
      "bagging, val_score: 0.463639:  20%|##        | 2/10 [00:04<00:16,  2.06s/it]\u001b[32m[I 2022-01-15 11:30:27,845]\u001b[0m Trial 28 finished with value: 0.4652031865587912 and parameters: {'bagging_fraction': 0.8828709304203902, 'bagging_freq': 5}. Best is trial 28 with value: 0.4652031865587912.\u001b[0m\n",
      "bagging, val_score: 0.463639:  20%|##        | 2/10 [00:04<00:16,  2.06s/it]"
     ]
    },
    {
     "name": "stdout",
     "output_type": "stream",
     "text": [
      "Early stopping, best iteration is:\n",
      "[145]\tvalid_0's binary_logloss: 0.42513\tvalid_1's binary_logloss: 0.465203\n"
     ]
    },
    {
     "name": "stderr",
     "output_type": "stream",
     "text": [
      "c:\\work\\KeibaAI\\.venv\\lib\\site-packages\\lightgbm\\engine.py:181: UserWarning: 'early_stopping_rounds' argument is deprecated and will be removed in a future release of LightGBM. Pass 'early_stopping()' callback via 'callbacks' argument instead.\n",
      "  _log_warning(\"'early_stopping_rounds' argument is deprecated and will be removed in a future release of LightGBM. \"\n",
      "c:\\work\\KeibaAI\\.venv\\lib\\site-packages\\lightgbm\\basic.py:2068: UserWarning: categorical_feature in Dataset is overridden.\n",
      "New categorical_feature is ['father', 'fathers_father', 'fathers_mother', 'ground', 'jockey_id', 'mother', 'mothers_father', 'mothers_mother', 'place_id', 'race_type', 'sex', 'trainer_id', 'turn', 'weather']\n",
      "  _log_warning('categorical_feature in Dataset is overridden.\\n'\n",
      "c:\\work\\KeibaAI\\.venv\\lib\\site-packages\\lightgbm\\engine.py:240: UserWarning: 'verbose_eval' argument is deprecated and will be removed in a future release of LightGBM. Pass 'log_evaluation()' callback via 'callbacks' argument instead.\n",
      "  _log_warning(\"'verbose_eval' argument is deprecated and will be removed in a future release of LightGBM. \"\n"
     ]
    },
    {
     "name": "stdout",
     "output_type": "stream",
     "text": [
      "[LightGBM] [Info] Number of positive: 31528, number of negative: 116705\n",
      "[LightGBM] [Warning] Auto-choosing col-wise multi-threading, the overhead of testing was 0.013365 seconds.\n",
      "You can set `force_col_wise=true` to remove the overhead.\n",
      "[LightGBM] [Info] Total Bins 19630\n",
      "[LightGBM] [Info] Number of data points in the train set: 148233, number of used features: 36\n",
      "[LightGBM] [Info] [binary:BoostFromScore]: pavg=0.212692 -> initscore=-1.308773\n",
      "[LightGBM] [Info] Start training from score -1.308773\n",
      "Training until validation scores don't improve for 100 rounds\n"
     ]
    },
    {
     "name": "stderr",
     "output_type": "stream",
     "text": [
      "c:\\work\\KeibaAI\\.venv\\lib\\site-packages\\lightgbm\\basic.py:1780: UserWarning: Overriding the parameters from Reference Dataset.\n",
      "  _log_warning('Overriding the parameters from Reference Dataset.')\n",
      "c:\\work\\KeibaAI\\.venv\\lib\\site-packages\\lightgbm\\basic.py:1513: UserWarning: categorical_column in param dict is overridden.\n",
      "  _log_warning(f'{cat_alias} in param dict is overridden.')\n"
     ]
    },
    {
     "name": "stdout",
     "output_type": "stream",
     "text": [
      "[100]\tvalid_0's binary_logloss: 0.432294\tvalid_1's binary_logloss: 0.467143\n"
     ]
    },
    {
     "name": "stderr",
     "output_type": "stream",
     "text": [
      "bagging, val_score: 0.463639:  30%|###       | 3/10 [00:05<00:13,  1.95s/it]\u001b[32m[I 2022-01-15 11:30:29,670]\u001b[0m Trial 29 finished with value: 0.46666154190720166 and parameters: {'bagging_fraction': 0.7170922629313187, 'bagging_freq': 5}. Best is trial 28 with value: 0.4652031865587912.\u001b[0m\n",
      "bagging, val_score: 0.463639:  30%|###       | 3/10 [00:05<00:13,  1.95s/it]"
     ]
    },
    {
     "name": "stdout",
     "output_type": "stream",
     "text": [
      "[200]\tvalid_0's binary_logloss: 0.420097\tvalid_1's binary_logloss: 0.468545\n",
      "Early stopping, best iteration is:\n",
      "[120]\tvalid_0's binary_logloss: 0.428978\tvalid_1's binary_logloss: 0.466662\n"
     ]
    },
    {
     "name": "stderr",
     "output_type": "stream",
     "text": [
      "c:\\work\\KeibaAI\\.venv\\lib\\site-packages\\lightgbm\\engine.py:181: UserWarning: 'early_stopping_rounds' argument is deprecated and will be removed in a future release of LightGBM. Pass 'early_stopping()' callback via 'callbacks' argument instead.\n",
      "  _log_warning(\"'early_stopping_rounds' argument is deprecated and will be removed in a future release of LightGBM. \"\n",
      "c:\\work\\KeibaAI\\.venv\\lib\\site-packages\\lightgbm\\basic.py:2068: UserWarning: categorical_feature in Dataset is overridden.\n",
      "New categorical_feature is ['father', 'fathers_father', 'fathers_mother', 'ground', 'jockey_id', 'mother', 'mothers_father', 'mothers_mother', 'place_id', 'race_type', 'sex', 'trainer_id', 'turn', 'weather']\n",
      "  _log_warning('categorical_feature in Dataset is overridden.\\n'\n",
      "c:\\work\\KeibaAI\\.venv\\lib\\site-packages\\lightgbm\\engine.py:240: UserWarning: 'verbose_eval' argument is deprecated and will be removed in a future release of LightGBM. Pass 'log_evaluation()' callback via 'callbacks' argument instead.\n",
      "  _log_warning(\"'verbose_eval' argument is deprecated and will be removed in a future release of LightGBM. \"\n"
     ]
    },
    {
     "name": "stdout",
     "output_type": "stream",
     "text": [
      "[LightGBM] [Info] Number of positive: 31528, number of negative: 116705\n",
      "[LightGBM] [Warning] Auto-choosing col-wise multi-threading, the overhead of testing was 0.010950 seconds.\n",
      "You can set `force_col_wise=true` to remove the overhead.\n",
      "[LightGBM] [Info] Total Bins 19630\n",
      "[LightGBM] [Info] Number of data points in the train set: 148233, number of used features: 36\n",
      "[LightGBM] [Info] [binary:BoostFromScore]: pavg=0.212692 -> initscore=-1.308773\n",
      "[LightGBM] [Info] Start training from score -1.308773\n",
      "Training until validation scores don't improve for 100 rounds\n"
     ]
    },
    {
     "name": "stderr",
     "output_type": "stream",
     "text": [
      "c:\\work\\KeibaAI\\.venv\\lib\\site-packages\\lightgbm\\basic.py:1780: UserWarning: Overriding the parameters from Reference Dataset.\n",
      "  _log_warning('Overriding the parameters from Reference Dataset.')\n",
      "c:\\work\\KeibaAI\\.venv\\lib\\site-packages\\lightgbm\\basic.py:1513: UserWarning: categorical_column in param dict is overridden.\n",
      "  _log_warning(f'{cat_alias} in param dict is overridden.')\n"
     ]
    },
    {
     "name": "stdout",
     "output_type": "stream",
     "text": [
      "[100]\tvalid_0's binary_logloss: 0.431289\tvalid_1's binary_logloss: 0.465001\n",
      "[200]\tvalid_0's binary_logloss: 0.41741\tvalid_1's binary_logloss: 0.4644\n",
      "[300]\tvalid_0's binary_logloss: 0.408268\tvalid_1's binary_logloss: 0.464463\n"
     ]
    },
    {
     "name": "stderr",
     "output_type": "stream",
     "text": [
      "bagging, val_score: 0.463639:  40%|####      | 4/10 [00:09<00:14,  2.44s/it]\u001b[32m[I 2022-01-15 11:30:32,849]\u001b[0m Trial 30 finished with value: 0.4639893756249929 and parameters: {'bagging_fraction': 0.9916862019649474, 'bagging_freq': 2}. Best is trial 30 with value: 0.4639893756249929.\u001b[0m\n",
      "bagging, val_score: 0.463639:  40%|####      | 4/10 [00:09<00:14,  2.44s/it]"
     ]
    },
    {
     "name": "stdout",
     "output_type": "stream",
     "text": [
      "Early stopping, best iteration is:\n",
      "[227]\tvalid_0's binary_logloss: 0.414504\tvalid_1's binary_logloss: 0.463989\n"
     ]
    },
    {
     "name": "stderr",
     "output_type": "stream",
     "text": [
      "c:\\work\\KeibaAI\\.venv\\lib\\site-packages\\lightgbm\\engine.py:181: UserWarning: 'early_stopping_rounds' argument is deprecated and will be removed in a future release of LightGBM. Pass 'early_stopping()' callback via 'callbacks' argument instead.\n",
      "  _log_warning(\"'early_stopping_rounds' argument is deprecated and will be removed in a future release of LightGBM. \"\n",
      "c:\\work\\KeibaAI\\.venv\\lib\\site-packages\\lightgbm\\basic.py:2068: UserWarning: categorical_feature in Dataset is overridden.\n",
      "New categorical_feature is ['father', 'fathers_father', 'fathers_mother', 'ground', 'jockey_id', 'mother', 'mothers_father', 'mothers_mother', 'place_id', 'race_type', 'sex', 'trainer_id', 'turn', 'weather']\n",
      "  _log_warning('categorical_feature in Dataset is overridden.\\n'\n",
      "c:\\work\\KeibaAI\\.venv\\lib\\site-packages\\lightgbm\\engine.py:240: UserWarning: 'verbose_eval' argument is deprecated and will be removed in a future release of LightGBM. Pass 'log_evaluation()' callback via 'callbacks' argument instead.\n",
      "  _log_warning(\"'verbose_eval' argument is deprecated and will be removed in a future release of LightGBM. \"\n"
     ]
    },
    {
     "name": "stdout",
     "output_type": "stream",
     "text": [
      "[LightGBM] [Info] Number of positive: 31528, number of negative: 116705\n",
      "[LightGBM] [Warning] Auto-choosing row-wise multi-threading, the overhead of testing was 0.002524 seconds.\n",
      "You can set `force_row_wise=true` to remove the overhead.\n",
      "And if memory is not enough, you can set `force_col_wise=true`.\n",
      "[LightGBM] [Info] Total Bins 19630\n",
      "[LightGBM] [Info] Number of data points in the train set: 148233, number of used features: 36\n",
      "[LightGBM] [Info] [binary:BoostFromScore]: pavg=0.212692 -> initscore=-1.308773\n"
     ]
    },
    {
     "name": "stderr",
     "output_type": "stream",
     "text": [
      "c:\\work\\KeibaAI\\.venv\\lib\\site-packages\\lightgbm\\basic.py:1780: UserWarning: Overriding the parameters from Reference Dataset.\n",
      "  _log_warning('Overriding the parameters from Reference Dataset.')\n",
      "c:\\work\\KeibaAI\\.venv\\lib\\site-packages\\lightgbm\\basic.py:1513: UserWarning: categorical_column in param dict is overridden.\n",
      "  _log_warning(f'{cat_alias} in param dict is overridden.')\n"
     ]
    },
    {
     "name": "stdout",
     "output_type": "stream",
     "text": [
      "[LightGBM] [Info] Start training from score -1.308773\n",
      "Training until validation scores don't improve for 100 rounds\n",
      "[100]\tvalid_0's binary_logloss: 0.433283\tvalid_1's binary_logloss: 0.468329\n"
     ]
    },
    {
     "name": "stderr",
     "output_type": "stream",
     "text": [
      "bagging, val_score: 0.463639:  50%|#####     | 5/10 [00:11<00:12,  2.42s/it]\u001b[32m[I 2022-01-15 11:30:35,249]\u001b[0m Trial 31 finished with value: 0.4681447748294681 and parameters: {'bagging_fraction': 0.6184418072500294, 'bagging_freq': 2}. Best is trial 30 with value: 0.4639893756249929.\u001b[0m\n",
      "bagging, val_score: 0.463639:  50%|#####     | 5/10 [00:11<00:12,  2.42s/it]"
     ]
    },
    {
     "name": "stdout",
     "output_type": "stream",
     "text": [
      "[200]\tvalid_0's binary_logloss: 0.421856\tvalid_1's binary_logloss: 0.469774\n",
      "Early stopping, best iteration is:\n",
      "[112]\tvalid_0's binary_logloss: 0.431226\tvalid_1's binary_logloss: 0.468145\n"
     ]
    },
    {
     "name": "stderr",
     "output_type": "stream",
     "text": [
      "c:\\work\\KeibaAI\\.venv\\lib\\site-packages\\lightgbm\\engine.py:181: UserWarning: 'early_stopping_rounds' argument is deprecated and will be removed in a future release of LightGBM. Pass 'early_stopping()' callback via 'callbacks' argument instead.\n",
      "  _log_warning(\"'early_stopping_rounds' argument is deprecated and will be removed in a future release of LightGBM. \"\n",
      "c:\\work\\KeibaAI\\.venv\\lib\\site-packages\\lightgbm\\basic.py:2068: UserWarning: categorical_feature in Dataset is overridden.\n",
      "New categorical_feature is ['father', 'fathers_father', 'fathers_mother', 'ground', 'jockey_id', 'mother', 'mothers_father', 'mothers_mother', 'place_id', 'race_type', 'sex', 'trainer_id', 'turn', 'weather']\n",
      "  _log_warning('categorical_feature in Dataset is overridden.\\n'\n",
      "c:\\work\\KeibaAI\\.venv\\lib\\site-packages\\lightgbm\\engine.py:240: UserWarning: 'verbose_eval' argument is deprecated and will be removed in a future release of LightGBM. Pass 'log_evaluation()' callback via 'callbacks' argument instead.\n",
      "  _log_warning(\"'verbose_eval' argument is deprecated and will be removed in a future release of LightGBM. \"\n"
     ]
    },
    {
     "name": "stdout",
     "output_type": "stream",
     "text": [
      "[LightGBM] [Info] Number of positive: 31528, number of negative: 116705\n",
      "[LightGBM] [Warning] Auto-choosing col-wise multi-threading, the overhead of testing was 0.013841 seconds.\n",
      "You can set `force_col_wise=true` to remove the overhead.\n",
      "[LightGBM] [Info] Total Bins 19630\n",
      "[LightGBM] [Info] Number of data points in the train set: 148233, number of used features: 36\n",
      "[LightGBM] [Info] [binary:BoostFromScore]: pavg=0.212692 -> initscore=-1.308773\n"
     ]
    },
    {
     "name": "stderr",
     "output_type": "stream",
     "text": [
      "c:\\work\\KeibaAI\\.venv\\lib\\site-packages\\lightgbm\\basic.py:1780: UserWarning: Overriding the parameters from Reference Dataset.\n",
      "  _log_warning('Overriding the parameters from Reference Dataset.')\n",
      "c:\\work\\KeibaAI\\.venv\\lib\\site-packages\\lightgbm\\basic.py:1513: UserWarning: categorical_column in param dict is overridden.\n",
      "  _log_warning(f'{cat_alias} in param dict is overridden.')\n"
     ]
    },
    {
     "name": "stdout",
     "output_type": "stream",
     "text": [
      "[LightGBM] [Info] Start training from score -1.308773\n",
      "Training until validation scores don't improve for 100 rounds\n",
      "[100]\tvalid_0's binary_logloss: 0.431948\tvalid_1's binary_logloss: 0.46649\n"
     ]
    },
    {
     "name": "stderr",
     "output_type": "stream",
     "text": [
      "bagging, val_score: 0.463639:  60%|######    | 6/10 [00:13<00:09,  2.35s/it]\u001b[32m[I 2022-01-15 11:30:37,449]\u001b[0m Trial 32 finished with value: 0.46600765661762944 and parameters: {'bagging_fraction': 0.8208306393847842, 'bagging_freq': 4}. Best is trial 30 with value: 0.4639893756249929.\u001b[0m\n",
      "bagging, val_score: 0.463639:  60%|######    | 6/10 [00:13<00:09,  2.35s/it]"
     ]
    },
    {
     "name": "stdout",
     "output_type": "stream",
     "text": [
      "[200]\tvalid_0's binary_logloss: 0.419052\tvalid_1's binary_logloss: 0.466821\n",
      "Early stopping, best iteration is:\n",
      "[116]\tvalid_0's binary_logloss: 0.429253\tvalid_1's binary_logloss: 0.466008\n"
     ]
    },
    {
     "name": "stderr",
     "output_type": "stream",
     "text": [
      "c:\\work\\KeibaAI\\.venv\\lib\\site-packages\\lightgbm\\engine.py:181: UserWarning: 'early_stopping_rounds' argument is deprecated and will be removed in a future release of LightGBM. Pass 'early_stopping()' callback via 'callbacks' argument instead.\n",
      "  _log_warning(\"'early_stopping_rounds' argument is deprecated and will be removed in a future release of LightGBM. \"\n",
      "c:\\work\\KeibaAI\\.venv\\lib\\site-packages\\lightgbm\\basic.py:2068: UserWarning: categorical_feature in Dataset is overridden.\n",
      "New categorical_feature is ['father', 'fathers_father', 'fathers_mother', 'ground', 'jockey_id', 'mother', 'mothers_father', 'mothers_mother', 'place_id', 'race_type', 'sex', 'trainer_id', 'turn', 'weather']\n",
      "  _log_warning('categorical_feature in Dataset is overridden.\\n'\n",
      "c:\\work\\KeibaAI\\.venv\\lib\\site-packages\\lightgbm\\engine.py:240: UserWarning: 'verbose_eval' argument is deprecated and will be removed in a future release of LightGBM. Pass 'log_evaluation()' callback via 'callbacks' argument instead.\n",
      "  _log_warning(\"'verbose_eval' argument is deprecated and will be removed in a future release of LightGBM. \"\n"
     ]
    },
    {
     "name": "stdout",
     "output_type": "stream",
     "text": [
      "[LightGBM] [Info] Number of positive: 31528, number of negative: 116705\n",
      "[LightGBM] [Warning] Auto-choosing col-wise multi-threading, the overhead of testing was 0.013677 seconds.\n",
      "You can set `force_col_wise=true` to remove the overhead.\n",
      "[LightGBM] [Info] Total Bins 19630\n",
      "[LightGBM] [Info] Number of data points in the train set: 148233, number of used features: 36\n",
      "[LightGBM] [Info] [binary:BoostFromScore]: pavg=0.212692 -> initscore=-1.308773\n",
      "[LightGBM] [Info] Start training from score -1.308773\n",
      "Training until validation scores don't improve for 100 rounds\n"
     ]
    },
    {
     "name": "stderr",
     "output_type": "stream",
     "text": [
      "c:\\work\\KeibaAI\\.venv\\lib\\site-packages\\lightgbm\\basic.py:1780: UserWarning: Overriding the parameters from Reference Dataset.\n",
      "  _log_warning('Overriding the parameters from Reference Dataset.')\n",
      "c:\\work\\KeibaAI\\.venv\\lib\\site-packages\\lightgbm\\basic.py:1513: UserWarning: categorical_column in param dict is overridden.\n",
      "  _log_warning(f'{cat_alias} in param dict is overridden.')\n"
     ]
    },
    {
     "name": "stdout",
     "output_type": "stream",
     "text": [
      "[100]\tvalid_0's binary_logloss: 0.431549\tvalid_1's binary_logloss: 0.465541\n",
      "[200]\tvalid_0's binary_logloss: 0.418256\tvalid_1's binary_logloss: 0.465393\n",
      "Early stopping, best iteration is:\n",
      "[129]\tvalid_0's binary_logloss: 0.426734\tvalid_1's binary_logloss: 0.46477\n"
     ]
    },
    {
     "name": "stderr",
     "output_type": "stream",
     "text": [
      "bagging, val_score: 0.463639:  70%|#######   | 7/10 [00:16<00:07,  2.35s/it]\u001b[32m[I 2022-01-15 11:30:39,793]\u001b[0m Trial 33 finished with value: 0.46477007017726824 and parameters: {'bagging_fraction': 0.8993349435118041, 'bagging_freq': 5}. Best is trial 30 with value: 0.4639893756249929.\u001b[0m\n",
      "bagging, val_score: 0.463639:  70%|#######   | 7/10 [00:16<00:07,  2.35s/it]c:\\work\\KeibaAI\\.venv\\lib\\site-packages\\lightgbm\\engine.py:181: UserWarning: 'early_stopping_rounds' argument is deprecated and will be removed in a future release of LightGBM. Pass 'early_stopping()' callback via 'callbacks' argument instead.\n",
      "  _log_warning(\"'early_stopping_rounds' argument is deprecated and will be removed in a future release of LightGBM. \"\n",
      "c:\\work\\KeibaAI\\.venv\\lib\\site-packages\\lightgbm\\basic.py:2068: UserWarning: categorical_feature in Dataset is overridden.\n",
      "New categorical_feature is ['father', 'fathers_father', 'fathers_mother', 'ground', 'jockey_id', 'mother', 'mothers_father', 'mothers_mother', 'place_id', 'race_type', 'sex', 'trainer_id', 'turn', 'weather']\n",
      "  _log_warning('categorical_feature in Dataset is overridden.\\n'\n",
      "c:\\work\\KeibaAI\\.venv\\lib\\site-packages\\lightgbm\\engine.py:240: UserWarning: 'verbose_eval' argument is deprecated and will be removed in a future release of LightGBM. Pass 'log_evaluation()' callback via 'callbacks' argument instead.\n",
      "  _log_warning(\"'verbose_eval' argument is deprecated and will be removed in a future release of LightGBM. \"\n"
     ]
    },
    {
     "name": "stdout",
     "output_type": "stream",
     "text": [
      "[LightGBM] [Info] Number of positive: 31528, number of negative: 116705\n",
      "[LightGBM] [Warning] Auto-choosing col-wise multi-threading, the overhead of testing was 0.015117 seconds.\n",
      "You can set `force_col_wise=true` to remove the overhead.\n",
      "[LightGBM] [Info] Total Bins 19630\n",
      "[LightGBM] [Info] Number of data points in the train set: 148233, number of used features: 36\n",
      "[LightGBM] [Info] [binary:BoostFromScore]: pavg=0.212692 -> initscore=-1.308773\n"
     ]
    },
    {
     "name": "stderr",
     "output_type": "stream",
     "text": [
      "c:\\work\\KeibaAI\\.venv\\lib\\site-packages\\lightgbm\\basic.py:1780: UserWarning: Overriding the parameters from Reference Dataset.\n",
      "  _log_warning('Overriding the parameters from Reference Dataset.')\n",
      "c:\\work\\KeibaAI\\.venv\\lib\\site-packages\\lightgbm\\basic.py:1513: UserWarning: categorical_column in param dict is overridden.\n",
      "  _log_warning(f'{cat_alias} in param dict is overridden.')\n"
     ]
    },
    {
     "name": "stdout",
     "output_type": "stream",
     "text": [
      "[LightGBM] [Info] Start training from score -1.308773\n",
      "Training until validation scores don't improve for 100 rounds\n",
      "[100]\tvalid_0's binary_logloss: 0.432159\tvalid_1's binary_logloss: 0.46596\n",
      "[200]\tvalid_0's binary_logloss: 0.4191\tvalid_1's binary_logloss: 0.466054\n"
     ]
    },
    {
     "name": "stderr",
     "output_type": "stream",
     "text": [
      "bagging, val_score: 0.463639:  80%|########  | 8/10 [00:18<00:04,  2.32s/it]\u001b[32m[I 2022-01-15 11:30:42,066]\u001b[0m Trial 34 finished with value: 0.4654541427265585 and parameters: {'bagging_fraction': 0.8698666394900438, 'bagging_freq': 4}. Best is trial 30 with value: 0.4639893756249929.\u001b[0m\n",
      "bagging, val_score: 0.463639:  80%|########  | 8/10 [00:18<00:04,  2.32s/it]"
     ]
    },
    {
     "name": "stdout",
     "output_type": "stream",
     "text": [
      "Early stopping, best iteration is:\n",
      "[138]\tvalid_0's binary_logloss: 0.426427\tvalid_1's binary_logloss: 0.465454\n"
     ]
    },
    {
     "name": "stderr",
     "output_type": "stream",
     "text": [
      "c:\\work\\KeibaAI\\.venv\\lib\\site-packages\\lightgbm\\engine.py:181: UserWarning: 'early_stopping_rounds' argument is deprecated and will be removed in a future release of LightGBM. Pass 'early_stopping()' callback via 'callbacks' argument instead.\n",
      "  _log_warning(\"'early_stopping_rounds' argument is deprecated and will be removed in a future release of LightGBM. \"\n",
      "c:\\work\\KeibaAI\\.venv\\lib\\site-packages\\lightgbm\\basic.py:2068: UserWarning: categorical_feature in Dataset is overridden.\n",
      "New categorical_feature is ['father', 'fathers_father', 'fathers_mother', 'ground', 'jockey_id', 'mother', 'mothers_father', 'mothers_mother', 'place_id', 'race_type', 'sex', 'trainer_id', 'turn', 'weather']\n",
      "  _log_warning('categorical_feature in Dataset is overridden.\\n'\n",
      "c:\\work\\KeibaAI\\.venv\\lib\\site-packages\\lightgbm\\engine.py:240: UserWarning: 'verbose_eval' argument is deprecated and will be removed in a future release of LightGBM. Pass 'log_evaluation()' callback via 'callbacks' argument instead.\n",
      "  _log_warning(\"'verbose_eval' argument is deprecated and will be removed in a future release of LightGBM. \"\n"
     ]
    },
    {
     "name": "stdout",
     "output_type": "stream",
     "text": [
      "[LightGBM] [Info] Number of positive: 31528, number of negative: 116705\n",
      "[LightGBM] [Warning] Auto-choosing col-wise multi-threading, the overhead of testing was 0.013853 seconds.\n",
      "You can set `force_col_wise=true` to remove the overhead.\n",
      "[LightGBM] [Info] Total Bins 19630\n",
      "[LightGBM] [Info] Number of data points in the train set: 148233, number of used features: 36\n",
      "[LightGBM] [Info] [binary:BoostFromScore]: pavg=0.212692 -> initscore=-1.308773\n",
      "[LightGBM] [Info] Start training from score -1.308773\n",
      "Training until validation scores don't improve for 100 rounds\n"
     ]
    },
    {
     "name": "stderr",
     "output_type": "stream",
     "text": [
      "c:\\work\\KeibaAI\\.venv\\lib\\site-packages\\lightgbm\\basic.py:1780: UserWarning: Overriding the parameters from Reference Dataset.\n",
      "  _log_warning('Overriding the parameters from Reference Dataset.')\n",
      "c:\\work\\KeibaAI\\.venv\\lib\\site-packages\\lightgbm\\basic.py:1513: UserWarning: categorical_column in param dict is overridden.\n",
      "  _log_warning(f'{cat_alias} in param dict is overridden.')\n"
     ]
    },
    {
     "name": "stdout",
     "output_type": "stream",
     "text": [
      "[100]\tvalid_0's binary_logloss: 0.434038\tvalid_1's binary_logloss: 0.469503\n"
     ]
    },
    {
     "name": "stderr",
     "output_type": "stream",
     "text": [
      "bagging, val_score: 0.463639:  90%|######### | 9/10 [00:19<00:02,  2.11s/it]\u001b[32m[I 2022-01-15 11:30:43,698]\u001b[0m Trial 35 finished with value: 0.46886197665401363 and parameters: {'bagging_fraction': 0.5199852069256159, 'bagging_freq': 3}. Best is trial 30 with value: 0.4639893756249929.\u001b[0m\n",
      "bagging, val_score: 0.463639:  90%|######### | 9/10 [00:19<00:02,  2.11s/it]"
     ]
    },
    {
     "name": "stdout",
     "output_type": "stream",
     "text": [
      "[200]\tvalid_0's binary_logloss: 0.423673\tvalid_1's binary_logloss: 0.470938\n",
      "Early stopping, best iteration is:\n",
      "[120]\tvalid_0's binary_logloss: 0.430991\tvalid_1's binary_logloss: 0.468862\n"
     ]
    },
    {
     "name": "stderr",
     "output_type": "stream",
     "text": [
      "c:\\work\\KeibaAI\\.venv\\lib\\site-packages\\lightgbm\\engine.py:181: UserWarning: 'early_stopping_rounds' argument is deprecated and will be removed in a future release of LightGBM. Pass 'early_stopping()' callback via 'callbacks' argument instead.\n",
      "  _log_warning(\"'early_stopping_rounds' argument is deprecated and will be removed in a future release of LightGBM. \"\n",
      "c:\\work\\KeibaAI\\.venv\\lib\\site-packages\\lightgbm\\basic.py:2068: UserWarning: categorical_feature in Dataset is overridden.\n",
      "New categorical_feature is ['father', 'fathers_father', 'fathers_mother', 'ground', 'jockey_id', 'mother', 'mothers_father', 'mothers_mother', 'place_id', 'race_type', 'sex', 'trainer_id', 'turn', 'weather']\n",
      "  _log_warning('categorical_feature in Dataset is overridden.\\n'\n",
      "c:\\work\\KeibaAI\\.venv\\lib\\site-packages\\lightgbm\\engine.py:240: UserWarning: 'verbose_eval' argument is deprecated and will be removed in a future release of LightGBM. Pass 'log_evaluation()' callback via 'callbacks' argument instead.\n",
      "  _log_warning(\"'verbose_eval' argument is deprecated and will be removed in a future release of LightGBM. \"\n"
     ]
    },
    {
     "name": "stdout",
     "output_type": "stream",
     "text": [
      "[LightGBM] [Info] Number of positive: 31528, number of negative: 116705\n",
      "[LightGBM] [Warning] Auto-choosing col-wise multi-threading, the overhead of testing was 0.012838 seconds.\n",
      "You can set `force_col_wise=true` to remove the overhead.\n",
      "[LightGBM] [Info] Total Bins 19630\n",
      "[LightGBM] [Info] Number of data points in the train set: 148233, number of used features: 36\n",
      "[LightGBM] [Info] [binary:BoostFromScore]: pavg=0.212692 -> initscore=-1.308773\n",
      "[LightGBM] [Info] Start training from score -1.308773\n",
      "Training until validation scores don't improve for 100 rounds\n"
     ]
    },
    {
     "name": "stderr",
     "output_type": "stream",
     "text": [
      "c:\\work\\KeibaAI\\.venv\\lib\\site-packages\\lightgbm\\basic.py:1780: UserWarning: Overriding the parameters from Reference Dataset.\n",
      "  _log_warning('Overriding the parameters from Reference Dataset.')\n",
      "c:\\work\\KeibaAI\\.venv\\lib\\site-packages\\lightgbm\\basic.py:1513: UserWarning: categorical_column in param dict is overridden.\n",
      "  _log_warning(f'{cat_alias} in param dict is overridden.')\n"
     ]
    },
    {
     "name": "stdout",
     "output_type": "stream",
     "text": [
      "[100]\tvalid_0's binary_logloss: 0.431586\tvalid_1's binary_logloss: 0.464806\n",
      "[200]\tvalid_0's binary_logloss: 0.418385\tvalid_1's binary_logloss: 0.46458\n"
     ]
    },
    {
     "name": "stderr",
     "output_type": "stream",
     "text": [
      "bagging, val_score: 0.463639: 100%|##########| 10/10 [00:22<00:00,  2.09s/it]\u001b[32m[I 2022-01-15 11:30:45,761]\u001b[0m Trial 36 finished with value: 0.4642083244628863 and parameters: {'bagging_fraction': 0.9733037032560092, 'bagging_freq': 2}. Best is trial 30 with value: 0.4639893756249929.\u001b[0m\n",
      "bagging, val_score: 0.463639: 100%|##########| 10/10 [00:22<00:00,  2.20s/it]\n"
     ]
    },
    {
     "name": "stdout",
     "output_type": "stream",
     "text": [
      "Early stopping, best iteration is:\n",
      "[149]\tvalid_0's binary_logloss: 0.424222\tvalid_1's binary_logloss: 0.464208\n"
     ]
    },
    {
     "name": "stderr",
     "output_type": "stream",
     "text": [
      "feature_fraction_stage2, val_score: 0.463639:   0%|          | 0/3 [00:00<?, ?it/s]c:\\work\\KeibaAI\\.venv\\lib\\site-packages\\lightgbm\\engine.py:181: UserWarning: 'early_stopping_rounds' argument is deprecated and will be removed in a future release of LightGBM. Pass 'early_stopping()' callback via 'callbacks' argument instead.\n",
      "  _log_warning(\"'early_stopping_rounds' argument is deprecated and will be removed in a future release of LightGBM. \"\n",
      "c:\\work\\KeibaAI\\.venv\\lib\\site-packages\\lightgbm\\basic.py:2068: UserWarning: categorical_feature in Dataset is overridden.\n",
      "New categorical_feature is ['father', 'fathers_father', 'fathers_mother', 'ground', 'jockey_id', 'mother', 'mothers_father', 'mothers_mother', 'place_id', 'race_type', 'sex', 'trainer_id', 'turn', 'weather']\n",
      "  _log_warning('categorical_feature in Dataset is overridden.\\n'\n",
      "c:\\work\\KeibaAI\\.venv\\lib\\site-packages\\lightgbm\\engine.py:240: UserWarning: 'verbose_eval' argument is deprecated and will be removed in a future release of LightGBM. Pass 'log_evaluation()' callback via 'callbacks' argument instead.\n",
      "  _log_warning(\"'verbose_eval' argument is deprecated and will be removed in a future release of LightGBM. \"\n"
     ]
    },
    {
     "name": "stdout",
     "output_type": "stream",
     "text": [
      "[LightGBM] [Info] Number of positive: 31528, number of negative: 116705\n",
      "[LightGBM] [Warning] Auto-choosing col-wise multi-threading, the overhead of testing was 0.013625 seconds.\n",
      "You can set `force_col_wise=true` to remove the overhead.\n",
      "[LightGBM] [Info] Total Bins 19630\n",
      "[LightGBM] [Info] Number of data points in the train set: 148233, number of used features: 36\n",
      "[LightGBM] [Info] [binary:BoostFromScore]: pavg=0.212692 -> initscore=-1.308773\n",
      "[LightGBM] [Info] Start training from score -1.308773\n",
      "Training until validation scores don't improve for 100 rounds\n"
     ]
    },
    {
     "name": "stderr",
     "output_type": "stream",
     "text": [
      "c:\\work\\KeibaAI\\.venv\\lib\\site-packages\\lightgbm\\basic.py:1780: UserWarning: Overriding the parameters from Reference Dataset.\n",
      "  _log_warning('Overriding the parameters from Reference Dataset.')\n",
      "c:\\work\\KeibaAI\\.venv\\lib\\site-packages\\lightgbm\\basic.py:1513: UserWarning: categorical_column in param dict is overridden.\n",
      "  _log_warning(f'{cat_alias} in param dict is overridden.')\n"
     ]
    },
    {
     "name": "stdout",
     "output_type": "stream",
     "text": [
      "[100]\tvalid_0's binary_logloss: 0.431078\tvalid_1's binary_logloss: 0.465191\n",
      "[200]\tvalid_0's binary_logloss: 0.41659\tvalid_1's binary_logloss: 0.463897\n"
     ]
    },
    {
     "name": "stderr",
     "output_type": "stream",
     "text": [
      "feature_fraction_stage2, val_score: 0.463639:  33%|###3      | 1/3 [00:02<00:04,  2.06s/it]\u001b[32m[I 2022-01-15 11:30:47,830]\u001b[0m Trial 37 finished with value: 0.46389702713930286 and parameters: {'feature_fraction': 0.41600000000000004}. Best is trial 37 with value: 0.46389702713930286.\u001b[0m\n",
      "feature_fraction_stage2, val_score: 0.463639:  33%|###3      | 1/3 [00:02<00:04,  2.06s/it]"
     ]
    },
    {
     "name": "stdout",
     "output_type": "stream",
     "text": [
      "[300]\tvalid_0's binary_logloss: 0.406811\tvalid_1's binary_logloss: 0.464319\n",
      "Early stopping, best iteration is:\n",
      "[200]\tvalid_0's binary_logloss: 0.41659\tvalid_1's binary_logloss: 0.463897\n"
     ]
    },
    {
     "name": "stderr",
     "output_type": "stream",
     "text": [
      "c:\\work\\KeibaAI\\.venv\\lib\\site-packages\\lightgbm\\engine.py:181: UserWarning: 'early_stopping_rounds' argument is deprecated and will be removed in a future release of LightGBM. Pass 'early_stopping()' callback via 'callbacks' argument instead.\n",
      "  _log_warning(\"'early_stopping_rounds' argument is deprecated and will be removed in a future release of LightGBM. \"\n",
      "c:\\work\\KeibaAI\\.venv\\lib\\site-packages\\lightgbm\\basic.py:2068: UserWarning: categorical_feature in Dataset is overridden.\n",
      "New categorical_feature is ['father', 'fathers_father', 'fathers_mother', 'ground', 'jockey_id', 'mother', 'mothers_father', 'mothers_mother', 'place_id', 'race_type', 'sex', 'trainer_id', 'turn', 'weather']\n",
      "  _log_warning('categorical_feature in Dataset is overridden.\\n'\n",
      "c:\\work\\KeibaAI\\.venv\\lib\\site-packages\\lightgbm\\engine.py:240: UserWarning: 'verbose_eval' argument is deprecated and will be removed in a future release of LightGBM. Pass 'log_evaluation()' callback via 'callbacks' argument instead.\n",
      "  _log_warning(\"'verbose_eval' argument is deprecated and will be removed in a future release of LightGBM. \"\n"
     ]
    },
    {
     "name": "stdout",
     "output_type": "stream",
     "text": [
      "[LightGBM] [Info] Number of positive: 31528, number of negative: 116705\n",
      "[LightGBM] [Warning] Auto-choosing col-wise multi-threading, the overhead of testing was 0.011283 seconds.\n",
      "You can set `force_col_wise=true` to remove the overhead.\n",
      "[LightGBM] [Info] Total Bins 19630\n",
      "[LightGBM] [Info] Number of data points in the train set: 148233, number of used features: 36\n",
      "[LightGBM] [Info] [binary:BoostFromScore]: pavg=0.212692 -> initscore=-1.308773\n",
      "[LightGBM] [Info] Start training from score -1.308773\n",
      "Training until validation scores don't improve for 100 rounds\n"
     ]
    },
    {
     "name": "stderr",
     "output_type": "stream",
     "text": [
      "c:\\work\\KeibaAI\\.venv\\lib\\site-packages\\lightgbm\\basic.py:1780: UserWarning: Overriding the parameters from Reference Dataset.\n",
      "  _log_warning('Overriding the parameters from Reference Dataset.')\n",
      "c:\\work\\KeibaAI\\.venv\\lib\\site-packages\\lightgbm\\basic.py:1513: UserWarning: categorical_column in param dict is overridden.\n",
      "  _log_warning(f'{cat_alias} in param dict is overridden.')\n"
     ]
    },
    {
     "name": "stdout",
     "output_type": "stream",
     "text": [
      "[100]\tvalid_0's binary_logloss: 0.430737\tvalid_1's binary_logloss: 0.465101\n",
      "[200]\tvalid_0's binary_logloss: 0.415682\tvalid_1's binary_logloss: 0.464023\n"
     ]
    },
    {
     "name": "stderr",
     "output_type": "stream",
     "text": [
      "feature_fraction_stage2, val_score: 0.463639:  67%|######6   | 2/3 [00:04<00:02,  2.14s/it]\u001b[32m[I 2022-01-15 11:30:50,031]\u001b[0m Trial 38 finished with value: 0.46392218852288336 and parameters: {'feature_fraction': 0.48000000000000004}. Best is trial 37 with value: 0.46389702713930286.\u001b[0m\n",
      "feature_fraction_stage2, val_score: 0.463639:  67%|######6   | 2/3 [00:04<00:02,  2.14s/it]"
     ]
    },
    {
     "name": "stdout",
     "output_type": "stream",
     "text": [
      "[300]\tvalid_0's binary_logloss: 0.405347\tvalid_1's binary_logloss: 0.464399\n",
      "Early stopping, best iteration is:\n",
      "[212]\tvalid_0's binary_logloss: 0.41431\tvalid_1's binary_logloss: 0.463922\n"
     ]
    },
    {
     "name": "stderr",
     "output_type": "stream",
     "text": [
      "c:\\work\\KeibaAI\\.venv\\lib\\site-packages\\lightgbm\\engine.py:181: UserWarning: 'early_stopping_rounds' argument is deprecated and will be removed in a future release of LightGBM. Pass 'early_stopping()' callback via 'callbacks' argument instead.\n",
      "  _log_warning(\"'early_stopping_rounds' argument is deprecated and will be removed in a future release of LightGBM. \"\n",
      "c:\\work\\KeibaAI\\.venv\\lib\\site-packages\\lightgbm\\basic.py:2068: UserWarning: categorical_feature in Dataset is overridden.\n",
      "New categorical_feature is ['father', 'fathers_father', 'fathers_mother', 'ground', 'jockey_id', 'mother', 'mothers_father', 'mothers_mother', 'place_id', 'race_type', 'sex', 'trainer_id', 'turn', 'weather']\n",
      "  _log_warning('categorical_feature in Dataset is overridden.\\n'\n",
      "c:\\work\\KeibaAI\\.venv\\lib\\site-packages\\lightgbm\\engine.py:240: UserWarning: 'verbose_eval' argument is deprecated and will be removed in a future release of LightGBM. Pass 'log_evaluation()' callback via 'callbacks' argument instead.\n",
      "  _log_warning(\"'verbose_eval' argument is deprecated and will be removed in a future release of LightGBM. \"\n"
     ]
    },
    {
     "name": "stdout",
     "output_type": "stream",
     "text": [
      "[LightGBM] [Info] Number of positive: 31528, number of negative: 116705\n",
      "[LightGBM] [Warning] Auto-choosing col-wise multi-threading, the overhead of testing was 0.012553 seconds.\n",
      "You can set `force_col_wise=true` to remove the overhead.\n",
      "[LightGBM] [Info] Total Bins 19630\n",
      "[LightGBM] [Info] Number of data points in the train set: 148233, number of used features: 36\n",
      "[LightGBM] [Info] [binary:BoostFromScore]: pavg=0.212692 -> initscore=-1.308773\n",
      "[LightGBM] [Info] Start training from score -1.308773\n",
      "Training until validation scores don't improve for 100 rounds\n"
     ]
    },
    {
     "name": "stderr",
     "output_type": "stream",
     "text": [
      "c:\\work\\KeibaAI\\.venv\\lib\\site-packages\\lightgbm\\basic.py:1780: UserWarning: Overriding the parameters from Reference Dataset.\n",
      "  _log_warning('Overriding the parameters from Reference Dataset.')\n",
      "c:\\work\\KeibaAI\\.venv\\lib\\site-packages\\lightgbm\\basic.py:1513: UserWarning: categorical_column in param dict is overridden.\n",
      "  _log_warning(f'{cat_alias} in param dict is overridden.')\n"
     ]
    },
    {
     "name": "stdout",
     "output_type": "stream",
     "text": [
      "[100]\tvalid_0's binary_logloss: 0.43073\tvalid_1's binary_logloss: 0.465028\n",
      "[200]\tvalid_0's binary_logloss: 0.415938\tvalid_1's binary_logloss: 0.464145\n"
     ]
    },
    {
     "name": "stderr",
     "output_type": "stream",
     "text": [
      "feature_fraction_stage2, val_score: 0.463639: 100%|##########| 3/3 [00:06<00:00,  2.13s/it]\u001b[32m[I 2022-01-15 11:30:52,157]\u001b[0m Trial 39 finished with value: 0.4640847693153401 and parameters: {'feature_fraction': 0.44800000000000006}. Best is trial 37 with value: 0.46389702713930286.\u001b[0m\n",
      "feature_fraction_stage2, val_score: 0.463639: 100%|##########| 3/3 [00:06<00:00,  2.13s/it]\n"
     ]
    },
    {
     "name": "stdout",
     "output_type": "stream",
     "text": [
      "[300]\tvalid_0's binary_logloss: 0.40569\tvalid_1's binary_logloss: 0.464765\n",
      "Early stopping, best iteration is:\n",
      "[207]\tvalid_0's binary_logloss: 0.415057\tvalid_1's binary_logloss: 0.464085\n"
     ]
    },
    {
     "name": "stderr",
     "output_type": "stream",
     "text": [
      "regularization_factors, val_score: 0.463639:   0%|          | 0/20 [00:00<?, ?it/s]c:\\work\\KeibaAI\\.venv\\lib\\site-packages\\lightgbm\\engine.py:181: UserWarning: 'early_stopping_rounds' argument is deprecated and will be removed in a future release of LightGBM. Pass 'early_stopping()' callback via 'callbacks' argument instead.\n",
      "  _log_warning(\"'early_stopping_rounds' argument is deprecated and will be removed in a future release of LightGBM. \"\n",
      "c:\\work\\KeibaAI\\.venv\\lib\\site-packages\\lightgbm\\basic.py:2068: UserWarning: categorical_feature in Dataset is overridden.\n",
      "New categorical_feature is ['father', 'fathers_father', 'fathers_mother', 'ground', 'jockey_id', 'mother', 'mothers_father', 'mothers_mother', 'place_id', 'race_type', 'sex', 'trainer_id', 'turn', 'weather']\n",
      "  _log_warning('categorical_feature in Dataset is overridden.\\n'\n",
      "c:\\work\\KeibaAI\\.venv\\lib\\site-packages\\lightgbm\\engine.py:240: UserWarning: 'verbose_eval' argument is deprecated and will be removed in a future release of LightGBM. Pass 'log_evaluation()' callback via 'callbacks' argument instead.\n",
      "  _log_warning(\"'verbose_eval' argument is deprecated and will be removed in a future release of LightGBM. \"\n"
     ]
    },
    {
     "name": "stdout",
     "output_type": "stream",
     "text": [
      "[LightGBM] [Info] Number of positive: 31528, number of negative: 116705\n",
      "[LightGBM] [Warning] Auto-choosing row-wise multi-threading, the overhead of testing was 0.002462 seconds.\n",
      "You can set `force_row_wise=true` to remove the overhead.\n",
      "And if memory is not enough, you can set `force_col_wise=true`.\n",
      "[LightGBM] [Info] Total Bins 19630\n",
      "[LightGBM] [Info] Number of data points in the train set: 148233, number of used features: 36\n",
      "[LightGBM] [Info] [binary:BoostFromScore]: pavg=0.212692 -> initscore=-1.308773\n",
      "[LightGBM] [Info] Start training from score -1.308773\n",
      "Training until validation scores don't improve for 100 rounds\n"
     ]
    },
    {
     "name": "stderr",
     "output_type": "stream",
     "text": [
      "c:\\work\\KeibaAI\\.venv\\lib\\site-packages\\lightgbm\\basic.py:1780: UserWarning: Overriding the parameters from Reference Dataset.\n",
      "  _log_warning('Overriding the parameters from Reference Dataset.')\n",
      "c:\\work\\KeibaAI\\.venv\\lib\\site-packages\\lightgbm\\basic.py:1513: UserWarning: categorical_column in param dict is overridden.\n",
      "  _log_warning(f'{cat_alias} in param dict is overridden.')\n"
     ]
    },
    {
     "name": "stdout",
     "output_type": "stream",
     "text": [
      "[100]\tvalid_0's binary_logloss: 0.43124\tvalid_1's binary_logloss: 0.464642\n",
      "[200]\tvalid_0's binary_logloss: 0.417196\tvalid_1's binary_logloss: 0.463863\n"
     ]
    },
    {
     "name": "stderr",
     "output_type": "stream",
     "text": [
      "regularization_factors, val_score: 0.463624:   5%|5         | 1/20 [00:02<00:50,  2.68s/it]\u001b[32m[I 2022-01-15 11:30:54,841]\u001b[0m Trial 40 finished with value: 0.4636236906943613 and parameters: {'lambda_l1': 3.7789697754027436e-07, 'lambda_l2': 0.03223107703141321}. Best is trial 40 with value: 0.4636236906943613.\u001b[0m\n",
      "regularization_factors, val_score: 0.463624:   5%|5         | 1/20 [00:02<00:50,  2.68s/it]"
     ]
    },
    {
     "name": "stdout",
     "output_type": "stream",
     "text": [
      "[300]\tvalid_0's binary_logloss: 0.407439\tvalid_1's binary_logloss: 0.464067\n",
      "Early stopping, best iteration is:\n",
      "[215]\tvalid_0's binary_logloss: 0.415338\tvalid_1's binary_logloss: 0.463624\n"
     ]
    },
    {
     "name": "stderr",
     "output_type": "stream",
     "text": [
      "c:\\work\\KeibaAI\\.venv\\lib\\site-packages\\lightgbm\\engine.py:181: UserWarning: 'early_stopping_rounds' argument is deprecated and will be removed in a future release of LightGBM. Pass 'early_stopping()' callback via 'callbacks' argument instead.\n",
      "  _log_warning(\"'early_stopping_rounds' argument is deprecated and will be removed in a future release of LightGBM. \"\n",
      "c:\\work\\KeibaAI\\.venv\\lib\\site-packages\\lightgbm\\basic.py:2068: UserWarning: categorical_feature in Dataset is overridden.\n",
      "New categorical_feature is ['father', 'fathers_father', 'fathers_mother', 'ground', 'jockey_id', 'mother', 'mothers_father', 'mothers_mother', 'place_id', 'race_type', 'sex', 'trainer_id', 'turn', 'weather']\n",
      "  _log_warning('categorical_feature in Dataset is overridden.\\n'\n",
      "c:\\work\\KeibaAI\\.venv\\lib\\site-packages\\lightgbm\\engine.py:240: UserWarning: 'verbose_eval' argument is deprecated and will be removed in a future release of LightGBM. Pass 'log_evaluation()' callback via 'callbacks' argument instead.\n",
      "  _log_warning(\"'verbose_eval' argument is deprecated and will be removed in a future release of LightGBM. \"\n"
     ]
    },
    {
     "name": "stdout",
     "output_type": "stream",
     "text": [
      "[LightGBM] [Info] Number of positive: 31528, number of negative: 116705\n",
      "[LightGBM] [Warning] Auto-choosing col-wise multi-threading, the overhead of testing was 0.011444 seconds.\n",
      "You can set `force_col_wise=true` to remove the overhead.\n",
      "[LightGBM] [Info] Total Bins 19630\n",
      "[LightGBM] [Info] Number of data points in the train set: 148233, number of used features: 36\n",
      "[LightGBM] [Info] [binary:BoostFromScore]: pavg=0.212692 -> initscore=-1.308773\n",
      "[LightGBM] [Info] Start training from score -1.308773\n",
      "Training until validation scores don't improve for 100 rounds\n"
     ]
    },
    {
     "name": "stderr",
     "output_type": "stream",
     "text": [
      "c:\\work\\KeibaAI\\.venv\\lib\\site-packages\\lightgbm\\basic.py:1780: UserWarning: Overriding the parameters from Reference Dataset.\n",
      "  _log_warning('Overriding the parameters from Reference Dataset.')\n",
      "c:\\work\\KeibaAI\\.venv\\lib\\site-packages\\lightgbm\\basic.py:1513: UserWarning: categorical_column in param dict is overridden.\n",
      "  _log_warning(f'{cat_alias} in param dict is overridden.')\n"
     ]
    },
    {
     "name": "stdout",
     "output_type": "stream",
     "text": [
      "[100]\tvalid_0's binary_logloss: 0.431302\tvalid_1's binary_logloss: 0.46471\n",
      "[200]\tvalid_0's binary_logloss: 0.4172\tvalid_1's binary_logloss: 0.463754\n"
     ]
    },
    {
     "name": "stderr",
     "output_type": "stream",
     "text": [
      "regularization_factors, val_score: 0.463624:  10%|#         | 2/20 [00:05<00:45,  2.52s/it]\u001b[32m[I 2022-01-15 11:30:57,251]\u001b[0m Trial 41 finished with value: 0.4636392249874448 and parameters: {'lambda_l1': 8.412792957467493e-07, 'lambda_l2': 5.575881355865303e-06}. Best is trial 40 with value: 0.4636236906943613.\u001b[0m\n",
      "regularization_factors, val_score: 0.463624:  10%|#         | 2/20 [00:05<00:45,  2.52s/it]"
     ]
    },
    {
     "name": "stdout",
     "output_type": "stream",
     "text": [
      "[300]\tvalid_0's binary_logloss: 0.407623\tvalid_1's binary_logloss: 0.464252\n",
      "Early stopping, best iteration is:\n",
      "[214]\tvalid_0's binary_logloss: 0.415418\tvalid_1's binary_logloss: 0.463639\n"
     ]
    },
    {
     "name": "stderr",
     "output_type": "stream",
     "text": [
      "c:\\work\\KeibaAI\\.venv\\lib\\site-packages\\lightgbm\\engine.py:181: UserWarning: 'early_stopping_rounds' argument is deprecated and will be removed in a future release of LightGBM. Pass 'early_stopping()' callback via 'callbacks' argument instead.\n",
      "  _log_warning(\"'early_stopping_rounds' argument is deprecated and will be removed in a future release of LightGBM. \"\n",
      "c:\\work\\KeibaAI\\.venv\\lib\\site-packages\\lightgbm\\basic.py:2068: UserWarning: categorical_feature in Dataset is overridden.\n",
      "New categorical_feature is ['father', 'fathers_father', 'fathers_mother', 'ground', 'jockey_id', 'mother', 'mothers_father', 'mothers_mother', 'place_id', 'race_type', 'sex', 'trainer_id', 'turn', 'weather']\n",
      "  _log_warning('categorical_feature in Dataset is overridden.\\n'\n",
      "c:\\work\\KeibaAI\\.venv\\lib\\site-packages\\lightgbm\\engine.py:240: UserWarning: 'verbose_eval' argument is deprecated and will be removed in a future release of LightGBM. Pass 'log_evaluation()' callback via 'callbacks' argument instead.\n",
      "  _log_warning(\"'verbose_eval' argument is deprecated and will be removed in a future release of LightGBM. \"\n"
     ]
    },
    {
     "name": "stdout",
     "output_type": "stream",
     "text": [
      "[LightGBM] [Info] Number of positive: 31528, number of negative: 116705\n",
      "[LightGBM] [Warning] Auto-choosing col-wise multi-threading, the overhead of testing was 0.013365 seconds.\n",
      "You can set `force_col_wise=true` to remove the overhead.\n",
      "[LightGBM] [Info] Total Bins 19630\n",
      "[LightGBM] [Info] Number of data points in the train set: 148233, number of used features: 36\n",
      "[LightGBM] [Info] [binary:BoostFromScore]: pavg=0.212692 -> initscore=-1.308773\n"
     ]
    },
    {
     "name": "stderr",
     "output_type": "stream",
     "text": [
      "c:\\work\\KeibaAI\\.venv\\lib\\site-packages\\lightgbm\\basic.py:1780: UserWarning: Overriding the parameters from Reference Dataset.\n",
      "  _log_warning('Overriding the parameters from Reference Dataset.')\n",
      "c:\\work\\KeibaAI\\.venv\\lib\\site-packages\\lightgbm\\basic.py:1513: UserWarning: categorical_column in param dict is overridden.\n",
      "  _log_warning(f'{cat_alias} in param dict is overridden.')\n"
     ]
    },
    {
     "name": "stdout",
     "output_type": "stream",
     "text": [
      "[LightGBM] [Info] Start training from score -1.308773\n",
      "Training until validation scores don't improve for 100 rounds\n",
      "[100]\tvalid_0's binary_logloss: 0.431282\tvalid_1's binary_logloss: 0.464855\n",
      "[200]\tvalid_0's binary_logloss: 0.417394\tvalid_1's binary_logloss: 0.463762\n"
     ]
    },
    {
     "name": "stderr",
     "output_type": "stream",
     "text": [
      "regularization_factors, val_score: 0.463624:  15%|#5        | 3/20 [00:07<00:41,  2.46s/it]\u001b[32m[I 2022-01-15 11:30:59,644]\u001b[0m Trial 42 finished with value: 0.4637028803424232 and parameters: {'lambda_l1': 0.2705381867367147, 'lambda_l2': 0.057478199867136516}. Best is trial 40 with value: 0.4636236906943613.\u001b[0m\n",
      "regularization_factors, val_score: 0.463624:  15%|#5        | 3/20 [00:07<00:41,  2.46s/it]"
     ]
    },
    {
     "name": "stdout",
     "output_type": "stream",
     "text": [
      "Early stopping, best iteration is:\n",
      "[198]\tvalid_0's binary_logloss: 0.417559\tvalid_1's binary_logloss: 0.463703\n"
     ]
    },
    {
     "name": "stderr",
     "output_type": "stream",
     "text": [
      "c:\\work\\KeibaAI\\.venv\\lib\\site-packages\\lightgbm\\engine.py:181: UserWarning: 'early_stopping_rounds' argument is deprecated and will be removed in a future release of LightGBM. Pass 'early_stopping()' callback via 'callbacks' argument instead.\n",
      "  _log_warning(\"'early_stopping_rounds' argument is deprecated and will be removed in a future release of LightGBM. \"\n",
      "c:\\work\\KeibaAI\\.venv\\lib\\site-packages\\lightgbm\\basic.py:2068: UserWarning: categorical_feature in Dataset is overridden.\n",
      "New categorical_feature is ['father', 'fathers_father', 'fathers_mother', 'ground', 'jockey_id', 'mother', 'mothers_father', 'mothers_mother', 'place_id', 'race_type', 'sex', 'trainer_id', 'turn', 'weather']\n",
      "  _log_warning('categorical_feature in Dataset is overridden.\\n'\n",
      "c:\\work\\KeibaAI\\.venv\\lib\\site-packages\\lightgbm\\engine.py:240: UserWarning: 'verbose_eval' argument is deprecated and will be removed in a future release of LightGBM. Pass 'log_evaluation()' callback via 'callbacks' argument instead.\n",
      "  _log_warning(\"'verbose_eval' argument is deprecated and will be removed in a future release of LightGBM. \"\n"
     ]
    },
    {
     "name": "stdout",
     "output_type": "stream",
     "text": [
      "[LightGBM] [Info] Number of positive: 31528, number of negative: 116705\n",
      "[LightGBM] [Warning] Auto-choosing col-wise multi-threading, the overhead of testing was 0.014409 seconds.\n",
      "You can set `force_col_wise=true` to remove the overhead.\n",
      "[LightGBM] [Info] Total Bins 19630\n",
      "[LightGBM] [Info] Number of data points in the train set: 148233, number of used features: 36\n",
      "[LightGBM] [Info] [binary:BoostFromScore]: pavg=0.212692 -> initscore=-1.308773\n",
      "[LightGBM] [Info] Start training from score -1.308773\n",
      "Training until validation scores don't improve for 100 rounds\n"
     ]
    },
    {
     "name": "stderr",
     "output_type": "stream",
     "text": [
      "c:\\work\\KeibaAI\\.venv\\lib\\site-packages\\lightgbm\\basic.py:1780: UserWarning: Overriding the parameters from Reference Dataset.\n",
      "  _log_warning('Overriding the parameters from Reference Dataset.')\n",
      "c:\\work\\KeibaAI\\.venv\\lib\\site-packages\\lightgbm\\basic.py:1513: UserWarning: categorical_column in param dict is overridden.\n",
      "  _log_warning(f'{cat_alias} in param dict is overridden.')\n"
     ]
    },
    {
     "name": "stdout",
     "output_type": "stream",
     "text": [
      "[100]\tvalid_0's binary_logloss: 0.431359\tvalid_1's binary_logloss: 0.465104\n",
      "[200]\tvalid_0's binary_logloss: 0.416979\tvalid_1's binary_logloss: 0.464042\n",
      "[300]\tvalid_0's binary_logloss: 0.407313\tvalid_1's binary_logloss: 0.464207\n"
     ]
    },
    {
     "name": "stderr",
     "output_type": "stream",
     "text": [
      "regularization_factors, val_score: 0.463624:  20%|##        | 4/20 [00:10<00:40,  2.54s/it]\u001b[32m[I 2022-01-15 11:31:02,304]\u001b[0m Trial 43 finished with value: 0.46387034924110376 and parameters: {'lambda_l1': 9.553132436153771e-07, 'lambda_l2': 0.1821835665845434}. Best is trial 40 with value: 0.4636236906943613.\u001b[0m\n",
      "regularization_factors, val_score: 0.463624:  20%|##        | 4/20 [00:10<00:40,  2.54s/it]"
     ]
    },
    {
     "name": "stdout",
     "output_type": "stream",
     "text": [
      "Early stopping, best iteration is:\n",
      "[263]\tvalid_0's binary_logloss: 0.410386\tvalid_1's binary_logloss: 0.46387\n"
     ]
    },
    {
     "name": "stderr",
     "output_type": "stream",
     "text": [
      "c:\\work\\KeibaAI\\.venv\\lib\\site-packages\\lightgbm\\engine.py:181: UserWarning: 'early_stopping_rounds' argument is deprecated and will be removed in a future release of LightGBM. Pass 'early_stopping()' callback via 'callbacks' argument instead.\n",
      "  _log_warning(\"'early_stopping_rounds' argument is deprecated and will be removed in a future release of LightGBM. \"\n",
      "c:\\work\\KeibaAI\\.venv\\lib\\site-packages\\lightgbm\\basic.py:2068: UserWarning: categorical_feature in Dataset is overridden.\n",
      "New categorical_feature is ['father', 'fathers_father', 'fathers_mother', 'ground', 'jockey_id', 'mother', 'mothers_father', 'mothers_mother', 'place_id', 'race_type', 'sex', 'trainer_id', 'turn', 'weather']\n",
      "  _log_warning('categorical_feature in Dataset is overridden.\\n'\n",
      "c:\\work\\KeibaAI\\.venv\\lib\\site-packages\\lightgbm\\engine.py:240: UserWarning: 'verbose_eval' argument is deprecated and will be removed in a future release of LightGBM. Pass 'log_evaluation()' callback via 'callbacks' argument instead.\n",
      "  _log_warning(\"'verbose_eval' argument is deprecated and will be removed in a future release of LightGBM. \"\n"
     ]
    },
    {
     "name": "stdout",
     "output_type": "stream",
     "text": [
      "[LightGBM] [Info] Number of positive: 31528, number of negative: 116705\n",
      "[LightGBM] [Warning] Auto-choosing col-wise multi-threading, the overhead of testing was 0.014343 seconds.\n",
      "You can set `force_col_wise=true` to remove the overhead.\n",
      "[LightGBM] [Info] Total Bins 19630\n",
      "[LightGBM] [Info] Number of data points in the train set: 148233, number of used features: 36\n",
      "[LightGBM] [Info] [binary:BoostFromScore]: pavg=0.212692 -> initscore=-1.308773\n",
      "[LightGBM] [Info] Start training from score -1.308773\n",
      "Training until validation scores don't improve for 100 rounds\n"
     ]
    },
    {
     "name": "stderr",
     "output_type": "stream",
     "text": [
      "c:\\work\\KeibaAI\\.venv\\lib\\site-packages\\lightgbm\\basic.py:1780: UserWarning: Overriding the parameters from Reference Dataset.\n",
      "  _log_warning('Overriding the parameters from Reference Dataset.')\n",
      "c:\\work\\KeibaAI\\.venv\\lib\\site-packages\\lightgbm\\basic.py:1513: UserWarning: categorical_column in param dict is overridden.\n",
      "  _log_warning(f'{cat_alias} in param dict is overridden.')\n"
     ]
    },
    {
     "name": "stdout",
     "output_type": "stream",
     "text": [
      "[100]\tvalid_0's binary_logloss: 0.431353\tvalid_1's binary_logloss: 0.46451\n",
      "[200]\tvalid_0's binary_logloss: 0.417348\tvalid_1's binary_logloss: 0.463329\n",
      "[300]\tvalid_0's binary_logloss: 0.407775\tvalid_1's binary_logloss: 0.463438\n"
     ]
    },
    {
     "name": "stderr",
     "output_type": "stream",
     "text": [
      "regularization_factors, val_score: 0.463022:  25%|##5       | 5/20 [00:12<00:38,  2.54s/it]\u001b[32m[I 2022-01-15 11:31:04,850]\u001b[0m Trial 44 finished with value: 0.4630218725391228 and parameters: {'lambda_l1': 4.472707146255811, 'lambda_l2': 3.290603971345091e-05}. Best is trial 44 with value: 0.4630218725391228.\u001b[0m\n",
      "regularization_factors, val_score: 0.463022:  25%|##5       | 5/20 [00:12<00:38,  2.54s/it]"
     ]
    },
    {
     "name": "stdout",
     "output_type": "stream",
     "text": [
      "Early stopping, best iteration is:\n",
      "[255]\tvalid_0's binary_logloss: 0.4117\tvalid_1's binary_logloss: 0.463022\n"
     ]
    },
    {
     "name": "stderr",
     "output_type": "stream",
     "text": [
      "c:\\work\\KeibaAI\\.venv\\lib\\site-packages\\lightgbm\\engine.py:181: UserWarning: 'early_stopping_rounds' argument is deprecated and will be removed in a future release of LightGBM. Pass 'early_stopping()' callback via 'callbacks' argument instead.\n",
      "  _log_warning(\"'early_stopping_rounds' argument is deprecated and will be removed in a future release of LightGBM. \"\n",
      "c:\\work\\KeibaAI\\.venv\\lib\\site-packages\\lightgbm\\basic.py:2068: UserWarning: categorical_feature in Dataset is overridden.\n",
      "New categorical_feature is ['father', 'fathers_father', 'fathers_mother', 'ground', 'jockey_id', 'mother', 'mothers_father', 'mothers_mother', 'place_id', 'race_type', 'sex', 'trainer_id', 'turn', 'weather']\n",
      "  _log_warning('categorical_feature in Dataset is overridden.\\n'\n",
      "c:\\work\\KeibaAI\\.venv\\lib\\site-packages\\lightgbm\\engine.py:240: UserWarning: 'verbose_eval' argument is deprecated and will be removed in a future release of LightGBM. Pass 'log_evaluation()' callback via 'callbacks' argument instead.\n",
      "  _log_warning(\"'verbose_eval' argument is deprecated and will be removed in a future release of LightGBM. \"\n"
     ]
    },
    {
     "name": "stdout",
     "output_type": "stream",
     "text": [
      "[LightGBM] [Info] Number of positive: 31528, number of negative: 116705\n",
      "[LightGBM] [Warning] Auto-choosing col-wise multi-threading, the overhead of testing was 0.014609 seconds.\n",
      "You can set `force_col_wise=true` to remove the overhead.\n",
      "[LightGBM] [Info] Total Bins 19630\n",
      "[LightGBM] [Info] Number of data points in the train set: 148233, number of used features: 36\n",
      "[LightGBM] [Info] [binary:BoostFromScore]: pavg=0.212692 -> initscore=-1.308773\n",
      "[LightGBM] [Info] Start training from score -1.308773\n",
      "Training until validation scores don't improve for 100 rounds\n"
     ]
    },
    {
     "name": "stderr",
     "output_type": "stream",
     "text": [
      "c:\\work\\KeibaAI\\.venv\\lib\\site-packages\\lightgbm\\basic.py:1780: UserWarning: Overriding the parameters from Reference Dataset.\n",
      "  _log_warning('Overriding the parameters from Reference Dataset.')\n",
      "c:\\work\\KeibaAI\\.venv\\lib\\site-packages\\lightgbm\\basic.py:1513: UserWarning: categorical_column in param dict is overridden.\n",
      "  _log_warning(f'{cat_alias} in param dict is overridden.')\n"
     ]
    },
    {
     "name": "stdout",
     "output_type": "stream",
     "text": [
      "[100]\tvalid_0's binary_logloss: 0.431263\tvalid_1's binary_logloss: 0.464788\n",
      "[200]\tvalid_0's binary_logloss: 0.416935\tvalid_1's binary_logloss: 0.464425\n"
     ]
    },
    {
     "name": "stderr",
     "output_type": "stream",
     "text": [
      "regularization_factors, val_score: 0.463022:  30%|###       | 6/20 [00:15<00:34,  2.47s/it]\u001b[32m[I 2022-01-15 11:31:07,175]\u001b[0m Trial 45 finished with value: 0.46403816534401465 and parameters: {'lambda_l1': 2.9981522308723017e-06, 'lambda_l2': 0.4137476116883354}. Best is trial 44 with value: 0.4630218725391228.\u001b[0m\n",
      "regularization_factors, val_score: 0.463022:  30%|###       | 6/20 [00:15<00:34,  2.47s/it]"
     ]
    },
    {
     "name": "stdout",
     "output_type": "stream",
     "text": [
      "[300]\tvalid_0's binary_logloss: 0.406898\tvalid_1's binary_logloss: 0.464563\n",
      "Early stopping, best iteration is:\n",
      "[219]\tvalid_0's binary_logloss: 0.414468\tvalid_1's binary_logloss: 0.464038\n"
     ]
    },
    {
     "name": "stderr",
     "output_type": "stream",
     "text": [
      "c:\\work\\KeibaAI\\.venv\\lib\\site-packages\\lightgbm\\engine.py:181: UserWarning: 'early_stopping_rounds' argument is deprecated and will be removed in a future release of LightGBM. Pass 'early_stopping()' callback via 'callbacks' argument instead.\n",
      "  _log_warning(\"'early_stopping_rounds' argument is deprecated and will be removed in a future release of LightGBM. \"\n",
      "c:\\work\\KeibaAI\\.venv\\lib\\site-packages\\lightgbm\\basic.py:2068: UserWarning: categorical_feature in Dataset is overridden.\n",
      "New categorical_feature is ['father', 'fathers_father', 'fathers_mother', 'ground', 'jockey_id', 'mother', 'mothers_father', 'mothers_mother', 'place_id', 'race_type', 'sex', 'trainer_id', 'turn', 'weather']\n",
      "  _log_warning('categorical_feature in Dataset is overridden.\\n'\n",
      "c:\\work\\KeibaAI\\.venv\\lib\\site-packages\\lightgbm\\engine.py:240: UserWarning: 'verbose_eval' argument is deprecated and will be removed in a future release of LightGBM. Pass 'log_evaluation()' callback via 'callbacks' argument instead.\n",
      "  _log_warning(\"'verbose_eval' argument is deprecated and will be removed in a future release of LightGBM. \"\n"
     ]
    },
    {
     "name": "stdout",
     "output_type": "stream",
     "text": [
      "[LightGBM] [Info] Number of positive: 31528, number of negative: 116705\n",
      "[LightGBM] [Warning] Auto-choosing col-wise multi-threading, the overhead of testing was 0.011677 seconds.\n",
      "You can set `force_col_wise=true` to remove the overhead.\n",
      "[LightGBM] [Info] Total Bins 19630\n",
      "[LightGBM] [Info] Number of data points in the train set: 148233, number of used features: 36\n",
      "[LightGBM] [Info] [binary:BoostFromScore]: pavg=0.212692 -> initscore=-1.308773\n",
      "[LightGBM] [Info] Start training from score -1.308773\n",
      "Training until validation scores don't improve for 100 rounds\n"
     ]
    },
    {
     "name": "stderr",
     "output_type": "stream",
     "text": [
      "c:\\work\\KeibaAI\\.venv\\lib\\site-packages\\lightgbm\\basic.py:1780: UserWarning: Overriding the parameters from Reference Dataset.\n",
      "  _log_warning('Overriding the parameters from Reference Dataset.')\n",
      "c:\\work\\KeibaAI\\.venv\\lib\\site-packages\\lightgbm\\basic.py:1513: UserWarning: categorical_column in param dict is overridden.\n",
      "  _log_warning(f'{cat_alias} in param dict is overridden.')\n"
     ]
    },
    {
     "name": "stdout",
     "output_type": "stream",
     "text": [
      "[100]\tvalid_0's binary_logloss: 0.431737\tvalid_1's binary_logloss: 0.464349\n",
      "[200]\tvalid_0's binary_logloss: 0.418113\tvalid_1's binary_logloss: 0.463304\n"
     ]
    },
    {
     "name": "stderr",
     "output_type": "stream",
     "text": [
      "regularization_factors, val_score: 0.463022:  35%|###5      | 7/20 [00:17<00:31,  2.42s/it]\u001b[32m[I 2022-01-15 11:31:09,482]\u001b[0m Trial 46 finished with value: 0.46322493654928515 and parameters: {'lambda_l1': 9.326723257519033, 'lambda_l2': 0.0005194689617599716}. Best is trial 44 with value: 0.4630218725391228.\u001b[0m\n",
      "regularization_factors, val_score: 0.463022:  35%|###5      | 7/20 [00:17<00:31,  2.42s/it]"
     ]
    },
    {
     "name": "stdout",
     "output_type": "stream",
     "text": [
      "[300]\tvalid_0's binary_logloss: 0.408653\tvalid_1's binary_logloss: 0.463529\n",
      "Early stopping, best iteration is:\n",
      "[218]\tvalid_0's binary_logloss: 0.416064\tvalid_1's binary_logloss: 0.463225\n"
     ]
    },
    {
     "name": "stderr",
     "output_type": "stream",
     "text": [
      "c:\\work\\KeibaAI\\.venv\\lib\\site-packages\\lightgbm\\engine.py:181: UserWarning: 'early_stopping_rounds' argument is deprecated and will be removed in a future release of LightGBM. Pass 'early_stopping()' callback via 'callbacks' argument instead.\n",
      "  _log_warning(\"'early_stopping_rounds' argument is deprecated and will be removed in a future release of LightGBM. \"\n",
      "c:\\work\\KeibaAI\\.venv\\lib\\site-packages\\lightgbm\\basic.py:2068: UserWarning: categorical_feature in Dataset is overridden.\n",
      "New categorical_feature is ['father', 'fathers_father', 'fathers_mother', 'ground', 'jockey_id', 'mother', 'mothers_father', 'mothers_mother', 'place_id', 'race_type', 'sex', 'trainer_id', 'turn', 'weather']\n",
      "  _log_warning('categorical_feature in Dataset is overridden.\\n'\n",
      "c:\\work\\KeibaAI\\.venv\\lib\\site-packages\\lightgbm\\engine.py:240: UserWarning: 'verbose_eval' argument is deprecated and will be removed in a future release of LightGBM. Pass 'log_evaluation()' callback via 'callbacks' argument instead.\n",
      "  _log_warning(\"'verbose_eval' argument is deprecated and will be removed in a future release of LightGBM. \"\n"
     ]
    },
    {
     "name": "stdout",
     "output_type": "stream",
     "text": [
      "[LightGBM] [Info] Number of positive: 31528, number of negative: 116705\n",
      "[LightGBM] [Warning] Auto-choosing col-wise multi-threading, the overhead of testing was 0.013449 seconds.\n",
      "You can set `force_col_wise=true` to remove the overhead.\n",
      "[LightGBM] [Info] Total Bins 19630\n",
      "[LightGBM] [Info] Number of data points in the train set: 148233, number of used features: 36\n",
      "[LightGBM] [Info] [binary:BoostFromScore]: pavg=0.212692 -> initscore=-1.308773\n",
      "[LightGBM] [Info] Start training from score -1.308773\n",
      "Training until validation scores don't improve for 100 rounds\n"
     ]
    },
    {
     "name": "stderr",
     "output_type": "stream",
     "text": [
      "c:\\work\\KeibaAI\\.venv\\lib\\site-packages\\lightgbm\\basic.py:1780: UserWarning: Overriding the parameters from Reference Dataset.\n",
      "  _log_warning('Overriding the parameters from Reference Dataset.')\n",
      "c:\\work\\KeibaAI\\.venv\\lib\\site-packages\\lightgbm\\basic.py:1513: UserWarning: categorical_column in param dict is overridden.\n",
      "  _log_warning(f'{cat_alias} in param dict is overridden.')\n"
     ]
    },
    {
     "name": "stdout",
     "output_type": "stream",
     "text": [
      "[100]\tvalid_0's binary_logloss: 0.431029\tvalid_1's binary_logloss: 0.464874\n",
      "[200]\tvalid_0's binary_logloss: 0.416806\tvalid_1's binary_logloss: 0.463945\n"
     ]
    },
    {
     "name": "stderr",
     "output_type": "stream",
     "text": [
      "regularization_factors, val_score: 0.463022:  40%|####      | 8/20 [00:19<00:27,  2.28s/it]\u001b[32m[I 2022-01-15 11:31:11,482]\u001b[0m Trial 47 finished with value: 0.4637207675434607 and parameters: {'lambda_l1': 0.22223187601277036, 'lambda_l2': 0.00023818326207371063}. Best is trial 44 with value: 0.4630218725391228.\u001b[0m\n",
      "regularization_factors, val_score: 0.463022:  40%|####      | 8/20 [00:19<00:27,  2.28s/it]"
     ]
    },
    {
     "name": "stdout",
     "output_type": "stream",
     "text": [
      "Early stopping, best iteration is:\n",
      "[179]\tvalid_0's binary_logloss: 0.419281\tvalid_1's binary_logloss: 0.463721\n"
     ]
    },
    {
     "name": "stderr",
     "output_type": "stream",
     "text": [
      "c:\\work\\KeibaAI\\.venv\\lib\\site-packages\\lightgbm\\engine.py:181: UserWarning: 'early_stopping_rounds' argument is deprecated and will be removed in a future release of LightGBM. Pass 'early_stopping()' callback via 'callbacks' argument instead.\n",
      "  _log_warning(\"'early_stopping_rounds' argument is deprecated and will be removed in a future release of LightGBM. \"\n",
      "c:\\work\\KeibaAI\\.venv\\lib\\site-packages\\lightgbm\\basic.py:2068: UserWarning: categorical_feature in Dataset is overridden.\n",
      "New categorical_feature is ['father', 'fathers_father', 'fathers_mother', 'ground', 'jockey_id', 'mother', 'mothers_father', 'mothers_mother', 'place_id', 'race_type', 'sex', 'trainer_id', 'turn', 'weather']\n",
      "  _log_warning('categorical_feature in Dataset is overridden.\\n'\n",
      "c:\\work\\KeibaAI\\.venv\\lib\\site-packages\\lightgbm\\engine.py:240: UserWarning: 'verbose_eval' argument is deprecated and will be removed in a future release of LightGBM. Pass 'log_evaluation()' callback via 'callbacks' argument instead.\n",
      "  _log_warning(\"'verbose_eval' argument is deprecated and will be removed in a future release of LightGBM. \"\n"
     ]
    },
    {
     "name": "stdout",
     "output_type": "stream",
     "text": [
      "[LightGBM] [Info] Number of positive: 31528, number of negative: 116705\n",
      "[LightGBM] [Warning] Auto-choosing col-wise multi-threading, the overhead of testing was 0.010865 seconds.\n",
      "You can set `force_col_wise=true` to remove the overhead.\n",
      "[LightGBM] [Info] Total Bins 19630\n",
      "[LightGBM] [Info] Number of data points in the train set: 148233, number of used features: 36\n",
      "[LightGBM] [Info] [binary:BoostFromScore]: pavg=0.212692 -> initscore=-1.308773\n"
     ]
    },
    {
     "name": "stderr",
     "output_type": "stream",
     "text": [
      "c:\\work\\KeibaAI\\.venv\\lib\\site-packages\\lightgbm\\basic.py:1780: UserWarning: Overriding the parameters from Reference Dataset.\n",
      "  _log_warning('Overriding the parameters from Reference Dataset.')\n",
      "c:\\work\\KeibaAI\\.venv\\lib\\site-packages\\lightgbm\\basic.py:1513: UserWarning: categorical_column in param dict is overridden.\n",
      "  _log_warning(f'{cat_alias} in param dict is overridden.')\n"
     ]
    },
    {
     "name": "stdout",
     "output_type": "stream",
     "text": [
      "[LightGBM] [Info] Start training from score -1.308773\n",
      "Training until validation scores don't improve for 100 rounds\n",
      "[100]\tvalid_0's binary_logloss: 0.431269\tvalid_1's binary_logloss: 0.464906\n",
      "[200]\tvalid_0's binary_logloss: 0.417127\tvalid_1's binary_logloss: 0.463928\n"
     ]
    },
    {
     "name": "stderr",
     "output_type": "stream",
     "text": [
      "regularization_factors, val_score: 0.463022:  45%|####5     | 9/20 [00:21<00:25,  2.35s/it]\u001b[32m[I 2022-01-15 11:31:13,975]\u001b[0m Trial 48 finished with value: 0.4636286548288256 and parameters: {'lambda_l1': 1.1892920850649487e-08, 'lambda_l2': 2.6244648646262934}. Best is trial 44 with value: 0.4630218725391228.\u001b[0m\n",
      "regularization_factors, val_score: 0.463022:  45%|####5     | 9/20 [00:21<00:25,  2.35s/it]"
     ]
    },
    {
     "name": "stdout",
     "output_type": "stream",
     "text": [
      "[300]\tvalid_0's binary_logloss: 0.407637\tvalid_1's binary_logloss: 0.463897\n",
      "Early stopping, best iteration is:\n",
      "[214]\tvalid_0's binary_logloss: 0.415601\tvalid_1's binary_logloss: 0.463629\n"
     ]
    },
    {
     "name": "stderr",
     "output_type": "stream",
     "text": [
      "c:\\work\\KeibaAI\\.venv\\lib\\site-packages\\lightgbm\\engine.py:181: UserWarning: 'early_stopping_rounds' argument is deprecated and will be removed in a future release of LightGBM. Pass 'early_stopping()' callback via 'callbacks' argument instead.\n",
      "  _log_warning(\"'early_stopping_rounds' argument is deprecated and will be removed in a future release of LightGBM. \"\n",
      "c:\\work\\KeibaAI\\.venv\\lib\\site-packages\\lightgbm\\basic.py:2068: UserWarning: categorical_feature in Dataset is overridden.\n",
      "New categorical_feature is ['father', 'fathers_father', 'fathers_mother', 'ground', 'jockey_id', 'mother', 'mothers_father', 'mothers_mother', 'place_id', 'race_type', 'sex', 'trainer_id', 'turn', 'weather']\n",
      "  _log_warning('categorical_feature in Dataset is overridden.\\n'\n",
      "c:\\work\\KeibaAI\\.venv\\lib\\site-packages\\lightgbm\\engine.py:240: UserWarning: 'verbose_eval' argument is deprecated and will be removed in a future release of LightGBM. Pass 'log_evaluation()' callback via 'callbacks' argument instead.\n",
      "  _log_warning(\"'verbose_eval' argument is deprecated and will be removed in a future release of LightGBM. \"\n"
     ]
    },
    {
     "name": "stdout",
     "output_type": "stream",
     "text": [
      "[LightGBM] [Info] Number of positive: 31528, number of negative: 116705\n",
      "[LightGBM] [Warning] Auto-choosing col-wise multi-threading, the overhead of testing was 0.012426 seconds.\n",
      "You can set `force_col_wise=true` to remove the overhead.\n",
      "[LightGBM] [Info] Total Bins 19630\n",
      "[LightGBM] [Info] Number of data points in the train set: 148233, number of used features: 36\n",
      "[LightGBM] [Info] [binary:BoostFromScore]: pavg=0.212692 -> initscore=-1.308773\n",
      "[LightGBM] [Info] Start training from score -1.308773\n",
      "Training until validation scores don't improve for 100 rounds\n"
     ]
    },
    {
     "name": "stderr",
     "output_type": "stream",
     "text": [
      "c:\\work\\KeibaAI\\.venv\\lib\\site-packages\\lightgbm\\basic.py:1780: UserWarning: Overriding the parameters from Reference Dataset.\n",
      "  _log_warning('Overriding the parameters from Reference Dataset.')\n",
      "c:\\work\\KeibaAI\\.venv\\lib\\site-packages\\lightgbm\\basic.py:1513: UserWarning: categorical_column in param dict is overridden.\n",
      "  _log_warning(f'{cat_alias} in param dict is overridden.')\n"
     ]
    },
    {
     "name": "stdout",
     "output_type": "stream",
     "text": [
      "[100]\tvalid_0's binary_logloss: 0.431047\tvalid_1's binary_logloss: 0.464692\n",
      "[200]\tvalid_0's binary_logloss: 0.416816\tvalid_1's binary_logloss: 0.4635\n"
     ]
    },
    {
     "name": "stderr",
     "output_type": "stream",
     "text": [
      "regularization_factors, val_score: 0.463022:  50%|#####     | 10/20 [00:24<00:23,  2.35s/it]\u001b[32m[I 2022-01-15 11:31:16,339]\u001b[0m Trial 49 finished with value: 0.4633339402568399 and parameters: {'lambda_l1': 1.1829239315597446, 'lambda_l2': 2.3106822939653932e-07}. Best is trial 44 with value: 0.4630218725391228.\u001b[0m\n",
      "regularization_factors, val_score: 0.463022:  50%|#####     | 10/20 [00:24<00:23,  2.35s/it]"
     ]
    },
    {
     "name": "stdout",
     "output_type": "stream",
     "text": [
      "[300]\tvalid_0's binary_logloss: 0.407331\tvalid_1's binary_logloss: 0.463937\n",
      "Early stopping, best iteration is:\n",
      "[215]\tvalid_0's binary_logloss: 0.415094\tvalid_1's binary_logloss: 0.463334\n"
     ]
    },
    {
     "name": "stderr",
     "output_type": "stream",
     "text": [
      "c:\\work\\KeibaAI\\.venv\\lib\\site-packages\\lightgbm\\engine.py:181: UserWarning: 'early_stopping_rounds' argument is deprecated and will be removed in a future release of LightGBM. Pass 'early_stopping()' callback via 'callbacks' argument instead.\n",
      "  _log_warning(\"'early_stopping_rounds' argument is deprecated and will be removed in a future release of LightGBM. \"\n",
      "c:\\work\\KeibaAI\\.venv\\lib\\site-packages\\lightgbm\\basic.py:2068: UserWarning: categorical_feature in Dataset is overridden.\n",
      "New categorical_feature is ['father', 'fathers_father', 'fathers_mother', 'ground', 'jockey_id', 'mother', 'mothers_father', 'mothers_mother', 'place_id', 'race_type', 'sex', 'trainer_id', 'turn', 'weather']\n",
      "  _log_warning('categorical_feature in Dataset is overridden.\\n'\n",
      "c:\\work\\KeibaAI\\.venv\\lib\\site-packages\\lightgbm\\engine.py:240: UserWarning: 'verbose_eval' argument is deprecated and will be removed in a future release of LightGBM. Pass 'log_evaluation()' callback via 'callbacks' argument instead.\n",
      "  _log_warning(\"'verbose_eval' argument is deprecated and will be removed in a future release of LightGBM. \"\n"
     ]
    },
    {
     "name": "stdout",
     "output_type": "stream",
     "text": [
      "[LightGBM] [Info] Number of positive: 31528, number of negative: 116705\n",
      "[LightGBM] [Warning] Auto-choosing col-wise multi-threading, the overhead of testing was 0.013675 seconds.\n",
      "You can set `force_col_wise=true` to remove the overhead.\n",
      "[LightGBM] [Info] Total Bins 19630\n",
      "[LightGBM] [Info] Number of data points in the train set: 148233, number of used features: 36\n",
      "[LightGBM] [Info] [binary:BoostFromScore]: pavg=0.212692 -> initscore=-1.308773\n",
      "[LightGBM] [Info] Start training from score -1.308773\n",
      "Training until validation scores don't improve for 100 rounds\n"
     ]
    },
    {
     "name": "stderr",
     "output_type": "stream",
     "text": [
      "c:\\work\\KeibaAI\\.venv\\lib\\site-packages\\lightgbm\\basic.py:1780: UserWarning: Overriding the parameters from Reference Dataset.\n",
      "  _log_warning('Overriding the parameters from Reference Dataset.')\n",
      "c:\\work\\KeibaAI\\.venv\\lib\\site-packages\\lightgbm\\basic.py:1513: UserWarning: categorical_column in param dict is overridden.\n",
      "  _log_warning(f'{cat_alias} in param dict is overridden.')\n"
     ]
    },
    {
     "name": "stdout",
     "output_type": "stream",
     "text": [
      "[100]\tvalid_0's binary_logloss: 0.431302\tvalid_1's binary_logloss: 0.46471\n",
      "[200]\tvalid_0's binary_logloss: 0.416847\tvalid_1's binary_logloss: 0.463814\n"
     ]
    },
    {
     "name": "stderr",
     "output_type": "stream",
     "text": [
      "regularization_factors, val_score: 0.463022:  55%|#####5    | 11/20 [00:26<00:21,  2.40s/it]\u001b[32m[I 2022-01-15 11:31:18,834]\u001b[0m Trial 50 finished with value: 0.4636009556846492 and parameters: {'lambda_l1': 0.002163319356735846, 'lambda_l2': 1.9287182110533615e-08}. Best is trial 44 with value: 0.4630218725391228.\u001b[0m\n",
      "regularization_factors, val_score: 0.463022:  55%|#####5    | 11/20 [00:26<00:21,  2.40s/it]"
     ]
    },
    {
     "name": "stdout",
     "output_type": "stream",
     "text": [
      "[300]\tvalid_0's binary_logloss: 0.407342\tvalid_1's binary_logloss: 0.464262\n",
      "Early stopping, best iteration is:\n",
      "[218]\tvalid_0's binary_logloss: 0.414814\tvalid_1's binary_logloss: 0.463601\n"
     ]
    },
    {
     "name": "stderr",
     "output_type": "stream",
     "text": [
      "c:\\work\\KeibaAI\\.venv\\lib\\site-packages\\lightgbm\\engine.py:181: UserWarning: 'early_stopping_rounds' argument is deprecated and will be removed in a future release of LightGBM. Pass 'early_stopping()' callback via 'callbacks' argument instead.\n",
      "  _log_warning(\"'early_stopping_rounds' argument is deprecated and will be removed in a future release of LightGBM. \"\n",
      "c:\\work\\KeibaAI\\.venv\\lib\\site-packages\\lightgbm\\basic.py:2068: UserWarning: categorical_feature in Dataset is overridden.\n",
      "New categorical_feature is ['father', 'fathers_father', 'fathers_mother', 'ground', 'jockey_id', 'mother', 'mothers_father', 'mothers_mother', 'place_id', 'race_type', 'sex', 'trainer_id', 'turn', 'weather']\n",
      "  _log_warning('categorical_feature in Dataset is overridden.\\n'\n",
      "c:\\work\\KeibaAI\\.venv\\lib\\site-packages\\lightgbm\\engine.py:240: UserWarning: 'verbose_eval' argument is deprecated and will be removed in a future release of LightGBM. Pass 'log_evaluation()' callback via 'callbacks' argument instead.\n",
      "  _log_warning(\"'verbose_eval' argument is deprecated and will be removed in a future release of LightGBM. \"\n"
     ]
    },
    {
     "name": "stdout",
     "output_type": "stream",
     "text": [
      "[LightGBM] [Info] Number of positive: 31528, number of negative: 116705\n",
      "[LightGBM] [Warning] Auto-choosing col-wise multi-threading, the overhead of testing was 0.011972 seconds.\n",
      "You can set `force_col_wise=true` to remove the overhead.\n",
      "[LightGBM] [Info] Total Bins 19630\n",
      "[LightGBM] [Info] Number of data points in the train set: 148233, number of used features: 36\n",
      "[LightGBM] [Info] [binary:BoostFromScore]: pavg=0.212692 -> initscore=-1.308773\n"
     ]
    },
    {
     "name": "stderr",
     "output_type": "stream",
     "text": [
      "c:\\work\\KeibaAI\\.venv\\lib\\site-packages\\lightgbm\\basic.py:1780: UserWarning: Overriding the parameters from Reference Dataset.\n",
      "  _log_warning('Overriding the parameters from Reference Dataset.')\n",
      "c:\\work\\KeibaAI\\.venv\\lib\\site-packages\\lightgbm\\basic.py:1513: UserWarning: categorical_column in param dict is overridden.\n",
      "  _log_warning(f'{cat_alias} in param dict is overridden.')\n"
     ]
    },
    {
     "name": "stdout",
     "output_type": "stream",
     "text": [
      "[LightGBM] [Info] Start training from score -1.308773\n",
      "Training until validation scores don't improve for 100 rounds\n",
      "[100]\tvalid_0's binary_logloss: 0.432046\tvalid_1's binary_logloss: 0.464284\n",
      "[200]\tvalid_0's binary_logloss: 0.418243\tvalid_1's binary_logloss: 0.46348\n",
      "[300]\tvalid_0's binary_logloss: 0.408871\tvalid_1's binary_logloss: 0.463307\n"
     ]
    },
    {
     "name": "stderr",
     "output_type": "stream",
     "text": [
      "regularization_factors, val_score: 0.463022:  60%|######    | 12/20 [00:29<00:19,  2.43s/it]\u001b[32m[I 2022-01-15 11:31:21,348]\u001b[0m Trial 51 finished with value: 0.46314816354132554 and parameters: {'lambda_l1': 7.9961680436024585, 'lambda_l2': 0.0005942587736935533}. Best is trial 44 with value: 0.4630218725391228.\u001b[0m\n",
      "regularization_factors, val_score: 0.463022:  60%|######    | 12/20 [00:29<00:19,  2.43s/it]"
     ]
    },
    {
     "name": "stdout",
     "output_type": "stream",
     "text": [
      "Early stopping, best iteration is:\n",
      "[263]\tvalid_0's binary_logloss: 0.412015\tvalid_1's binary_logloss: 0.463148\n"
     ]
    },
    {
     "name": "stderr",
     "output_type": "stream",
     "text": [
      "c:\\work\\KeibaAI\\.venv\\lib\\site-packages\\lightgbm\\engine.py:181: UserWarning: 'early_stopping_rounds' argument is deprecated and will be removed in a future release of LightGBM. Pass 'early_stopping()' callback via 'callbacks' argument instead.\n",
      "  _log_warning(\"'early_stopping_rounds' argument is deprecated and will be removed in a future release of LightGBM. \"\n",
      "c:\\work\\KeibaAI\\.venv\\lib\\site-packages\\lightgbm\\basic.py:2068: UserWarning: categorical_feature in Dataset is overridden.\n",
      "New categorical_feature is ['father', 'fathers_father', 'fathers_mother', 'ground', 'jockey_id', 'mother', 'mothers_father', 'mothers_mother', 'place_id', 'race_type', 'sex', 'trainer_id', 'turn', 'weather']\n",
      "  _log_warning('categorical_feature in Dataset is overridden.\\n'\n",
      "c:\\work\\KeibaAI\\.venv\\lib\\site-packages\\lightgbm\\engine.py:240: UserWarning: 'verbose_eval' argument is deprecated and will be removed in a future release of LightGBM. Pass 'log_evaluation()' callback via 'callbacks' argument instead.\n",
      "  _log_warning(\"'verbose_eval' argument is deprecated and will be removed in a future release of LightGBM. \"\n"
     ]
    },
    {
     "name": "stdout",
     "output_type": "stream",
     "text": [
      "[LightGBM] [Info] Number of positive: 31528, number of negative: 116705\n",
      "[LightGBM] [Warning] Auto-choosing col-wise multi-threading, the overhead of testing was 0.013723 seconds.\n",
      "You can set `force_col_wise=true` to remove the overhead.\n",
      "[LightGBM] [Info] Total Bins 19630\n",
      "[LightGBM] [Info] Number of data points in the train set: 148233, number of used features: 36\n",
      "[LightGBM] [Info] [binary:BoostFromScore]: pavg=0.212692 -> initscore=-1.308773\n",
      "[LightGBM] [Info] Start training from score -1.308773\n",
      "Training until validation scores don't improve for 100 rounds\n"
     ]
    },
    {
     "name": "stderr",
     "output_type": "stream",
     "text": [
      "c:\\work\\KeibaAI\\.venv\\lib\\site-packages\\lightgbm\\basic.py:1780: UserWarning: Overriding the parameters from Reference Dataset.\n",
      "  _log_warning('Overriding the parameters from Reference Dataset.')\n",
      "c:\\work\\KeibaAI\\.venv\\lib\\site-packages\\lightgbm\\basic.py:1513: UserWarning: categorical_column in param dict is overridden.\n",
      "  _log_warning(f'{cat_alias} in param dict is overridden.')\n"
     ]
    },
    {
     "name": "stdout",
     "output_type": "stream",
     "text": [
      "[100]\tvalid_0's binary_logloss: 0.431155\tvalid_1's binary_logloss: 0.464986\n",
      "[200]\tvalid_0's binary_logloss: 0.416782\tvalid_1's binary_logloss: 0.464088\n"
     ]
    },
    {
     "name": "stderr",
     "output_type": "stream",
     "text": [
      "regularization_factors, val_score: 0.463022:  65%|######5   | 13/20 [00:31<00:16,  2.34s/it]\u001b[32m[I 2022-01-15 11:31:23,465]\u001b[0m Trial 52 finished with value: 0.46394439428494727 and parameters: {'lambda_l1': 0.005390388115784266, 'lambda_l2': 0.00022623313290364046}. Best is trial 44 with value: 0.4630218725391228.\u001b[0m\n",
      "regularization_factors, val_score: 0.463022:  65%|######5   | 13/20 [00:31<00:16,  2.34s/it]"
     ]
    },
    {
     "name": "stdout",
     "output_type": "stream",
     "text": [
      "[300]\tvalid_0's binary_logloss: 0.407031\tvalid_1's binary_logloss: 0.464165\n",
      "Early stopping, best iteration is:\n",
      "[215]\tvalid_0's binary_logloss: 0.415157\tvalid_1's binary_logloss: 0.463944\n"
     ]
    },
    {
     "name": "stderr",
     "output_type": "stream",
     "text": [
      "c:\\work\\KeibaAI\\.venv\\lib\\site-packages\\lightgbm\\engine.py:181: UserWarning: 'early_stopping_rounds' argument is deprecated and will be removed in a future release of LightGBM. Pass 'early_stopping()' callback via 'callbacks' argument instead.\n",
      "  _log_warning(\"'early_stopping_rounds' argument is deprecated and will be removed in a future release of LightGBM. \"\n",
      "c:\\work\\KeibaAI\\.venv\\lib\\site-packages\\lightgbm\\basic.py:2068: UserWarning: categorical_feature in Dataset is overridden.\n",
      "New categorical_feature is ['father', 'fathers_father', 'fathers_mother', 'ground', 'jockey_id', 'mother', 'mothers_father', 'mothers_mother', 'place_id', 'race_type', 'sex', 'trainer_id', 'turn', 'weather']\n",
      "  _log_warning('categorical_feature in Dataset is overridden.\\n'\n",
      "c:\\work\\KeibaAI\\.venv\\lib\\site-packages\\lightgbm\\engine.py:240: UserWarning: 'verbose_eval' argument is deprecated and will be removed in a future release of LightGBM. Pass 'log_evaluation()' callback via 'callbacks' argument instead.\n",
      "  _log_warning(\"'verbose_eval' argument is deprecated and will be removed in a future release of LightGBM. \"\n"
     ]
    },
    {
     "name": "stdout",
     "output_type": "stream",
     "text": [
      "[LightGBM] [Info] Number of positive: 31528, number of negative: 116705\n",
      "[LightGBM] [Warning] Auto-choosing col-wise multi-threading, the overhead of testing was 0.014514 seconds.\n",
      "You can set `force_col_wise=true` to remove the overhead.\n",
      "[LightGBM] [Info] Total Bins 19630\n",
      "[LightGBM] [Info] Number of data points in the train set: 148233, number of used features: 36\n",
      "[LightGBM] [Info] [binary:BoostFromScore]: pavg=0.212692 -> initscore=-1.308773\n",
      "[LightGBM] [Info] Start training from score -1.308773\n",
      "Training until validation scores don't improve for 100 rounds\n"
     ]
    },
    {
     "name": "stderr",
     "output_type": "stream",
     "text": [
      "c:\\work\\KeibaAI\\.venv\\lib\\site-packages\\lightgbm\\basic.py:1780: UserWarning: Overriding the parameters from Reference Dataset.\n",
      "  _log_warning('Overriding the parameters from Reference Dataset.')\n",
      "c:\\work\\KeibaAI\\.venv\\lib\\site-packages\\lightgbm\\basic.py:1513: UserWarning: categorical_column in param dict is overridden.\n",
      "  _log_warning(f'{cat_alias} in param dict is overridden.')\n"
     ]
    },
    {
     "name": "stdout",
     "output_type": "stream",
     "text": [
      "[100]\tvalid_0's binary_logloss: 0.431847\tvalid_1's binary_logloss: 0.464397\n",
      "[200]\tvalid_0's binary_logloss: 0.417907\tvalid_1's binary_logloss: 0.463286\n"
     ]
    },
    {
     "name": "stderr",
     "output_type": "stream",
     "text": [
      "regularization_factors, val_score: 0.463007:  70%|#######   | 14/20 [00:33<00:14,  2.35s/it]\u001b[32m[I 2022-01-15 11:31:25,851]\u001b[0m Trial 53 finished with value: 0.46300730775006366 and parameters: {'lambda_l1': 9.688492368473105, 'lambda_l2': 9.430625377946442e-06}. Best is trial 53 with value: 0.46300730775006366.\u001b[0m\n",
      "regularization_factors, val_score: 0.463007:  70%|#######   | 14/20 [00:33<00:14,  2.35s/it]"
     ]
    },
    {
     "name": "stdout",
     "output_type": "stream",
     "text": [
      "[300]\tvalid_0's binary_logloss: 0.408385\tvalid_1's binary_logloss: 0.463404\n",
      "Early stopping, best iteration is:\n",
      "[215]\tvalid_0's binary_logloss: 0.416225\tvalid_1's binary_logloss: 0.463007\n"
     ]
    },
    {
     "name": "stderr",
     "output_type": "stream",
     "text": [
      "c:\\work\\KeibaAI\\.venv\\lib\\site-packages\\lightgbm\\engine.py:181: UserWarning: 'early_stopping_rounds' argument is deprecated and will be removed in a future release of LightGBM. Pass 'early_stopping()' callback via 'callbacks' argument instead.\n",
      "  _log_warning(\"'early_stopping_rounds' argument is deprecated and will be removed in a future release of LightGBM. \"\n",
      "c:\\work\\KeibaAI\\.venv\\lib\\site-packages\\lightgbm\\basic.py:2068: UserWarning: categorical_feature in Dataset is overridden.\n",
      "New categorical_feature is ['father', 'fathers_father', 'fathers_mother', 'ground', 'jockey_id', 'mother', 'mothers_father', 'mothers_mother', 'place_id', 'race_type', 'sex', 'trainer_id', 'turn', 'weather']\n",
      "  _log_warning('categorical_feature in Dataset is overridden.\\n'\n",
      "c:\\work\\KeibaAI\\.venv\\lib\\site-packages\\lightgbm\\engine.py:240: UserWarning: 'verbose_eval' argument is deprecated and will be removed in a future release of LightGBM. Pass 'log_evaluation()' callback via 'callbacks' argument instead.\n",
      "  _log_warning(\"'verbose_eval' argument is deprecated and will be removed in a future release of LightGBM. \"\n"
     ]
    },
    {
     "name": "stdout",
     "output_type": "stream",
     "text": [
      "[LightGBM] [Info] Number of positive: 31528, number of negative: 116705\n",
      "[LightGBM] [Warning] Auto-choosing col-wise multi-threading, the overhead of testing was 0.014403 seconds.\n",
      "You can set `force_col_wise=true` to remove the overhead.\n",
      "[LightGBM] [Info] Total Bins 19630\n",
      "[LightGBM] [Info] Number of data points in the train set: 148233, number of used features: 36\n",
      "[LightGBM] [Info] [binary:BoostFromScore]: pavg=0.212692 -> initscore=-1.308773\n",
      "[LightGBM] [Info] Start training from score -1.308773\n",
      "Training until validation scores don't improve for 100 rounds\n"
     ]
    },
    {
     "name": "stderr",
     "output_type": "stream",
     "text": [
      "c:\\work\\KeibaAI\\.venv\\lib\\site-packages\\lightgbm\\basic.py:1780: UserWarning: Overriding the parameters from Reference Dataset.\n",
      "  _log_warning('Overriding the parameters from Reference Dataset.')\n",
      "c:\\work\\KeibaAI\\.venv\\lib\\site-packages\\lightgbm\\basic.py:1513: UserWarning: categorical_column in param dict is overridden.\n",
      "  _log_warning(f'{cat_alias} in param dict is overridden.')\n"
     ]
    },
    {
     "name": "stdout",
     "output_type": "stream",
     "text": [
      "[100]\tvalid_0's binary_logloss: 0.431052\tvalid_1's binary_logloss: 0.464736\n",
      "[200]\tvalid_0's binary_logloss: 0.416854\tvalid_1's binary_logloss: 0.463679\n"
     ]
    },
    {
     "name": "stderr",
     "output_type": "stream",
     "text": [
      "regularization_factors, val_score: 0.463007:  75%|#######5  | 15/20 [00:35<00:11,  2.33s/it]\u001b[32m[I 2022-01-15 11:31:28,128]\u001b[0m Trial 54 finished with value: 0.46352814148179966 and parameters: {'lambda_l1': 0.027608900451994788, 'lambda_l2': 5.0592703582434934e-06}. Best is trial 53 with value: 0.46300730775006366.\u001b[0m\n",
      "regularization_factors, val_score: 0.463007:  75%|#######5  | 15/20 [00:35<00:11,  2.33s/it]"
     ]
    },
    {
     "name": "stdout",
     "output_type": "stream",
     "text": [
      "[300]\tvalid_0's binary_logloss: 0.407028\tvalid_1's binary_logloss: 0.464175\n",
      "Early stopping, best iteration is:\n",
      "[207]\tvalid_0's binary_logloss: 0.415956\tvalid_1's binary_logloss: 0.463528\n"
     ]
    },
    {
     "name": "stderr",
     "output_type": "stream",
     "text": [
      "c:\\work\\KeibaAI\\.venv\\lib\\site-packages\\lightgbm\\engine.py:181: UserWarning: 'early_stopping_rounds' argument is deprecated and will be removed in a future release of LightGBM. Pass 'early_stopping()' callback via 'callbacks' argument instead.\n",
      "  _log_warning(\"'early_stopping_rounds' argument is deprecated and will be removed in a future release of LightGBM. \"\n",
      "c:\\work\\KeibaAI\\.venv\\lib\\site-packages\\lightgbm\\basic.py:2068: UserWarning: categorical_feature in Dataset is overridden.\n",
      "New categorical_feature is ['father', 'fathers_father', 'fathers_mother', 'ground', 'jockey_id', 'mother', 'mothers_father', 'mothers_mother', 'place_id', 'race_type', 'sex', 'trainer_id', 'turn', 'weather']\n",
      "  _log_warning('categorical_feature in Dataset is overridden.\\n'\n",
      "c:\\work\\KeibaAI\\.venv\\lib\\site-packages\\lightgbm\\engine.py:240: UserWarning: 'verbose_eval' argument is deprecated and will be removed in a future release of LightGBM. Pass 'log_evaluation()' callback via 'callbacks' argument instead.\n",
      "  _log_warning(\"'verbose_eval' argument is deprecated and will be removed in a future release of LightGBM. \"\n"
     ]
    },
    {
     "name": "stdout",
     "output_type": "stream",
     "text": [
      "[LightGBM] [Info] Number of positive: 31528, number of negative: 116705\n",
      "[LightGBM] [Warning] Auto-choosing col-wise multi-threading, the overhead of testing was 0.013176 seconds.\n",
      "You can set `force_col_wise=true` to remove the overhead.\n",
      "[LightGBM] [Info] Total Bins 19630\n",
      "[LightGBM] [Info] Number of data points in the train set: 148233, number of used features: 36\n",
      "[LightGBM] [Info] [binary:BoostFromScore]: pavg=0.212692 -> initscore=-1.308773\n",
      "[LightGBM] [Info] Start training from score -1.308773\n",
      "Training until validation scores don't improve for 100 rounds\n"
     ]
    },
    {
     "name": "stderr",
     "output_type": "stream",
     "text": [
      "c:\\work\\KeibaAI\\.venv\\lib\\site-packages\\lightgbm\\basic.py:1780: UserWarning: Overriding the parameters from Reference Dataset.\n",
      "  _log_warning('Overriding the parameters from Reference Dataset.')\n",
      "c:\\work\\KeibaAI\\.venv\\lib\\site-packages\\lightgbm\\basic.py:1513: UserWarning: categorical_column in param dict is overridden.\n",
      "  _log_warning(f'{cat_alias} in param dict is overridden.')\n"
     ]
    },
    {
     "name": "stdout",
     "output_type": "stream",
     "text": [
      "[100]\tvalid_0's binary_logloss: 0.431302\tvalid_1's binary_logloss: 0.46471\n",
      "[200]\tvalid_0's binary_logloss: 0.4172\tvalid_1's binary_logloss: 0.463754\n"
     ]
    },
    {
     "name": "stderr",
     "output_type": "stream",
     "text": [
      "regularization_factors, val_score: 0.463007:  80%|########  | 16/20 [00:38<00:09,  2.41s/it]\u001b[32m[I 2022-01-15 11:31:30,714]\u001b[0m Trial 55 finished with value: 0.46363921974021777 and parameters: {'lambda_l1': 0.00010817736475372945, 'lambda_l2': 7.0168981300037145e-06}. Best is trial 53 with value: 0.46300730775006366.\u001b[0m\n",
      "regularization_factors, val_score: 0.463007:  80%|########  | 16/20 [00:38<00:09,  2.41s/it]"
     ]
    },
    {
     "name": "stdout",
     "output_type": "stream",
     "text": [
      "[300]\tvalid_0's binary_logloss: 0.407732\tvalid_1's binary_logloss: 0.46439\n",
      "Early stopping, best iteration is:\n",
      "[214]\tvalid_0's binary_logloss: 0.415418\tvalid_1's binary_logloss: 0.463639\n"
     ]
    },
    {
     "name": "stderr",
     "output_type": "stream",
     "text": [
      "c:\\work\\KeibaAI\\.venv\\lib\\site-packages\\lightgbm\\engine.py:181: UserWarning: 'early_stopping_rounds' argument is deprecated and will be removed in a future release of LightGBM. Pass 'early_stopping()' callback via 'callbacks' argument instead.\n",
      "  _log_warning(\"'early_stopping_rounds' argument is deprecated and will be removed in a future release of LightGBM. \"\n",
      "c:\\work\\KeibaAI\\.venv\\lib\\site-packages\\lightgbm\\basic.py:2068: UserWarning: categorical_feature in Dataset is overridden.\n",
      "New categorical_feature is ['father', 'fathers_father', 'fathers_mother', 'ground', 'jockey_id', 'mother', 'mothers_father', 'mothers_mother', 'place_id', 'race_type', 'sex', 'trainer_id', 'turn', 'weather']\n",
      "  _log_warning('categorical_feature in Dataset is overridden.\\n'\n",
      "c:\\work\\KeibaAI\\.venv\\lib\\site-packages\\lightgbm\\engine.py:240: UserWarning: 'verbose_eval' argument is deprecated and will be removed in a future release of LightGBM. Pass 'log_evaluation()' callback via 'callbacks' argument instead.\n",
      "  _log_warning(\"'verbose_eval' argument is deprecated and will be removed in a future release of LightGBM. \"\n"
     ]
    },
    {
     "name": "stdout",
     "output_type": "stream",
     "text": [
      "[LightGBM] [Info] Number of positive: 31528, number of negative: 116705\n",
      "[LightGBM] [Warning] Auto-choosing col-wise multi-threading, the overhead of testing was 0.014607 seconds.\n",
      "You can set `force_col_wise=true` to remove the overhead.\n",
      "[LightGBM] [Info] Total Bins 19630\n",
      "[LightGBM] [Info] Number of data points in the train set: 148233, number of used features: 36\n",
      "[LightGBM] [Info] [binary:BoostFromScore]: pavg=0.212692 -> initscore=-1.308773\n",
      "[LightGBM] [Info] Start training from score -1.308773\n",
      "Training until validation scores don't improve for 100 rounds\n"
     ]
    },
    {
     "name": "stderr",
     "output_type": "stream",
     "text": [
      "c:\\work\\KeibaAI\\.venv\\lib\\site-packages\\lightgbm\\basic.py:1780: UserWarning: Overriding the parameters from Reference Dataset.\n",
      "  _log_warning('Overriding the parameters from Reference Dataset.')\n",
      "c:\\work\\KeibaAI\\.venv\\lib\\site-packages\\lightgbm\\basic.py:1513: UserWarning: categorical_column in param dict is overridden.\n",
      "  _log_warning(f'{cat_alias} in param dict is overridden.')\n"
     ]
    },
    {
     "name": "stdout",
     "output_type": "stream",
     "text": [
      "[100]\tvalid_0's binary_logloss: 0.431302\tvalid_1's binary_logloss: 0.46471\n",
      "[200]\tvalid_0's binary_logloss: 0.4172\tvalid_1's binary_logloss: 0.463754\n"
     ]
    },
    {
     "name": "stderr",
     "output_type": "stream",
     "text": [
      "regularization_factors, val_score: 0.463007:  85%|########5 | 17/20 [00:41<00:07,  2.49s/it]\u001b[32m[I 2022-01-15 11:31:33,385]\u001b[0m Trial 56 finished with value: 0.46363921480933123 and parameters: {'lambda_l1': 0.00021484082406148666, 'lambda_l2': 5.204418346658651e-07}. Best is trial 53 with value: 0.46300730775006366.\u001b[0m\n",
      "regularization_factors, val_score: 0.463007:  85%|########5 | 17/20 [00:41<00:07,  2.49s/it]"
     ]
    },
    {
     "name": "stdout",
     "output_type": "stream",
     "text": [
      "[300]\tvalid_0's binary_logloss: 0.407125\tvalid_1's binary_logloss: 0.464245\n",
      "Early stopping, best iteration is:\n",
      "[214]\tvalid_0's binary_logloss: 0.415418\tvalid_1's binary_logloss: 0.463639\n"
     ]
    },
    {
     "name": "stderr",
     "output_type": "stream",
     "text": [
      "c:\\work\\KeibaAI\\.venv\\lib\\site-packages\\lightgbm\\engine.py:181: UserWarning: 'early_stopping_rounds' argument is deprecated and will be removed in a future release of LightGBM. Pass 'early_stopping()' callback via 'callbacks' argument instead.\n",
      "  _log_warning(\"'early_stopping_rounds' argument is deprecated and will be removed in a future release of LightGBM. \"\n",
      "c:\\work\\KeibaAI\\.venv\\lib\\site-packages\\lightgbm\\basic.py:2068: UserWarning: categorical_feature in Dataset is overridden.\n",
      "New categorical_feature is ['father', 'fathers_father', 'fathers_mother', 'ground', 'jockey_id', 'mother', 'mothers_father', 'mothers_mother', 'place_id', 'race_type', 'sex', 'trainer_id', 'turn', 'weather']\n",
      "  _log_warning('categorical_feature in Dataset is overridden.\\n'\n",
      "c:\\work\\KeibaAI\\.venv\\lib\\site-packages\\lightgbm\\engine.py:240: UserWarning: 'verbose_eval' argument is deprecated and will be removed in a future release of LightGBM. Pass 'log_evaluation()' callback via 'callbacks' argument instead.\n",
      "  _log_warning(\"'verbose_eval' argument is deprecated and will be removed in a future release of LightGBM. \"\n"
     ]
    },
    {
     "name": "stdout",
     "output_type": "stream",
     "text": [
      "[LightGBM] [Info] Number of positive: 31528, number of negative: 116705\n",
      "[LightGBM] [Warning] Auto-choosing row-wise multi-threading, the overhead of testing was 0.002737 seconds.\n",
      "You can set `force_row_wise=true` to remove the overhead.\n",
      "And if memory is not enough, you can set `force_col_wise=true`.\n",
      "[LightGBM] [Info] Total Bins 19630\n",
      "[LightGBM] [Info] Number of data points in the train set: 148233, number of used features: 36\n",
      "[LightGBM] [Info] [binary:BoostFromScore]: pavg=0.212692 -> initscore=-1.308773\n",
      "[LightGBM] [Info] Start training from score -1.308773\n",
      "Training until validation scores don't improve for 100 rounds"
     ]
    },
    {
     "name": "stderr",
     "output_type": "stream",
     "text": [
      "c:\\work\\KeibaAI\\.venv\\lib\\site-packages\\lightgbm\\basic.py:1780: UserWarning: Overriding the parameters from Reference Dataset.\n",
      "  _log_warning('Overriding the parameters from Reference Dataset.')\n",
      "c:\\work\\KeibaAI\\.venv\\lib\\site-packages\\lightgbm\\basic.py:1513: UserWarning: categorical_column in param dict is overridden.\n",
      "  _log_warning(f'{cat_alias} in param dict is overridden.')\n"
     ]
    },
    {
     "name": "stdout",
     "output_type": "stream",
     "text": [
      "\n",
      "[100]\tvalid_0's binary_logloss: 0.431478\tvalid_1's binary_logloss: 0.464797\n",
      "[200]\tvalid_0's binary_logloss: 0.417135\tvalid_1's binary_logloss: 0.464037\n",
      "[300]\tvalid_0's binary_logloss: 0.407514\tvalid_1's binary_logloss: 0.46411\n"
     ]
    },
    {
     "name": "stderr",
     "output_type": "stream",
     "text": [
      "regularization_factors, val_score: 0.463007:  90%|######### | 18/20 [00:44<00:05,  2.79s/it]\u001b[32m[I 2022-01-15 11:31:36,873]\u001b[0m Trial 57 finished with value: 0.46383135112921897 and parameters: {'lambda_l1': 0.06508524223574978, 'lambda_l2': 0.004908975998670262}. Best is trial 53 with value: 0.46300730775006366.\u001b[0m\n",
      "regularization_factors, val_score: 0.463007:  90%|######### | 18/20 [00:44<00:05,  2.79s/it]"
     ]
    },
    {
     "name": "stdout",
     "output_type": "stream",
     "text": [
      "Early stopping, best iteration is:\n",
      "[265]\tvalid_0's binary_logloss: 0.410449\tvalid_1's binary_logloss: 0.463831\n"
     ]
    },
    {
     "name": "stderr",
     "output_type": "stream",
     "text": [
      "c:\\work\\KeibaAI\\.venv\\lib\\site-packages\\lightgbm\\engine.py:181: UserWarning: 'early_stopping_rounds' argument is deprecated and will be removed in a future release of LightGBM. Pass 'early_stopping()' callback via 'callbacks' argument instead.\n",
      "  _log_warning(\"'early_stopping_rounds' argument is deprecated and will be removed in a future release of LightGBM. \"\n",
      "c:\\work\\KeibaAI\\.venv\\lib\\site-packages\\lightgbm\\basic.py:2068: UserWarning: categorical_feature in Dataset is overridden.\n",
      "New categorical_feature is ['father', 'fathers_father', 'fathers_mother', 'ground', 'jockey_id', 'mother', 'mothers_father', 'mothers_mother', 'place_id', 'race_type', 'sex', 'trainer_id', 'turn', 'weather']\n",
      "  _log_warning('categorical_feature in Dataset is overridden.\\n'\n",
      "c:\\work\\KeibaAI\\.venv\\lib\\site-packages\\lightgbm\\engine.py:240: UserWarning: 'verbose_eval' argument is deprecated and will be removed in a future release of LightGBM. Pass 'log_evaluation()' callback via 'callbacks' argument instead.\n",
      "  _log_warning(\"'verbose_eval' argument is deprecated and will be removed in a future release of LightGBM. \"\n"
     ]
    },
    {
     "name": "stdout",
     "output_type": "stream",
     "text": [
      "[LightGBM] [Info] Number of positive: 31528, number of negative: 116705\n",
      "[LightGBM] [Warning] Auto-choosing col-wise multi-threading, the overhead of testing was 0.014072 seconds.\n",
      "You can set `force_col_wise=true` to remove the overhead.\n",
      "[LightGBM] [Info] Total Bins 19630\n",
      "[LightGBM] [Info] Number of data points in the train set: 148233, number of used features: 36\n",
      "[LightGBM] [Info] [binary:BoostFromScore]: pavg=0.212692 -> initscore=-1.308773\n",
      "[LightGBM] [Info] Start training from score -1.308773\n",
      "Training until validation scores don't improve for 100 rounds\n"
     ]
    },
    {
     "name": "stderr",
     "output_type": "stream",
     "text": [
      "c:\\work\\KeibaAI\\.venv\\lib\\site-packages\\lightgbm\\basic.py:1780: UserWarning: Overriding the parameters from Reference Dataset.\n",
      "  _log_warning('Overriding the parameters from Reference Dataset.')\n",
      "c:\\work\\KeibaAI\\.venv\\lib\\site-packages\\lightgbm\\basic.py:1513: UserWarning: categorical_column in param dict is overridden.\n",
      "  _log_warning(f'{cat_alias} in param dict is overridden.')\n"
     ]
    },
    {
     "name": "stdout",
     "output_type": "stream",
     "text": [
      "[100]\tvalid_0's binary_logloss: 0.431614\tvalid_1's binary_logloss: 0.464771\n",
      "[200]\tvalid_0's binary_logloss: 0.41764\tvalid_1's binary_logloss: 0.463408\n"
     ]
    },
    {
     "name": "stderr",
     "output_type": "stream",
     "text": [
      "regularization_factors, val_score: 0.463007:  95%|#########5| 19/20 [00:47<00:02,  2.66s/it]\u001b[32m[I 2022-01-15 11:31:39,229]\u001b[0m Trial 58 finished with value: 0.463328595494458 and parameters: {'lambda_l1': 1.0238660239772752, 'lambda_l2': 3.498996257428208e-05}. Best is trial 53 with value: 0.46300730775006366.\u001b[0m\n",
      "regularization_factors, val_score: 0.463007:  95%|#########5| 19/20 [00:47<00:02,  2.66s/it]"
     ]
    },
    {
     "name": "stdout",
     "output_type": "stream",
     "text": [
      "[300]\tvalid_0's binary_logloss: 0.408363\tvalid_1's binary_logloss: 0.463847\n",
      "Early stopping, best iteration is:\n",
      "[219]\tvalid_0's binary_logloss: 0.415576\tvalid_1's binary_logloss: 0.463329\n"
     ]
    },
    {
     "name": "stderr",
     "output_type": "stream",
     "text": [
      "c:\\work\\KeibaAI\\.venv\\lib\\site-packages\\lightgbm\\engine.py:181: UserWarning: 'early_stopping_rounds' argument is deprecated and will be removed in a future release of LightGBM. Pass 'early_stopping()' callback via 'callbacks' argument instead.\n",
      "  _log_warning(\"'early_stopping_rounds' argument is deprecated and will be removed in a future release of LightGBM. \"\n",
      "c:\\work\\KeibaAI\\.venv\\lib\\site-packages\\lightgbm\\basic.py:2068: UserWarning: categorical_feature in Dataset is overridden.\n",
      "New categorical_feature is ['father', 'fathers_father', 'fathers_mother', 'ground', 'jockey_id', 'mother', 'mothers_father', 'mothers_mother', 'place_id', 'race_type', 'sex', 'trainer_id', 'turn', 'weather']\n",
      "  _log_warning('categorical_feature in Dataset is overridden.\\n'\n",
      "c:\\work\\KeibaAI\\.venv\\lib\\site-packages\\lightgbm\\engine.py:240: UserWarning: 'verbose_eval' argument is deprecated and will be removed in a future release of LightGBM. Pass 'log_evaluation()' callback via 'callbacks' argument instead.\n",
      "  _log_warning(\"'verbose_eval' argument is deprecated and will be removed in a future release of LightGBM. \"\n"
     ]
    },
    {
     "name": "stdout",
     "output_type": "stream",
     "text": [
      "[LightGBM] [Info] Number of positive: 31528, number of negative: 116705\n",
      "[LightGBM] [Warning] Auto-choosing col-wise multi-threading, the overhead of testing was 0.014180 seconds.\n",
      "You can set `force_col_wise=true` to remove the overhead.\n",
      "[LightGBM] [Info] Total Bins 19630\n",
      "[LightGBM] [Info] Number of data points in the train set: 148233, number of used features: 36\n",
      "[LightGBM] [Info] [binary:BoostFromScore]: pavg=0.212692 -> initscore=-1.308773\n",
      "[LightGBM] [Info] Start training from score -1.308773\n",
      "Training until validation scores don't improve for 100 rounds\n"
     ]
    },
    {
     "name": "stderr",
     "output_type": "stream",
     "text": [
      "c:\\work\\KeibaAI\\.venv\\lib\\site-packages\\lightgbm\\basic.py:1780: UserWarning: Overriding the parameters from Reference Dataset.\n",
      "  _log_warning('Overriding the parameters from Reference Dataset.')\n",
      "c:\\work\\KeibaAI\\.venv\\lib\\site-packages\\lightgbm\\basic.py:1513: UserWarning: categorical_column in param dict is overridden.\n",
      "  _log_warning(f'{cat_alias} in param dict is overridden.')\n"
     ]
    },
    {
     "name": "stdout",
     "output_type": "stream",
     "text": [
      "[100]\tvalid_0's binary_logloss: 0.431302\tvalid_1's binary_logloss: 0.46471\n",
      "[200]\tvalid_0's binary_logloss: 0.4172\tvalid_1's binary_logloss: 0.463754\n"
     ]
    },
    {
     "name": "stderr",
     "output_type": "stream",
     "text": [
      "regularization_factors, val_score: 0.463007: 100%|##########| 20/20 [00:49<00:00,  2.49s/it]\u001b[32m[I 2022-01-15 11:31:41,326]\u001b[0m Trial 59 finished with value: 0.46363922439505156 and parameters: {'lambda_l1': 1.735966699977618e-05, 'lambda_l2': 1.686725837339033e-07}. Best is trial 53 with value: 0.46300730775006366.\u001b[0m\n",
      "regularization_factors, val_score: 0.463007: 100%|##########| 20/20 [00:49<00:00,  2.46s/it]\n"
     ]
    },
    {
     "name": "stdout",
     "output_type": "stream",
     "text": [
      "[300]\tvalid_0's binary_logloss: 0.407623\tvalid_1's binary_logloss: 0.464252\n",
      "Early stopping, best iteration is:\n",
      "[214]\tvalid_0's binary_logloss: 0.415418\tvalid_1's binary_logloss: 0.463639\n"
     ]
    },
    {
     "name": "stderr",
     "output_type": "stream",
     "text": [
      "min_data_in_leaf, val_score: 0.463007:   0%|          | 0/5 [00:00<?, ?it/s]c:\\work\\KeibaAI\\.venv\\lib\\site-packages\\lightgbm\\engine.py:181: UserWarning: 'early_stopping_rounds' argument is deprecated and will be removed in a future release of LightGBM. Pass 'early_stopping()' callback via 'callbacks' argument instead.\n",
      "  _log_warning(\"'early_stopping_rounds' argument is deprecated and will be removed in a future release of LightGBM. \"\n",
      "c:\\work\\KeibaAI\\.venv\\lib\\site-packages\\lightgbm\\basic.py:2068: UserWarning: categorical_feature in Dataset is overridden.\n",
      "New categorical_feature is ['father', 'fathers_father', 'fathers_mother', 'ground', 'jockey_id', 'mother', 'mothers_father', 'mothers_mother', 'place_id', 'race_type', 'sex', 'trainer_id', 'turn', 'weather']\n",
      "  _log_warning('categorical_feature in Dataset is overridden.\\n'\n",
      "c:\\work\\KeibaAI\\.venv\\lib\\site-packages\\lightgbm\\engine.py:240: UserWarning: 'verbose_eval' argument is deprecated and will be removed in a future release of LightGBM. Pass 'log_evaluation()' callback via 'callbacks' argument instead.\n",
      "  _log_warning(\"'verbose_eval' argument is deprecated and will be removed in a future release of LightGBM. \"\n"
     ]
    },
    {
     "name": "stdout",
     "output_type": "stream",
     "text": [
      "[LightGBM] [Info] Number of positive: 31528, number of negative: 116705\n",
      "[LightGBM] [Warning] Auto-choosing col-wise multi-threading, the overhead of testing was 0.013615 seconds.\n",
      "You can set `force_col_wise=true` to remove the overhead.\n",
      "[LightGBM] [Info] Total Bins 19630\n",
      "[LightGBM] [Info] Number of data points in the train set: 148233, number of used features: 36\n",
      "[LightGBM] [Info] [binary:BoostFromScore]: pavg=0.212692 -> initscore=-1.308773\n",
      "[LightGBM] [Info] Start training from score -1.308773\n",
      "Training until validation scores don't improve for 100 rounds\n"
     ]
    },
    {
     "name": "stderr",
     "output_type": "stream",
     "text": [
      "c:\\work\\KeibaAI\\.venv\\lib\\site-packages\\lightgbm\\basic.py:1780: UserWarning: Overriding the parameters from Reference Dataset.\n",
      "  _log_warning('Overriding the parameters from Reference Dataset.')\n",
      "c:\\work\\KeibaAI\\.venv\\lib\\site-packages\\lightgbm\\basic.py:1513: UserWarning: categorical_column in param dict is overridden.\n",
      "  _log_warning(f'{cat_alias} in param dict is overridden.')\n"
     ]
    },
    {
     "name": "stdout",
     "output_type": "stream",
     "text": [
      "[100]\tvalid_0's binary_logloss: 0.431847\tvalid_1's binary_logloss: 0.464397\n",
      "[200]\tvalid_0's binary_logloss: 0.417907\tvalid_1's binary_logloss: 0.463286\n"
     ]
    },
    {
     "name": "stderr",
     "output_type": "stream",
     "text": [
      "min_data_in_leaf, val_score: 0.463007:  20%|##        | 1/5 [00:02<00:08,  2.25s/it]\u001b[32m[I 2022-01-15 11:31:43,584]\u001b[0m Trial 60 finished with value: 0.46300730775006366 and parameters: {'min_child_samples': 50}. Best is trial 60 with value: 0.46300730775006366.\u001b[0m\n",
      "min_data_in_leaf, val_score: 0.463007:  20%|##        | 1/5 [00:02<00:08,  2.25s/it]"
     ]
    },
    {
     "name": "stdout",
     "output_type": "stream",
     "text": [
      "[300]\tvalid_0's binary_logloss: 0.408385\tvalid_1's binary_logloss: 0.463404\n",
      "Early stopping, best iteration is:\n",
      "[215]\tvalid_0's binary_logloss: 0.416225\tvalid_1's binary_logloss: 0.463007\n"
     ]
    },
    {
     "name": "stderr",
     "output_type": "stream",
     "text": [
      "c:\\work\\KeibaAI\\.venv\\lib\\site-packages\\lightgbm\\engine.py:181: UserWarning: 'early_stopping_rounds' argument is deprecated and will be removed in a future release of LightGBM. Pass 'early_stopping()' callback via 'callbacks' argument instead.\n",
      "  _log_warning(\"'early_stopping_rounds' argument is deprecated and will be removed in a future release of LightGBM. \"\n",
      "c:\\work\\KeibaAI\\.venv\\lib\\site-packages\\lightgbm\\basic.py:2068: UserWarning: categorical_feature in Dataset is overridden.\n",
      "New categorical_feature is ['father', 'fathers_father', 'fathers_mother', 'ground', 'jockey_id', 'mother', 'mothers_father', 'mothers_mother', 'place_id', 'race_type', 'sex', 'trainer_id', 'turn', 'weather']\n",
      "  _log_warning('categorical_feature in Dataset is overridden.\\n'\n",
      "c:\\work\\KeibaAI\\.venv\\lib\\site-packages\\lightgbm\\engine.py:240: UserWarning: 'verbose_eval' argument is deprecated and will be removed in a future release of LightGBM. Pass 'log_evaluation()' callback via 'callbacks' argument instead.\n",
      "  _log_warning(\"'verbose_eval' argument is deprecated and will be removed in a future release of LightGBM. \"\n"
     ]
    },
    {
     "name": "stdout",
     "output_type": "stream",
     "text": [
      "[LightGBM] [Info] Number of positive: 31528, number of negative: 116705\n",
      "[LightGBM] [Warning] Auto-choosing col-wise multi-threading, the overhead of testing was 0.013237 seconds.\n",
      "You can set `force_col_wise=true` to remove the overhead.\n",
      "[LightGBM] [Info] Total Bins 19630\n",
      "[LightGBM] [Info] Number of data points in the train set: 148233, number of used features: 36\n",
      "[LightGBM] [Info] [binary:BoostFromScore]: pavg=0.212692 -> initscore=-1.308773\n",
      "[LightGBM] [Info] Start training from score -1.308773\n",
      "Training until validation scores don't improve for 100 rounds\n"
     ]
    },
    {
     "name": "stderr",
     "output_type": "stream",
     "text": [
      "c:\\work\\KeibaAI\\.venv\\lib\\site-packages\\lightgbm\\basic.py:1780: UserWarning: Overriding the parameters from Reference Dataset.\n",
      "  _log_warning('Overriding the parameters from Reference Dataset.')\n",
      "c:\\work\\KeibaAI\\.venv\\lib\\site-packages\\lightgbm\\basic.py:1513: UserWarning: categorical_column in param dict is overridden.\n",
      "  _log_warning(f'{cat_alias} in param dict is overridden.')\n"
     ]
    },
    {
     "name": "stdout",
     "output_type": "stream",
     "text": [
      "[100]\tvalid_0's binary_logloss: 0.431847\tvalid_1's binary_logloss: 0.464397\n",
      "[200]\tvalid_0's binary_logloss: 0.417907\tvalid_1's binary_logloss: 0.463286\n"
     ]
    },
    {
     "name": "stderr",
     "output_type": "stream",
     "text": [
      "min_data_in_leaf, val_score: 0.463007:  40%|####      | 2/5 [00:04<00:06,  2.19s/it]\u001b[32m[I 2022-01-15 11:31:45,740]\u001b[0m Trial 61 finished with value: 0.46300730775006366 and parameters: {'min_child_samples': 25}. Best is trial 60 with value: 0.46300730775006366.\u001b[0m\n",
      "min_data_in_leaf, val_score: 0.463007:  40%|####      | 2/5 [00:04<00:06,  2.19s/it]"
     ]
    },
    {
     "name": "stdout",
     "output_type": "stream",
     "text": [
      "[300]\tvalid_0's binary_logloss: 0.408385\tvalid_1's binary_logloss: 0.463404\n",
      "Early stopping, best iteration is:\n",
      "[215]\tvalid_0's binary_logloss: 0.416225\tvalid_1's binary_logloss: 0.463007\n"
     ]
    },
    {
     "name": "stderr",
     "output_type": "stream",
     "text": [
      "c:\\work\\KeibaAI\\.venv\\lib\\site-packages\\lightgbm\\engine.py:181: UserWarning: 'early_stopping_rounds' argument is deprecated and will be removed in a future release of LightGBM. Pass 'early_stopping()' callback via 'callbacks' argument instead.\n",
      "  _log_warning(\"'early_stopping_rounds' argument is deprecated and will be removed in a future release of LightGBM. \"\n",
      "c:\\work\\KeibaAI\\.venv\\lib\\site-packages\\lightgbm\\basic.py:2068: UserWarning: categorical_feature in Dataset is overridden.\n",
      "New categorical_feature is ['father', 'fathers_father', 'fathers_mother', 'ground', 'jockey_id', 'mother', 'mothers_father', 'mothers_mother', 'place_id', 'race_type', 'sex', 'trainer_id', 'turn', 'weather']\n",
      "  _log_warning('categorical_feature in Dataset is overridden.\\n'\n",
      "c:\\work\\KeibaAI\\.venv\\lib\\site-packages\\lightgbm\\engine.py:240: UserWarning: 'verbose_eval' argument is deprecated and will be removed in a future release of LightGBM. Pass 'log_evaluation()' callback via 'callbacks' argument instead.\n",
      "  _log_warning(\"'verbose_eval' argument is deprecated and will be removed in a future release of LightGBM. \"\n"
     ]
    },
    {
     "name": "stdout",
     "output_type": "stream",
     "text": [
      "[LightGBM] [Info] Number of positive: 31528, number of negative: 116705\n",
      "[LightGBM] [Warning] Auto-choosing col-wise multi-threading, the overhead of testing was 0.013403 seconds.\n",
      "You can set `force_col_wise=true` to remove the overhead.\n",
      "[LightGBM] [Info] Total Bins 19630\n",
      "[LightGBM] [Info] Number of data points in the train set: 148233, number of used features: 36\n",
      "[LightGBM] [Info] [binary:BoostFromScore]: pavg=0.212692 -> initscore=-1.308773\n",
      "[LightGBM] [Info] Start training from score -1.308773\n",
      "Training until validation scores don't improve for 100 rounds\n"
     ]
    },
    {
     "name": "stderr",
     "output_type": "stream",
     "text": [
      "c:\\work\\KeibaAI\\.venv\\lib\\site-packages\\lightgbm\\basic.py:1780: UserWarning: Overriding the parameters from Reference Dataset.\n",
      "  _log_warning('Overriding the parameters from Reference Dataset.')\n",
      "c:\\work\\KeibaAI\\.venv\\lib\\site-packages\\lightgbm\\basic.py:1513: UserWarning: categorical_column in param dict is overridden.\n",
      "  _log_warning(f'{cat_alias} in param dict is overridden.')\n"
     ]
    },
    {
     "name": "stdout",
     "output_type": "stream",
     "text": [
      "[100]\tvalid_0's binary_logloss: 0.431847\tvalid_1's binary_logloss: 0.464397\n",
      "[200]\tvalid_0's binary_logloss: 0.417907\tvalid_1's binary_logloss: 0.463286\n"
     ]
    },
    {
     "name": "stderr",
     "output_type": "stream",
     "text": [
      "min_data_in_leaf, val_score: 0.463007:  60%|######    | 3/5 [00:06<00:04,  2.23s/it]\u001b[32m[I 2022-01-15 11:31:48,012]\u001b[0m Trial 62 finished with value: 0.46300730775006366 and parameters: {'min_child_samples': 100}. Best is trial 60 with value: 0.46300730775006366.\u001b[0m\n",
      "min_data_in_leaf, val_score: 0.463007:  60%|######    | 3/5 [00:06<00:04,  2.23s/it]"
     ]
    },
    {
     "name": "stdout",
     "output_type": "stream",
     "text": [
      "[300]\tvalid_0's binary_logloss: 0.408385\tvalid_1's binary_logloss: 0.463404\n",
      "Early stopping, best iteration is:\n",
      "[215]\tvalid_0's binary_logloss: 0.416225\tvalid_1's binary_logloss: 0.463007\n"
     ]
    },
    {
     "name": "stderr",
     "output_type": "stream",
     "text": [
      "c:\\work\\KeibaAI\\.venv\\lib\\site-packages\\lightgbm\\engine.py:181: UserWarning: 'early_stopping_rounds' argument is deprecated and will be removed in a future release of LightGBM. Pass 'early_stopping()' callback via 'callbacks' argument instead.\n",
      "  _log_warning(\"'early_stopping_rounds' argument is deprecated and will be removed in a future release of LightGBM. \"\n",
      "c:\\work\\KeibaAI\\.venv\\lib\\site-packages\\lightgbm\\basic.py:2068: UserWarning: categorical_feature in Dataset is overridden.\n",
      "New categorical_feature is ['father', 'fathers_father', 'fathers_mother', 'ground', 'jockey_id', 'mother', 'mothers_father', 'mothers_mother', 'place_id', 'race_type', 'sex', 'trainer_id', 'turn', 'weather']\n",
      "  _log_warning('categorical_feature in Dataset is overridden.\\n'\n",
      "c:\\work\\KeibaAI\\.venv\\lib\\site-packages\\lightgbm\\engine.py:240: UserWarning: 'verbose_eval' argument is deprecated and will be removed in a future release of LightGBM. Pass 'log_evaluation()' callback via 'callbacks' argument instead.\n",
      "  _log_warning(\"'verbose_eval' argument is deprecated and will be removed in a future release of LightGBM. \"\n"
     ]
    },
    {
     "name": "stdout",
     "output_type": "stream",
     "text": [
      "[LightGBM] [Info] Number of positive: 31528, number of negative: 116705\n",
      "[LightGBM] [Warning] Auto-choosing row-wise multi-threading, the overhead of testing was 0.001646 seconds.\n",
      "You can set `force_row_wise=true` to remove the overhead.\n",
      "And if memory is not enough, you can set `force_col_wise=true`.\n",
      "[LightGBM] [Info] Total Bins 19630\n",
      "[LightGBM] [Info] Number of data points in the train set: 148233, number of used features: 36\n",
      "[LightGBM] [Info] [binary:BoostFromScore]: pavg=0.212692 -> initscore=-1.308773\n",
      "[LightGBM] [Info] Start training from score -1.308773\n",
      "Training until validation scores don't improve for 100 rounds\n"
     ]
    },
    {
     "name": "stderr",
     "output_type": "stream",
     "text": [
      "c:\\work\\KeibaAI\\.venv\\lib\\site-packages\\lightgbm\\basic.py:1780: UserWarning: Overriding the parameters from Reference Dataset.\n",
      "  _log_warning('Overriding the parameters from Reference Dataset.')\n",
      "c:\\work\\KeibaAI\\.venv\\lib\\site-packages\\lightgbm\\basic.py:1513: UserWarning: categorical_column in param dict is overridden.\n",
      "  _log_warning(f'{cat_alias} in param dict is overridden.')\n"
     ]
    },
    {
     "name": "stdout",
     "output_type": "stream",
     "text": [
      "[100]\tvalid_0's binary_logloss: 0.431847\tvalid_1's binary_logloss: 0.464397\n",
      "[200]\tvalid_0's binary_logloss: 0.417907\tvalid_1's binary_logloss: 0.463286\n"
     ]
    },
    {
     "name": "stderr",
     "output_type": "stream",
     "text": [
      "min_data_in_leaf, val_score: 0.463007:  80%|########  | 4/5 [00:09<00:02,  2.40s/it]\u001b[32m[I 2022-01-15 11:31:50,664]\u001b[0m Trial 63 finished with value: 0.46300730775006366 and parameters: {'min_child_samples': 10}. Best is trial 60 with value: 0.46300730775006366.\u001b[0m\n",
      "min_data_in_leaf, val_score: 0.463007:  80%|########  | 4/5 [00:09<00:02,  2.40s/it]"
     ]
    },
    {
     "name": "stdout",
     "output_type": "stream",
     "text": [
      "[300]\tvalid_0's binary_logloss: 0.408385\tvalid_1's binary_logloss: 0.463404\n",
      "Early stopping, best iteration is:\n",
      "[215]\tvalid_0's binary_logloss: 0.416225\tvalid_1's binary_logloss: 0.463007\n"
     ]
    },
    {
     "name": "stderr",
     "output_type": "stream",
     "text": [
      "c:\\work\\KeibaAI\\.venv\\lib\\site-packages\\lightgbm\\engine.py:181: UserWarning: 'early_stopping_rounds' argument is deprecated and will be removed in a future release of LightGBM. Pass 'early_stopping()' callback via 'callbacks' argument instead.\n",
      "  _log_warning(\"'early_stopping_rounds' argument is deprecated and will be removed in a future release of LightGBM. \"\n",
      "c:\\work\\KeibaAI\\.venv\\lib\\site-packages\\lightgbm\\basic.py:2068: UserWarning: categorical_feature in Dataset is overridden.\n",
      "New categorical_feature is ['father', 'fathers_father', 'fathers_mother', 'ground', 'jockey_id', 'mother', 'mothers_father', 'mothers_mother', 'place_id', 'race_type', 'sex', 'trainer_id', 'turn', 'weather']\n",
      "  _log_warning('categorical_feature in Dataset is overridden.\\n'\n",
      "c:\\work\\KeibaAI\\.venv\\lib\\site-packages\\lightgbm\\engine.py:240: UserWarning: 'verbose_eval' argument is deprecated and will be removed in a future release of LightGBM. Pass 'log_evaluation()' callback via 'callbacks' argument instead.\n",
      "  _log_warning(\"'verbose_eval' argument is deprecated and will be removed in a future release of LightGBM. \"\n"
     ]
    },
    {
     "name": "stdout",
     "output_type": "stream",
     "text": [
      "[LightGBM] [Info] Number of positive: 31528, number of negative: 116705\n",
      "[LightGBM] [Warning] Auto-choosing col-wise multi-threading, the overhead of testing was 0.011959 seconds.\n",
      "You can set `force_col_wise=true` to remove the overhead.\n",
      "[LightGBM] [Info] Total Bins 19630\n",
      "[LightGBM] [Info] Number of data points in the train set: 148233, number of used features: 36\n",
      "[LightGBM] [Info] [binary:BoostFromScore]: pavg=0.212692 -> initscore=-1.308773\n",
      "[LightGBM] [Info] Start training from score -1.308773\n",
      "Training until validation scores don't improve for 100 rounds\n"
     ]
    },
    {
     "name": "stderr",
     "output_type": "stream",
     "text": [
      "c:\\work\\KeibaAI\\.venv\\lib\\site-packages\\lightgbm\\basic.py:1780: UserWarning: Overriding the parameters from Reference Dataset.\n",
      "  _log_warning('Overriding the parameters from Reference Dataset.')\n",
      "c:\\work\\KeibaAI\\.venv\\lib\\site-packages\\lightgbm\\basic.py:1513: UserWarning: categorical_column in param dict is overridden.\n",
      "  _log_warning(f'{cat_alias} in param dict is overridden.')\n"
     ]
    },
    {
     "name": "stdout",
     "output_type": "stream",
     "text": [
      "[100]\tvalid_0's binary_logloss: 0.431847\tvalid_1's binary_logloss: 0.464397\n",
      "[200]\tvalid_0's binary_logloss: 0.417907\tvalid_1's binary_logloss: 0.463286\n"
     ]
    },
    {
     "name": "stderr",
     "output_type": "stream",
     "text": [
      "min_data_in_leaf, val_score: 0.463007: 100%|##########| 5/5 [00:11<00:00,  2.30s/it]\u001b[32m[I 2022-01-15 11:31:52,804]\u001b[0m Trial 64 finished with value: 0.46300730775006366 and parameters: {'min_child_samples': 5}. Best is trial 60 with value: 0.46300730775006366.\u001b[0m\n",
      "min_data_in_leaf, val_score: 0.463007: 100%|##########| 5/5 [00:11<00:00,  2.29s/it]"
     ]
    },
    {
     "name": "stdout",
     "output_type": "stream",
     "text": [
      "[300]\tvalid_0's binary_logloss: 0.408385\tvalid_1's binary_logloss: 0.463404\n",
      "Early stopping, best iteration is:\n",
      "[215]\tvalid_0's binary_logloss: 0.416225\tvalid_1's binary_logloss: 0.463007\n"
     ]
    },
    {
     "name": "stderr",
     "output_type": "stream",
     "text": [
      "\n"
     ]
    }
   ],
   "source": [
    "params = {\n",
    "    'objective': 'binary',\n",
    "    'random_state': 100,\n",
    "}\n",
    "\n",
    "cat_list = ['jockey_id', 'trainer_id', 'place_id', 'race_type', 'turn', 'ground', 'weather', 'sex', 'father', 'mother', 'fathers_father', 'fathers_mother', 'mothers_father', 'mothers_mother']\n",
    "\n",
    "lgb_clf_o = lgb_o.train(params, lgb_o_train, valid_sets=[lgb_o_train, lgb_o_valid], verbose_eval=100, early_stopping_rounds=100, categorical_feature=cat_list)"
   ]
  },
  {
   "cell_type": "code",
   "execution_count": 97,
   "metadata": {},
   "outputs": [
    {
     "data": {
      "text/plain": [
       "{'objective': 'binary',\n",
       " 'random_state': 100,\n",
       " 'feature_pre_filter': False,\n",
       " 'lambda_l1': 9.927931426029202,\n",
       " 'lambda_l2': 2.2847450729790525e-08,\n",
       " 'num_leaves': 5,\n",
       " 'feature_fraction': 0.4,\n",
       " 'bagging_fraction': 1.0,\n",
       " 'bagging_freq': 0,\n",
       " 'min_child_samples': 20,\n",
       " 'num_iterations': 1000,\n",
       " 'early_stopping_round': 100,\n",
       " 'categorical_column': [3, 4, 5, 10, 11, 12, 13, 16, 30, 31, 32, 33, 34, 35]}"
      ]
     },
     "execution_count": 97,
     "metadata": {},
     "output_type": "execute_result"
    }
   ],
   "source": [
    "lgb_clf_o.params"
   ]
  },
  {
   "cell_type": "code",
   "execution_count": 100,
   "metadata": {},
   "outputs": [
    {
     "name": "stderr",
     "output_type": "stream",
     "text": [
      "c:\\work\\KeibaAI\\.venv\\lib\\site-packages\\lightgbm\\engine.py:177: UserWarning: Found `num_iterations` in params. Will use it instead of argument\n",
      "  _log_warning(f\"Found `{alias}` in params. Will use it instead of argument\")\n",
      "c:\\work\\KeibaAI\\.venv\\lib\\site-packages\\lightgbm\\engine.py:240: UserWarning: 'verbose_eval' argument is deprecated and will be removed in a future release of LightGBM. Pass 'log_evaluation()' callback via 'callbacks' argument instead.\n",
      "  _log_warning(\"'verbose_eval' argument is deprecated and will be removed in a future release of LightGBM. \"\n"
     ]
    },
    {
     "name": "stdout",
     "output_type": "stream",
     "text": [
      "[LightGBM] [Info] Number of positive: 31528, number of negative: 116705\n",
      "[LightGBM] [Warning] Auto-choosing col-wise multi-threading, the overhead of testing was 0.009872 seconds.\n",
      "You can set `force_col_wise=true` to remove the overhead.\n",
      "[LightGBM] [Info] Total Bins 19630\n",
      "[LightGBM] [Info] Number of data points in the train set: 148233, number of used features: 36\n",
      "[LightGBM] [Info] [binary:BoostFromScore]: pavg=0.212692 -> initscore=-1.308773\n",
      "[LightGBM] [Info] Start training from score -1.308773\n",
      "Training until validation scores don't improve for 100 rounds\n",
      "[50]\tvalid_0's binary_logloss: 0.466794\n",
      "[100]\tvalid_0's binary_logloss: 0.464787\n",
      "[150]\tvalid_0's binary_logloss: 0.464264\n",
      "[200]\tvalid_0's binary_logloss: 0.464616\n",
      "[250]\tvalid_0's binary_logloss: 0.464923\n",
      "Early stopping, best iteration is:\n",
      "[179]\tvalid_0's binary_logloss: 0.463945\n"
     ]
    }
   ],
   "source": [
    "lgb_train = lgb.Dataset(X_train, y_train)\n",
    "lgb_valid = lgb.Dataset(X_test, y_test)\n",
    "\n",
    "model = lgb.train(lgb_clf_o.params, lgb_train, valid_sets=lgb_valid, verbose_eval=50)"
   ]
  },
  {
   "cell_type": "code",
   "execution_count": 105,
   "metadata": {},
   "outputs": [],
   "source": [
    "y_pred_train = model.predict(X_train, num_iteration=model.best_iteration)\n",
    "y_pred = model.predict(X_test, num_iteration=model.best_iteration)"
   ]
  },
  {
   "cell_type": "code",
   "execution_count": 106,
   "metadata": {},
   "outputs": [],
   "source": [
    "from sklearn.metrics import roc_curve, roc_auc_score"
   ]
  },
  {
   "cell_type": "code",
   "execution_count": 107,
   "metadata": {},
   "outputs": [
    {
     "data": {
      "text/plain": [
       "0.7953444506668292"
      ]
     },
     "execution_count": 107,
     "metadata": {},
     "output_type": "execute_result"
    }
   ],
   "source": [
    "roc_auc_score(y_train, y_pred_train)"
   ]
  },
  {
   "cell_type": "code",
   "execution_count": 108,
   "metadata": {},
   "outputs": [
    {
     "data": {
      "text/plain": [
       "0.7358713485851867"
      ]
     },
     "execution_count": 108,
     "metadata": {},
     "output_type": "execute_result"
    }
   ],
   "source": [
    "roc_auc_score(y_test, y_pred)"
   ]
  },
  {
   "cell_type": "code",
   "execution_count": 109,
   "metadata": {},
   "outputs": [
    {
     "data": {
      "text/html": [
       "<div>\n",
       "<style scoped>\n",
       "    .dataframe tbody tr th:only-of-type {\n",
       "        vertical-align: middle;\n",
       "    }\n",
       "\n",
       "    .dataframe tbody tr th {\n",
       "        vertical-align: top;\n",
       "    }\n",
       "\n",
       "    .dataframe thead th {\n",
       "        text-align: right;\n",
       "    }\n",
       "</style>\n",
       "<table border=\"1\" class=\"dataframe\">\n",
       "  <thead>\n",
       "    <tr style=\"text-align: right;\">\n",
       "      <th></th>\n",
       "      <th>importance</th>\n",
       "    </tr>\n",
       "  </thead>\n",
       "  <tbody>\n",
       "    <tr>\n",
       "      <th>mother</th>\n",
       "      <td>143</td>\n",
       "    </tr>\n",
       "    <tr>\n",
       "      <th>mothers_mother</th>\n",
       "      <td>129</td>\n",
       "    </tr>\n",
       "    <tr>\n",
       "      <th>win_prise</th>\n",
       "      <td>50</td>\n",
       "    </tr>\n",
       "    <tr>\n",
       "      <th>trainer_id</th>\n",
       "      <td>47</td>\n",
       "    </tr>\n",
       "    <tr>\n",
       "      <th>jockey_id</th>\n",
       "      <td>46</td>\n",
       "    </tr>\n",
       "    <tr>\n",
       "      <th>mothers_father</th>\n",
       "      <td>43</td>\n",
       "    </tr>\n",
       "    <tr>\n",
       "      <th>horse_num</th>\n",
       "      <td>26</td>\n",
       "    </tr>\n",
       "    <tr>\n",
       "      <th>father</th>\n",
       "      <td>24</td>\n",
       "    </tr>\n",
       "    <tr>\n",
       "      <th>arriving_order_5R</th>\n",
       "      <td>21</td>\n",
       "    </tr>\n",
       "    <tr>\n",
       "      <th>fathers_mother</th>\n",
       "      <td>20</td>\n",
       "    </tr>\n",
       "    <tr>\n",
       "      <th>l_days</th>\n",
       "      <td>20</td>\n",
       "    </tr>\n",
       "    <tr>\n",
       "      <th>weigth</th>\n",
       "      <td>20</td>\n",
       "    </tr>\n",
       "    <tr>\n",
       "      <th>prise_5R</th>\n",
       "      <td>19</td>\n",
       "    </tr>\n",
       "    <tr>\n",
       "      <th>popularity_5R</th>\n",
       "      <td>18</td>\n",
       "    </tr>\n",
       "    <tr>\n",
       "      <th>place_id</th>\n",
       "      <td>17</td>\n",
       "    </tr>\n",
       "    <tr>\n",
       "      <th>time_diff_5R</th>\n",
       "      <td>15</td>\n",
       "    </tr>\n",
       "    <tr>\n",
       "      <th>last_three_furlong_5R</th>\n",
       "      <td>14</td>\n",
       "    </tr>\n",
       "    <tr>\n",
       "      <th>race_no</th>\n",
       "      <td>13</td>\n",
       "    </tr>\n",
       "    <tr>\n",
       "      <th>distance_5R</th>\n",
       "      <td>9</td>\n",
       "    </tr>\n",
       "    <tr>\n",
       "      <th>age</th>\n",
       "      <td>8</td>\n",
       "    </tr>\n",
       "  </tbody>\n",
       "</table>\n",
       "</div>"
      ],
      "text/plain": [
       "                       importance\n",
       "mother                        143\n",
       "mothers_mother                129\n",
       "win_prise                      50\n",
       "trainer_id                     47\n",
       "jockey_id                      46\n",
       "mothers_father                 43\n",
       "horse_num                      26\n",
       "father                         24\n",
       "arriving_order_5R              21\n",
       "fathers_mother                 20\n",
       "l_days                         20\n",
       "weigth                         20\n",
       "prise_5R                       19\n",
       "popularity_5R                  18\n",
       "place_id                       17\n",
       "time_diff_5R                   15\n",
       "last_three_furlong_5R          14\n",
       "race_no                        13\n",
       "distance_5R                     9\n",
       "age                             8"
      ]
     },
     "execution_count": 109,
     "metadata": {},
     "output_type": "execute_result"
    }
   ],
   "source": [
    "importances = pd.DataFrame(model.feature_importance(), index=X_train.columns, columns=['importance'])\n",
    "importances.sort_values('importance', ascending=False)[:20]"
   ]
  },
  {
   "cell_type": "code",
   "execution_count": 10,
   "metadata": {},
   "outputs": [
    {
     "data": {
      "text/html": [
       "<div>\n",
       "<style scoped>\n",
       "    .dataframe tbody tr th:only-of-type {\n",
       "        vertical-align: middle;\n",
       "    }\n",
       "\n",
       "    .dataframe tbody tr th {\n",
       "        vertical-align: top;\n",
       "    }\n",
       "\n",
       "    .dataframe thead th {\n",
       "        text-align: right;\n",
       "    }\n",
       "</style>\n",
       "<table border=\"1\" class=\"dataframe\">\n",
       "  <thead>\n",
       "    <tr style=\"text-align: right;\">\n",
       "      <th></th>\n",
       "      <th>horse_no</th>\n",
       "      <th>frame_no</th>\n",
       "      <th>horse_id</th>\n",
       "      <th>impost</th>\n",
       "      <th>jockey_id</th>\n",
       "      <th>trainer_id</th>\n",
       "      <th>date</th>\n",
       "      <th>place_id</th>\n",
       "      <th>hold_no</th>\n",
       "      <th>hold_day</th>\n",
       "      <th>...</th>\n",
       "      <th>turn</th>\n",
       "      <th>ground</th>\n",
       "      <th>weather</th>\n",
       "      <th>horse_num</th>\n",
       "      <th>month</th>\n",
       "      <th>sex</th>\n",
       "      <th>age</th>\n",
       "      <th>weight</th>\n",
       "      <th>weight_change</th>\n",
       "      <th>win_prise</th>\n",
       "    </tr>\n",
       "    <tr>\n",
       "      <th>race_id</th>\n",
       "      <th></th>\n",
       "      <th></th>\n",
       "      <th></th>\n",
       "      <th></th>\n",
       "      <th></th>\n",
       "      <th></th>\n",
       "      <th></th>\n",
       "      <th></th>\n",
       "      <th></th>\n",
       "      <th></th>\n",
       "      <th></th>\n",
       "      <th></th>\n",
       "      <th></th>\n",
       "      <th></th>\n",
       "      <th></th>\n",
       "      <th></th>\n",
       "      <th></th>\n",
       "      <th></th>\n",
       "      <th></th>\n",
       "      <th></th>\n",
       "      <th></th>\n",
       "    </tr>\n",
       "  </thead>\n",
       "  <tbody>\n",
       "    <tr>\n",
       "      <th>202206010502</th>\n",
       "      <td>1</td>\n",
       "      <td>1</td>\n",
       "      <td>2019100836</td>\n",
       "      <td>53.0</td>\n",
       "      <td>01192</td>\n",
       "      <td>01031</td>\n",
       "      <td>2022-01-15</td>\n",
       "      <td>6</td>\n",
       "      <td>1</td>\n",
       "      <td>5</td>\n",
       "      <td>...</td>\n",
       "      <td>右</td>\n",
       "      <td>稍</td>\n",
       "      <td>晴</td>\n",
       "      <td>16</td>\n",
       "      <td>20</td>\n",
       "      <td>牡</td>\n",
       "      <td>3</td>\n",
       "      <td>506</td>\n",
       "      <td>-6</td>\n",
       "      <td>520</td>\n",
       "    </tr>\n",
       "    <tr>\n",
       "      <th>202206010502</th>\n",
       "      <td>2</td>\n",
       "      <td>1</td>\n",
       "      <td>2019104854</td>\n",
       "      <td>56.0</td>\n",
       "      <td>05386</td>\n",
       "      <td>01103</td>\n",
       "      <td>2022-01-15</td>\n",
       "      <td>6</td>\n",
       "      <td>1</td>\n",
       "      <td>5</td>\n",
       "      <td>...</td>\n",
       "      <td>右</td>\n",
       "      <td>稍</td>\n",
       "      <td>晴</td>\n",
       "      <td>16</td>\n",
       "      <td>20</td>\n",
       "      <td>牡</td>\n",
       "      <td>3</td>\n",
       "      <td>542</td>\n",
       "      <td>0</td>\n",
       "      <td>520</td>\n",
       "    </tr>\n",
       "    <tr>\n",
       "      <th>202206010502</th>\n",
       "      <td>3</td>\n",
       "      <td>2</td>\n",
       "      <td>2019102082</td>\n",
       "      <td>55.0</td>\n",
       "      <td>01167</td>\n",
       "      <td>01048</td>\n",
       "      <td>2022-01-15</td>\n",
       "      <td>6</td>\n",
       "      <td>1</td>\n",
       "      <td>5</td>\n",
       "      <td>...</td>\n",
       "      <td>右</td>\n",
       "      <td>稍</td>\n",
       "      <td>晴</td>\n",
       "      <td>16</td>\n",
       "      <td>20</td>\n",
       "      <td>牡</td>\n",
       "      <td>3</td>\n",
       "      <td>518</td>\n",
       "      <td>0</td>\n",
       "      <td>520</td>\n",
       "    </tr>\n",
       "    <tr>\n",
       "      <th>202206010502</th>\n",
       "      <td>4</td>\n",
       "      <td>2</td>\n",
       "      <td>2019100328</td>\n",
       "      <td>56.0</td>\n",
       "      <td>01029</td>\n",
       "      <td>00392</td>\n",
       "      <td>2022-01-15</td>\n",
       "      <td>6</td>\n",
       "      <td>1</td>\n",
       "      <td>5</td>\n",
       "      <td>...</td>\n",
       "      <td>右</td>\n",
       "      <td>稍</td>\n",
       "      <td>晴</td>\n",
       "      <td>16</td>\n",
       "      <td>20</td>\n",
       "      <td>牡</td>\n",
       "      <td>3</td>\n",
       "      <td>482</td>\n",
       "      <td>2</td>\n",
       "      <td>520</td>\n",
       "    </tr>\n",
       "    <tr>\n",
       "      <th>202206010502</th>\n",
       "      <td>5</td>\n",
       "      <td>3</td>\n",
       "      <td>2019103586</td>\n",
       "      <td>56.0</td>\n",
       "      <td>01161</td>\n",
       "      <td>01115</td>\n",
       "      <td>2022-01-15</td>\n",
       "      <td>6</td>\n",
       "      <td>1</td>\n",
       "      <td>5</td>\n",
       "      <td>...</td>\n",
       "      <td>右</td>\n",
       "      <td>稍</td>\n",
       "      <td>晴</td>\n",
       "      <td>16</td>\n",
       "      <td>20</td>\n",
       "      <td>牡</td>\n",
       "      <td>3</td>\n",
       "      <td>494</td>\n",
       "      <td>4</td>\n",
       "      <td>520</td>\n",
       "    </tr>\n",
       "    <tr>\n",
       "      <th>...</th>\n",
       "      <td>...</td>\n",
       "      <td>...</td>\n",
       "      <td>...</td>\n",
       "      <td>...</td>\n",
       "      <td>...</td>\n",
       "      <td>...</td>\n",
       "      <td>...</td>\n",
       "      <td>...</td>\n",
       "      <td>...</td>\n",
       "      <td>...</td>\n",
       "      <td>...</td>\n",
       "      <td>...</td>\n",
       "      <td>...</td>\n",
       "      <td>...</td>\n",
       "      <td>...</td>\n",
       "      <td>...</td>\n",
       "      <td>...</td>\n",
       "      <td>...</td>\n",
       "      <td>...</td>\n",
       "      <td>...</td>\n",
       "      <td>...</td>\n",
       "    </tr>\n",
       "    <tr>\n",
       "      <th>202210010103</th>\n",
       "      <td>10</td>\n",
       "      <td>6</td>\n",
       "      <td>2019101260</td>\n",
       "      <td>56.0</td>\n",
       "      <td>01095</td>\n",
       "      <td>01039</td>\n",
       "      <td>2022-01-15</td>\n",
       "      <td>10</td>\n",
       "      <td>1</td>\n",
       "      <td>1</td>\n",
       "      <td>...</td>\n",
       "      <td>右</td>\n",
       "      <td>良</td>\n",
       "      <td>晴</td>\n",
       "      <td>14</td>\n",
       "      <td>20</td>\n",
       "      <td>牡</td>\n",
       "      <td>3</td>\n",
       "      <td>476</td>\n",
       "      <td>0</td>\n",
       "      <td>520</td>\n",
       "    </tr>\n",
       "    <tr>\n",
       "      <th>202210010103</th>\n",
       "      <td>11</td>\n",
       "      <td>7</td>\n",
       "      <td>2019104257</td>\n",
       "      <td>54.0</td>\n",
       "      <td>01093</td>\n",
       "      <td>01104</td>\n",
       "      <td>2022-01-15</td>\n",
       "      <td>10</td>\n",
       "      <td>1</td>\n",
       "      <td>1</td>\n",
       "      <td>...</td>\n",
       "      <td>右</td>\n",
       "      <td>良</td>\n",
       "      <td>晴</td>\n",
       "      <td>14</td>\n",
       "      <td>20</td>\n",
       "      <td>牝</td>\n",
       "      <td>3</td>\n",
       "      <td>408</td>\n",
       "      <td>-12</td>\n",
       "      <td>520</td>\n",
       "    </tr>\n",
       "    <tr>\n",
       "      <th>202210010103</th>\n",
       "      <td>12</td>\n",
       "      <td>7</td>\n",
       "      <td>2019104333</td>\n",
       "      <td>54.0</td>\n",
       "      <td>01178</td>\n",
       "      <td>00425</td>\n",
       "      <td>2022-01-15</td>\n",
       "      <td>10</td>\n",
       "      <td>1</td>\n",
       "      <td>1</td>\n",
       "      <td>...</td>\n",
       "      <td>右</td>\n",
       "      <td>良</td>\n",
       "      <td>晴</td>\n",
       "      <td>14</td>\n",
       "      <td>20</td>\n",
       "      <td>牝</td>\n",
       "      <td>3</td>\n",
       "      <td>458</td>\n",
       "      <td>8</td>\n",
       "      <td>520</td>\n",
       "    </tr>\n",
       "    <tr>\n",
       "      <th>202210010103</th>\n",
       "      <td>13</td>\n",
       "      <td>8</td>\n",
       "      <td>2019105870</td>\n",
       "      <td>56.0</td>\n",
       "      <td>01116</td>\n",
       "      <td>01078</td>\n",
       "      <td>2022-01-15</td>\n",
       "      <td>10</td>\n",
       "      <td>1</td>\n",
       "      <td>1</td>\n",
       "      <td>...</td>\n",
       "      <td>右</td>\n",
       "      <td>良</td>\n",
       "      <td>晴</td>\n",
       "      <td>14</td>\n",
       "      <td>20</td>\n",
       "      <td>牡</td>\n",
       "      <td>3</td>\n",
       "      <td>514</td>\n",
       "      <td>14</td>\n",
       "      <td>520</td>\n",
       "    </tr>\n",
       "    <tr>\n",
       "      <th>202210010103</th>\n",
       "      <td>14</td>\n",
       "      <td>8</td>\n",
       "      <td>2019102735</td>\n",
       "      <td>54.0</td>\n",
       "      <td>01157</td>\n",
       "      <td>00411</td>\n",
       "      <td>2022-01-15</td>\n",
       "      <td>10</td>\n",
       "      <td>1</td>\n",
       "      <td>1</td>\n",
       "      <td>...</td>\n",
       "      <td>右</td>\n",
       "      <td>良</td>\n",
       "      <td>晴</td>\n",
       "      <td>14</td>\n",
       "      <td>20</td>\n",
       "      <td>牝</td>\n",
       "      <td>3</td>\n",
       "      <td>462</td>\n",
       "      <td>-2</td>\n",
       "      <td>520</td>\n",
       "    </tr>\n",
       "  </tbody>\n",
       "</table>\n",
       "<p>70 rows × 23 columns</p>\n",
       "</div>"
      ],
      "text/plain": [
       "             horse_no frame_no    horse_id impost jockey_id trainer_id  \\\n",
       "race_id                                                                  \n",
       "202206010502        1        1  2019100836   53.0     01192      01031   \n",
       "202206010502        2        1  2019104854   56.0     05386      01103   \n",
       "202206010502        3        2  2019102082   55.0     01167      01048   \n",
       "202206010502        4        2  2019100328   56.0     01029      00392   \n",
       "202206010502        5        3  2019103586   56.0     01161      01115   \n",
       "...               ...      ...         ...    ...       ...        ...   \n",
       "202210010103       10        6  2019101260   56.0     01095      01039   \n",
       "202210010103       11        7  2019104257   54.0     01093      01104   \n",
       "202210010103       12        7  2019104333   54.0     01178      00425   \n",
       "202210010103       13        8  2019105870   56.0     01116      01078   \n",
       "202210010103       14        8  2019102735   54.0     01157      00411   \n",
       "\n",
       "                   date  place_id  hold_no  hold_day  ...  turn  ground  \\\n",
       "race_id                                               ...                 \n",
       "202206010502 2022-01-15         6        1         5  ...     右       稍   \n",
       "202206010502 2022-01-15         6        1         5  ...     右       稍   \n",
       "202206010502 2022-01-15         6        1         5  ...     右       稍   \n",
       "202206010502 2022-01-15         6        1         5  ...     右       稍   \n",
       "202206010502 2022-01-15         6        1         5  ...     右       稍   \n",
       "...                 ...       ...      ...       ...  ...   ...     ...   \n",
       "202210010103 2022-01-15        10        1         1  ...     右       良   \n",
       "202210010103 2022-01-15        10        1         1  ...     右       良   \n",
       "202210010103 2022-01-15        10        1         1  ...     右       良   \n",
       "202210010103 2022-01-15        10        1         1  ...     右       良   \n",
       "202210010103 2022-01-15        10        1         1  ...     右       良   \n",
       "\n",
       "             weather horse_num month sex  age  weight weight_change  win_prise  \n",
       "race_id                                                                         \n",
       "202206010502       晴        16    20   牡    3     506            -6        520  \n",
       "202206010502       晴        16    20   牡    3     542             0        520  \n",
       "202206010502       晴        16    20   牡    3     518             0        520  \n",
       "202206010502       晴        16    20   牡    3     482             2        520  \n",
       "202206010502       晴        16    20   牡    3     494             4        520  \n",
       "...              ...       ...   ...  ..  ...     ...           ...        ...  \n",
       "202210010103       晴        14    20   牡    3     476             0        520  \n",
       "202210010103       晴        14    20   牝    3     408           -12        520  \n",
       "202210010103       晴        14    20   牝    3     458             8        520  \n",
       "202210010103       晴        14    20   牡    3     514            14        520  \n",
       "202210010103       晴        14    20   牝    3     462            -2        520  \n",
       "\n",
       "[70 rows x 23 columns]"
      ]
     },
     "execution_count": 10,
     "metadata": {},
     "output_type": "execute_result"
    }
   ],
   "source": [
    "rc = RaceCard.scrape(['202206010502', '202207010502', '202207010503', '202210010102', '202210010103'], 20220115)\n",
    "rc.data_p"
   ]
  },
  {
   "cell_type": "code",
   "execution_count": 12,
   "metadata": {},
   "outputs": [
    {
     "data": {
      "application/vnd.jupyter.widget-view+json": {
       "model_id": "27670740587e429e9e859fc93abc33fe",
       "version_major": 2,
       "version_minor": 0
      },
      "text/plain": [
       "  0%|          | 0/1 [00:00<?, ?it/s]"
      ]
     },
     "metadata": {},
     "output_type": "display_data"
    }
   ],
   "source": [
    "rc.merge_horse_results(hr, ave_samples=5)\n",
    "rc.merge_peds(p)"
   ]
  },
  {
   "cell_type": "code",
   "execution_count": 16,
   "metadata": {},
   "outputs": [
    {
     "data": {
      "text/html": [
       "<div>\n",
       "<style scoped>\n",
       "    .dataframe tbody tr th:only-of-type {\n",
       "        vertical-align: middle;\n",
       "    }\n",
       "\n",
       "    .dataframe tbody tr th {\n",
       "        vertical-align: top;\n",
       "    }\n",
       "\n",
       "    .dataframe thead th {\n",
       "        text-align: right;\n",
       "    }\n",
       "</style>\n",
       "<table border=\"1\" class=\"dataframe\">\n",
       "  <thead>\n",
       "    <tr style=\"text-align: right;\">\n",
       "      <th></th>\n",
       "      <th>horse_no</th>\n",
       "      <th>frame_no</th>\n",
       "      <th>horse_id</th>\n",
       "      <th>impost</th>\n",
       "      <th>jockey_id</th>\n",
       "      <th>trainer_id</th>\n",
       "      <th>date</th>\n",
       "      <th>place_id</th>\n",
       "      <th>hold_no</th>\n",
       "      <th>hold_day</th>\n",
       "      <th>...</th>\n",
       "      <th>ground</th>\n",
       "      <th>weather</th>\n",
       "      <th>horse_num</th>\n",
       "      <th>month</th>\n",
       "      <th>rank</th>\n",
       "      <th>sex</th>\n",
       "      <th>age</th>\n",
       "      <th>weight</th>\n",
       "      <th>weight_change</th>\n",
       "      <th>win_prise</th>\n",
       "    </tr>\n",
       "    <tr>\n",
       "      <th>race_id</th>\n",
       "      <th></th>\n",
       "      <th></th>\n",
       "      <th></th>\n",
       "      <th></th>\n",
       "      <th></th>\n",
       "      <th></th>\n",
       "      <th></th>\n",
       "      <th></th>\n",
       "      <th></th>\n",
       "      <th></th>\n",
       "      <th></th>\n",
       "      <th></th>\n",
       "      <th></th>\n",
       "      <th></th>\n",
       "      <th></th>\n",
       "      <th></th>\n",
       "      <th></th>\n",
       "      <th></th>\n",
       "      <th></th>\n",
       "      <th></th>\n",
       "      <th></th>\n",
       "    </tr>\n",
       "  </thead>\n",
       "  <tbody>\n",
       "    <tr>\n",
       "      <th>201601010101</th>\n",
       "      <td>6</td>\n",
       "      <td>6</td>\n",
       "      <td>2014102322</td>\n",
       "      <td>52.0</td>\n",
       "      <td>01151</td>\n",
       "      <td>01024</td>\n",
       "      <td>2016-07-30</td>\n",
       "      <td>1</td>\n",
       "      <td>1</td>\n",
       "      <td>1</td>\n",
       "      <td>...</td>\n",
       "      <td>良</td>\n",
       "      <td>曇</td>\n",
       "      <td>10</td>\n",
       "      <td>20</td>\n",
       "      <td>1</td>\n",
       "      <td>牝</td>\n",
       "      <td>2</td>\n",
       "      <td>434</td>\n",
       "      <td>-4</td>\n",
       "      <td>500.0</td>\n",
       "    </tr>\n",
       "    <tr>\n",
       "      <th>201601010101</th>\n",
       "      <td>2</td>\n",
       "      <td>2</td>\n",
       "      <td>2014105971</td>\n",
       "      <td>54.0</td>\n",
       "      <td>00700</td>\n",
       "      <td>01066</td>\n",
       "      <td>2016-07-30</td>\n",
       "      <td>1</td>\n",
       "      <td>1</td>\n",
       "      <td>1</td>\n",
       "      <td>...</td>\n",
       "      <td>良</td>\n",
       "      <td>曇</td>\n",
       "      <td>10</td>\n",
       "      <td>20</td>\n",
       "      <td>1</td>\n",
       "      <td>牡</td>\n",
       "      <td>2</td>\n",
       "      <td>438</td>\n",
       "      <td>-2</td>\n",
       "      <td>500.0</td>\n",
       "    </tr>\n",
       "    <tr>\n",
       "      <th>201601010101</th>\n",
       "      <td>5</td>\n",
       "      <td>5</td>\n",
       "      <td>2014100723</td>\n",
       "      <td>54.0</td>\n",
       "      <td>01091</td>\n",
       "      <td>00359</td>\n",
       "      <td>2016-07-30</td>\n",
       "      <td>1</td>\n",
       "      <td>1</td>\n",
       "      <td>1</td>\n",
       "      <td>...</td>\n",
       "      <td>良</td>\n",
       "      <td>曇</td>\n",
       "      <td>10</td>\n",
       "      <td>20</td>\n",
       "      <td>1</td>\n",
       "      <td>牡</td>\n",
       "      <td>2</td>\n",
       "      <td>458</td>\n",
       "      <td>-2</td>\n",
       "      <td>500.0</td>\n",
       "    </tr>\n",
       "    <tr>\n",
       "      <th>201601010101</th>\n",
       "      <td>4</td>\n",
       "      <td>4</td>\n",
       "      <td>2014105192</td>\n",
       "      <td>51.0</td>\n",
       "      <td>01163</td>\n",
       "      <td>01046</td>\n",
       "      <td>2016-07-30</td>\n",
       "      <td>1</td>\n",
       "      <td>1</td>\n",
       "      <td>1</td>\n",
       "      <td>...</td>\n",
       "      <td>良</td>\n",
       "      <td>曇</td>\n",
       "      <td>10</td>\n",
       "      <td>20</td>\n",
       "      <td>0</td>\n",
       "      <td>牡</td>\n",
       "      <td>2</td>\n",
       "      <td>500</td>\n",
       "      <td>-4</td>\n",
       "      <td>500.0</td>\n",
       "    </tr>\n",
       "    <tr>\n",
       "      <th>201601010101</th>\n",
       "      <td>3</td>\n",
       "      <td>3</td>\n",
       "      <td>2014106056</td>\n",
       "      <td>54.0</td>\n",
       "      <td>01014</td>\n",
       "      <td>01058</td>\n",
       "      <td>2016-07-30</td>\n",
       "      <td>1</td>\n",
       "      <td>1</td>\n",
       "      <td>1</td>\n",
       "      <td>...</td>\n",
       "      <td>良</td>\n",
       "      <td>曇</td>\n",
       "      <td>10</td>\n",
       "      <td>20</td>\n",
       "      <td>0</td>\n",
       "      <td>牡</td>\n",
       "      <td>2</td>\n",
       "      <td>468</td>\n",
       "      <td>2</td>\n",
       "      <td>500.0</td>\n",
       "    </tr>\n",
       "  </tbody>\n",
       "</table>\n",
       "<p>5 rows × 24 columns</p>\n",
       "</div>"
      ],
      "text/plain": [
       "              horse_no  frame_no    horse_id  impost jockey_id trainer_id  \\\n",
       "race_id                                                                     \n",
       "201601010101         6         6  2014102322    52.0     01151      01024   \n",
       "201601010101         2         2  2014105971    54.0     00700      01066   \n",
       "201601010101         5         5  2014100723    54.0     01091      00359   \n",
       "201601010101         4         4  2014105192    51.0     01163      01046   \n",
       "201601010101         3         3  2014106056    54.0     01014      01058   \n",
       "\n",
       "                   date place_id  hold_no  hold_day  ...  ground  weather  \\\n",
       "race_id                                              ...                    \n",
       "201601010101 2016-07-30        1        1         1  ...       良        曇   \n",
       "201601010101 2016-07-30        1        1         1  ...       良        曇   \n",
       "201601010101 2016-07-30        1        1         1  ...       良        曇   \n",
       "201601010101 2016-07-30        1        1         1  ...       良        曇   \n",
       "201601010101 2016-07-30        1        1         1  ...       良        曇   \n",
       "\n",
       "             horse_num month rank sex  age  weight  weight_change win_prise  \n",
       "race_id                                                                      \n",
       "201601010101        10    20    1   牝    2     434             -4     500.0  \n",
       "201601010101        10    20    1   牡    2     438             -2     500.0  \n",
       "201601010101        10    20    1   牡    2     458             -2     500.0  \n",
       "201601010101        10    20    0   牡    2     500             -4     500.0  \n",
       "201601010101        10    20    0   牡    2     468              2     500.0  \n",
       "\n",
       "[5 rows x 24 columns]"
      ]
     },
     "execution_count": 16,
     "metadata": {},
     "output_type": "execute_result"
    }
   ],
   "source": [
    "r.data_p.head()"
   ]
  },
  {
   "cell_type": "code",
   "execution_count": 17,
   "metadata": {},
   "outputs": [
    {
     "data": {
      "text/html": [
       "<div>\n",
       "<style scoped>\n",
       "    .dataframe tbody tr th:only-of-type {\n",
       "        vertical-align: middle;\n",
       "    }\n",
       "\n",
       "    .dataframe tbody tr th {\n",
       "        vertical-align: top;\n",
       "    }\n",
       "\n",
       "    .dataframe thead th {\n",
       "        text-align: right;\n",
       "    }\n",
       "</style>\n",
       "<table border=\"1\" class=\"dataframe\">\n",
       "  <thead>\n",
       "    <tr style=\"text-align: right;\">\n",
       "      <th></th>\n",
       "      <th>horse_no</th>\n",
       "      <th>frame_no</th>\n",
       "      <th>horse_id</th>\n",
       "      <th>impost</th>\n",
       "      <th>jockey_id</th>\n",
       "      <th>trainer_id</th>\n",
       "      <th>date</th>\n",
       "      <th>place_id</th>\n",
       "      <th>hold_no</th>\n",
       "      <th>hold_day</th>\n",
       "      <th>...</th>\n",
       "      <th>last_three_furlong_5R</th>\n",
       "      <th>first_corner_5R</th>\n",
       "      <th>last_corner_5R</th>\n",
       "      <th>prise_5R</th>\n",
       "      <th>father</th>\n",
       "      <th>mother</th>\n",
       "      <th>fathers_father</th>\n",
       "      <th>fathers_mother</th>\n",
       "      <th>mothers_father</th>\n",
       "      <th>mothers_mother</th>\n",
       "    </tr>\n",
       "    <tr>\n",
       "      <th>race_id</th>\n",
       "      <th></th>\n",
       "      <th></th>\n",
       "      <th></th>\n",
       "      <th></th>\n",
       "      <th></th>\n",
       "      <th></th>\n",
       "      <th></th>\n",
       "      <th></th>\n",
       "      <th></th>\n",
       "      <th></th>\n",
       "      <th></th>\n",
       "      <th></th>\n",
       "      <th></th>\n",
       "      <th></th>\n",
       "      <th></th>\n",
       "      <th></th>\n",
       "      <th></th>\n",
       "      <th></th>\n",
       "      <th></th>\n",
       "      <th></th>\n",
       "      <th></th>\n",
       "    </tr>\n",
       "  </thead>\n",
       "  <tbody>\n",
       "    <tr>\n",
       "      <th>202206010502</th>\n",
       "      <td>1</td>\n",
       "      <td>1</td>\n",
       "      <td>31799</td>\n",
       "      <td>53.0</td>\n",
       "      <td>153</td>\n",
       "      <td>83</td>\n",
       "      <td>2022-01-15</td>\n",
       "      <td>6</td>\n",
       "      <td>1</td>\n",
       "      <td>5</td>\n",
       "      <td>...</td>\n",
       "      <td>39.600000</td>\n",
       "      <td>12.500000</td>\n",
       "      <td>12.500000</td>\n",
       "      <td>0.0</td>\n",
       "      <td>17006</td>\n",
       "      <td>11576</td>\n",
       "      <td>17007</td>\n",
       "      <td>2464</td>\n",
       "      <td>1699</td>\n",
       "      <td>9000</td>\n",
       "    </tr>\n",
       "    <tr>\n",
       "      <th>202206010502</th>\n",
       "      <td>2</td>\n",
       "      <td>1</td>\n",
       "      <td>33373</td>\n",
       "      <td>56.0</td>\n",
       "      <td>189</td>\n",
       "      <td>151</td>\n",
       "      <td>2022-01-15</td>\n",
       "      <td>6</td>\n",
       "      <td>1</td>\n",
       "      <td>5</td>\n",
       "      <td>...</td>\n",
       "      <td>42.200000</td>\n",
       "      <td>3.000000</td>\n",
       "      <td>4.000000</td>\n",
       "      <td>0.0</td>\n",
       "      <td>7668</td>\n",
       "      <td>15193</td>\n",
       "      <td>16493</td>\n",
       "      <td>10143</td>\n",
       "      <td>88</td>\n",
       "      <td>3121</td>\n",
       "    </tr>\n",
       "    <tr>\n",
       "      <th>202206010502</th>\n",
       "      <td>3</td>\n",
       "      <td>2</td>\n",
       "      <td>32260</td>\n",
       "      <td>55.0</td>\n",
       "      <td>128</td>\n",
       "      <td>97</td>\n",
       "      <td>2022-01-15</td>\n",
       "      <td>6</td>\n",
       "      <td>1</td>\n",
       "      <td>5</td>\n",
       "      <td>...</td>\n",
       "      <td>38.600000</td>\n",
       "      <td>7.000000</td>\n",
       "      <td>8.000000</td>\n",
       "      <td>0.0</td>\n",
       "      <td>13633</td>\n",
       "      <td>17771</td>\n",
       "      <td>10659</td>\n",
       "      <td>6730</td>\n",
       "      <td>12451</td>\n",
       "      <td>10943</td>\n",
       "    </tr>\n",
       "    <tr>\n",
       "      <th>202206010502</th>\n",
       "      <td>4</td>\n",
       "      <td>2</td>\n",
       "      <td>31581</td>\n",
       "      <td>56.0</td>\n",
       "      <td>33</td>\n",
       "      <td>21</td>\n",
       "      <td>2022-01-15</td>\n",
       "      <td>6</td>\n",
       "      <td>1</td>\n",
       "      <td>5</td>\n",
       "      <td>...</td>\n",
       "      <td>39.740000</td>\n",
       "      <td>11.400000</td>\n",
       "      <td>10.800000</td>\n",
       "      <td>0.0</td>\n",
       "      <td>13871</td>\n",
       "      <td>19841</td>\n",
       "      <td>1480</td>\n",
       "      <td>1162</td>\n",
       "      <td>4744</td>\n",
       "      <td>4710</td>\n",
       "    </tr>\n",
       "    <tr>\n",
       "      <th>202206010502</th>\n",
       "      <td>5</td>\n",
       "      <td>3</td>\n",
       "      <td>32813</td>\n",
       "      <td>56.0</td>\n",
       "      <td>122</td>\n",
       "      <td>163</td>\n",
       "      <td>2022-01-15</td>\n",
       "      <td>6</td>\n",
       "      <td>1</td>\n",
       "      <td>5</td>\n",
       "      <td>...</td>\n",
       "      <td>35.933333</td>\n",
       "      <td>1.666667</td>\n",
       "      <td>1.333333</td>\n",
       "      <td>160.0</td>\n",
       "      <td>13753</td>\n",
       "      <td>5392</td>\n",
       "      <td>7905</td>\n",
       "      <td>4964</td>\n",
       "      <td>10432</td>\n",
       "      <td>12063</td>\n",
       "    </tr>\n",
       "    <tr>\n",
       "      <th>...</th>\n",
       "      <td>...</td>\n",
       "      <td>...</td>\n",
       "      <td>...</td>\n",
       "      <td>...</td>\n",
       "      <td>...</td>\n",
       "      <td>...</td>\n",
       "      <td>...</td>\n",
       "      <td>...</td>\n",
       "      <td>...</td>\n",
       "      <td>...</td>\n",
       "      <td>...</td>\n",
       "      <td>...</td>\n",
       "      <td>...</td>\n",
       "      <td>...</td>\n",
       "      <td>...</td>\n",
       "      <td>...</td>\n",
       "      <td>...</td>\n",
       "      <td>...</td>\n",
       "      <td>...</td>\n",
       "      <td>...</td>\n",
       "      <td>...</td>\n",
       "    </tr>\n",
       "    <tr>\n",
       "      <th>202210010103</th>\n",
       "      <td>10</td>\n",
       "      <td>6</td>\n",
       "      <td>31942</td>\n",
       "      <td>56.0</td>\n",
       "      <td>66</td>\n",
       "      <td>89</td>\n",
       "      <td>2022-01-15</td>\n",
       "      <td>10</td>\n",
       "      <td>1</td>\n",
       "      <td>1</td>\n",
       "      <td>...</td>\n",
       "      <td>37.560000</td>\n",
       "      <td>3.400000</td>\n",
       "      <td>2.400000</td>\n",
       "      <td>142.0</td>\n",
       "      <td>17006</td>\n",
       "      <td>18083</td>\n",
       "      <td>17007</td>\n",
       "      <td>2464</td>\n",
       "      <td>9332</td>\n",
       "      <td>20911</td>\n",
       "    </tr>\n",
       "    <tr>\n",
       "      <th>202210010103</th>\n",
       "      <td>11</td>\n",
       "      <td>7</td>\n",
       "      <td>33090</td>\n",
       "      <td>54.0</td>\n",
       "      <td>65</td>\n",
       "      <td>152</td>\n",
       "      <td>2022-01-15</td>\n",
       "      <td>10</td>\n",
       "      <td>1</td>\n",
       "      <td>1</td>\n",
       "      <td>...</td>\n",
       "      <td>38.200000</td>\n",
       "      <td>7.000000</td>\n",
       "      <td>6.000000</td>\n",
       "      <td>0.0</td>\n",
       "      <td>18808</td>\n",
       "      <td>18689</td>\n",
       "      <td>11930</td>\n",
       "      <td>13903</td>\n",
       "      <td>18741</td>\n",
       "      <td>7891</td>\n",
       "    </tr>\n",
       "    <tr>\n",
       "      <th>202210010103</th>\n",
       "      <td>12</td>\n",
       "      <td>7</td>\n",
       "      <td>33115</td>\n",
       "      <td>54.0</td>\n",
       "      <td>139</td>\n",
       "      <td>41</td>\n",
       "      <td>2022-01-15</td>\n",
       "      <td>10</td>\n",
       "      <td>1</td>\n",
       "      <td>1</td>\n",
       "      <td>...</td>\n",
       "      <td>35.700000</td>\n",
       "      <td>2.800000</td>\n",
       "      <td>2.800000</td>\n",
       "      <td>70.8</td>\n",
       "      <td>9787</td>\n",
       "      <td>7981</td>\n",
       "      <td>4367</td>\n",
       "      <td>1594</td>\n",
       "      <td>8410</td>\n",
       "      <td>6855</td>\n",
       "    </tr>\n",
       "    <tr>\n",
       "      <th>202210010103</th>\n",
       "      <td>13</td>\n",
       "      <td>8</td>\n",
       "      <td>34490</td>\n",
       "      <td>56.0</td>\n",
       "      <td>81</td>\n",
       "      <td>126</td>\n",
       "      <td>2022-01-15</td>\n",
       "      <td>10</td>\n",
       "      <td>1</td>\n",
       "      <td>1</td>\n",
       "      <td>...</td>\n",
       "      <td>35.800000</td>\n",
       "      <td>1.000000</td>\n",
       "      <td>1.000000</td>\n",
       "      <td>180.0</td>\n",
       "      <td>15448</td>\n",
       "      <td>17169</td>\n",
       "      <td>9332</td>\n",
       "      <td>10133</td>\n",
       "      <td>4836</td>\n",
       "      <td>11163</td>\n",
       "    </tr>\n",
       "    <tr>\n",
       "      <th>202210010103</th>\n",
       "      <td>14</td>\n",
       "      <td>8</td>\n",
       "      <td>32500</td>\n",
       "      <td>54.0</td>\n",
       "      <td>118</td>\n",
       "      <td>31</td>\n",
       "      <td>2022-01-15</td>\n",
       "      <td>10</td>\n",
       "      <td>1</td>\n",
       "      <td>1</td>\n",
       "      <td>...</td>\n",
       "      <td>39.000000</td>\n",
       "      <td>9.200000</td>\n",
       "      <td>9.600000</td>\n",
       "      <td>15.4</td>\n",
       "      <td>14960</td>\n",
       "      <td>21337</td>\n",
       "      <td>5084</td>\n",
       "      <td>20413</td>\n",
       "      <td>15853</td>\n",
       "      <td>13565</td>\n",
       "    </tr>\n",
       "  </tbody>\n",
       "</table>\n",
       "<p>70 rows × 38 columns</p>\n",
       "</div>"
      ],
      "text/plain": [
       "             horse_no frame_no  horse_id impost  jockey_id  trainer_id  \\\n",
       "race_id                                                                  \n",
       "202206010502        1        1     31799   53.0        153          83   \n",
       "202206010502        2        1     33373   56.0        189         151   \n",
       "202206010502        3        2     32260   55.0        128          97   \n",
       "202206010502        4        2     31581   56.0         33          21   \n",
       "202206010502        5        3     32813   56.0        122         163   \n",
       "...               ...      ...       ...    ...        ...         ...   \n",
       "202210010103       10        6     31942   56.0         66          89   \n",
       "202210010103       11        7     33090   54.0         65         152   \n",
       "202210010103       12        7     33115   54.0        139          41   \n",
       "202210010103       13        8     34490   56.0         81         126   \n",
       "202210010103       14        8     32500   54.0        118          31   \n",
       "\n",
       "                   date  place_id  hold_no  hold_day  ...  \\\n",
       "race_id                                               ...   \n",
       "202206010502 2022-01-15         6        1         5  ...   \n",
       "202206010502 2022-01-15         6        1         5  ...   \n",
       "202206010502 2022-01-15         6        1         5  ...   \n",
       "202206010502 2022-01-15         6        1         5  ...   \n",
       "202206010502 2022-01-15         6        1         5  ...   \n",
       "...                 ...       ...      ...       ...  ...   \n",
       "202210010103 2022-01-15        10        1         1  ...   \n",
       "202210010103 2022-01-15        10        1         1  ...   \n",
       "202210010103 2022-01-15        10        1         1  ...   \n",
       "202210010103 2022-01-15        10        1         1  ...   \n",
       "202210010103 2022-01-15        10        1         1  ...   \n",
       "\n",
       "              last_three_furlong_5R  first_corner_5R  last_corner_5R  \\\n",
       "race_id                                                                \n",
       "202206010502              39.600000        12.500000       12.500000   \n",
       "202206010502              42.200000         3.000000        4.000000   \n",
       "202206010502              38.600000         7.000000        8.000000   \n",
       "202206010502              39.740000        11.400000       10.800000   \n",
       "202206010502              35.933333         1.666667        1.333333   \n",
       "...                             ...              ...             ...   \n",
       "202210010103              37.560000         3.400000        2.400000   \n",
       "202210010103              38.200000         7.000000        6.000000   \n",
       "202210010103              35.700000         2.800000        2.800000   \n",
       "202210010103              35.800000         1.000000        1.000000   \n",
       "202210010103              39.000000         9.200000        9.600000   \n",
       "\n",
       "              prise_5R  father  mother  fathers_father  fathers_mother  \\\n",
       "race_id                                                                  \n",
       "202206010502       0.0   17006   11576           17007            2464   \n",
       "202206010502       0.0    7668   15193           16493           10143   \n",
       "202206010502       0.0   13633   17771           10659            6730   \n",
       "202206010502       0.0   13871   19841            1480            1162   \n",
       "202206010502     160.0   13753    5392            7905            4964   \n",
       "...                ...     ...     ...             ...             ...   \n",
       "202210010103     142.0   17006   18083           17007            2464   \n",
       "202210010103       0.0   18808   18689           11930           13903   \n",
       "202210010103      70.8    9787    7981            4367            1594   \n",
       "202210010103     180.0   15448   17169            9332           10133   \n",
       "202210010103      15.4   14960   21337            5084           20413   \n",
       "\n",
       "              mothers_father  mothers_mother  \n",
       "race_id                                       \n",
       "202206010502            1699            9000  \n",
       "202206010502              88            3121  \n",
       "202206010502           12451           10943  \n",
       "202206010502            4744            4710  \n",
       "202206010502           10432           12063  \n",
       "...                      ...             ...  \n",
       "202210010103            9332           20911  \n",
       "202210010103           18741            7891  \n",
       "202210010103            8410            6855  \n",
       "202210010103            4836           11163  \n",
       "202210010103           15853           13565  \n",
       "\n",
       "[70 rows x 38 columns]"
      ]
     },
     "execution_count": 17,
     "metadata": {},
     "output_type": "execute_result"
    }
   ],
   "source": [
    "rc.process_categorical(r)\n",
    "rc.data_c"
   ]
  },
  {
   "cell_type": "code",
   "execution_count": 23,
   "metadata": {},
   "outputs": [
    {
     "name": "stdout",
     "output_type": "stream",
     "text": [
      "<class 'pandas.core.frame.DataFrame'>\n",
      "Index: 276689 entries, 201601010101 to 202110040812\n",
      "Data columns (total 24 columns):\n",
      " #   Column         Non-Null Count   Dtype         \n",
      "---  ------         --------------   -----         \n",
      " 0   horse_no       276689 non-null  int64         \n",
      " 1   frame_no       276689 non-null  int64         \n",
      " 2   horse_id       276689 non-null  object        \n",
      " 3   impost         276689 non-null  float64       \n",
      " 4   jockey_id      276689 non-null  object        \n",
      " 5   trainer_id     276689 non-null  object        \n",
      " 6   date           276689 non-null  datetime64[ns]\n",
      " 7   place_id       276689 non-null  object        \n",
      " 8   hold_no        276689 non-null  int64         \n",
      " 9   hold_day       276689 non-null  int64         \n",
      " 10  race_no        276689 non-null  int64         \n",
      " 11  distance       276689 non-null  int64         \n",
      " 12  race_type      276689 non-null  object        \n",
      " 13  turn           276689 non-null  object        \n",
      " 14  ground         276689 non-null  object        \n",
      " 15  weather        276689 non-null  object        \n",
      " 16  horse_num      276689 non-null  int64         \n",
      " 17  month          276689 non-null  int64         \n",
      " 18  rank           276689 non-null  int64         \n",
      " 19  sex            276689 non-null  object        \n",
      " 20  age            276689 non-null  int32         \n",
      " 21  weight         276689 non-null  int32         \n",
      " 22  weight_change  276689 non-null  int32         \n",
      " 23  win_prise      276689 non-null  float64       \n",
      "dtypes: datetime64[ns](1), float64(2), int32(3), int64(9), object(9)\n",
      "memory usage: 49.6+ MB\n"
     ]
    }
   ],
   "source": [
    "r.data_p.info()"
   ]
  },
  {
   "cell_type": "code",
   "execution_count": 22,
   "metadata": {},
   "outputs": [
    {
     "name": "stdout",
     "output_type": "stream",
     "text": [
      "<class 'pandas.core.frame.DataFrame'>\n",
      "Index: 70 entries, 202206010502 to 202210010103\n",
      "Data columns (total 23 columns):\n",
      " #   Column         Non-Null Count  Dtype         \n",
      "---  ------         --------------  -----         \n",
      " 0   horse_no       70 non-null     object        \n",
      " 1   frame_no       70 non-null     object        \n",
      " 2   horse_id       70 non-null     object        \n",
      " 3   impost         70 non-null     object        \n",
      " 4   jockey_id      70 non-null     object        \n",
      " 5   trainer_id     70 non-null     object        \n",
      " 6   date           70 non-null     datetime64[ns]\n",
      " 7   place_id       70 non-null     int64         \n",
      " 8   hold_no        70 non-null     int64         \n",
      " 9   hold_day       70 non-null     int64         \n",
      " 10  race_no        70 non-null     int64         \n",
      " 11  distance       70 non-null     int64         \n",
      " 12  race_type      70 non-null     object        \n",
      " 13  turn           70 non-null     object        \n",
      " 14  ground         70 non-null     object        \n",
      " 15  weather        70 non-null     object        \n",
      " 16  horse_num      70 non-null     int64         \n",
      " 17  month          70 non-null     int64         \n",
      " 18  sex            70 non-null     object        \n",
      " 19  age            70 non-null     int32         \n",
      " 20  weight         70 non-null     int32         \n",
      " 21  weight_change  70 non-null     int32         \n",
      " 22  win_prise      70 non-null     int64         \n",
      "dtypes: datetime64[ns](1), int32(3), int64(8), object(11)\n",
      "memory usage: 12.3+ KB\n"
     ]
    }
   ],
   "source": [
    "rc.data_p.info()"
   ]
  }
 ],
 "metadata": {
  "interpreter": {
   "hash": "208ec6d98a9bf9268861c3f116d108cfaafb6eb07f8ee472fcb0ce6ff0c21c4a"
  },
  "kernelspec": {
   "display_name": "Python 3.9.7 64-bit ('.venv': venv)",
   "language": "python",
   "name": "python3"
  },
  "language_info": {
   "codemirror_mode": {
    "name": "ipython",
    "version": 3
   },
   "file_extension": ".py",
   "mimetype": "text/x-python",
   "name": "python",
   "nbconvert_exporter": "python",
   "pygments_lexer": "ipython3",
   "version": "3.9.7"
  },
  "orig_nbformat": 4
 },
 "nbformat": 4,
 "nbformat_minor": 2
}
